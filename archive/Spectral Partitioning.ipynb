{
 "cells": [
  {
   "cell_type": "code",
   "execution_count": 19,
   "metadata": {},
   "outputs": [
    {
     "name": "stdout",
     "output_type": "stream",
     "text": [
      "Populating the interactive namespace from numpy and matplotlib\n"
     ]
    },
    {
     "name": "stderr",
     "output_type": "stream",
     "text": [
      "C:\\Anaconda3\\lib\\site-packages\\IPython\\core\\magics\\pylab.py:161: UserWarning: pylab import has clobbered these variables: ['pi', 'choose', 'norm']\n",
      "`%matplotlib` prevents importing * from pylab and numpy\n",
      "  \"\\n`%matplotlib` prevents importing * from pylab and numpy\"\n"
     ]
    }
   ],
   "source": [
    "%pylab inline\n",
    "from scipy.stats import norm\n",
    "from rpy2.robjects.packages import importr\n",
    "from rpy2 import robjects\n",
    "pdf = norm.pdf"
   ]
  },
  {
   "cell_type": "code",
   "execution_count": 2,
   "metadata": {},
   "outputs": [],
   "source": [
    "utils = importr('utils')\n",
    "mclust = importr('mclust')"
   ]
  },
  {
   "cell_type": "code",
   "execution_count": 3,
   "metadata": {
    "collapsed": true
   },
   "outputs": [],
   "source": [
    "def choose(n, k):\n",
    "    if n < k:\n",
    "        return 0\n",
    "    \n",
    "    else:\n",
    "        num = math.factorial(n)\n",
    "        den = math.factorial(k)*math.factorial(n - k)\n",
    "    return int(num/den)"
   ]
  },
  {
   "cell_type": "code",
   "execution_count": 4,
   "metadata": {
    "collapsed": true
   },
   "outputs": [],
   "source": [
    "def gen_pi(K = 4, v = 20, acorn = 1234):\n",
    "    np.random.seed(acorn)\n",
    "    #Taken from Bijan\n",
    "    \n",
    "    while True:\n",
    "        pi_0 = np.random.uniform(size=K) # Generate K Uniform(0,1) random variables\n",
    "        pisum = np.sum(pi_0) # Calculate the sum of the K generated Uniform(0,1) random variables\n",
    "        pi = [i/pisum for i in pi_0] # Normalize so that sum(pi) = 1\n",
    "        Nv = [int(round(i*v)) for i in pi] # Round so that each block has an integer-valued amount of vertices\n",
    "        if not 0 in Nv and np.sum(Nv)==v: # Make sure no block has 0 vertices and the sum of all vertices is correct\n",
    "            break\n",
    "    return pi, Nv # returns the vertex assignment distribution and the number of vertices in each block"
   ]
  },
  {
   "cell_type": "code",
   "execution_count": 5,
   "metadata": {
    "collapsed": true
   },
   "outputs": [],
   "source": [
    "def gen_Lambda(K, acorn=1234, ones_ = False):\n",
    "    if ones_ == True:\n",
    "        return np.ones(shape = (K, K))\n",
    "    \n",
    "    np.random.seed(acorn)\n",
    "    Lambda = zeros(shape = (K, K)) # K x K matrix to store adjacency probabilities\n",
    "    for i in range(K): # for each block\n",
    "        for j in range(i, K): # for each combination (with replacement)\n",
    "            Lambda[i, j] = np.random.uniform() # generate a Uniform(0,1) random variable\n",
    "            Lambda[j, i] = Lambda[i, j] # Lambda is symmetric\n",
    "                   \n",
    "    return Lambda # returns a K x K, symmetric matrix where Lambda[i,j] in (0, 1)"
   ]
  },
  {
   "cell_type": "code",
   "execution_count": 6,
   "metadata": {
    "collapsed": true
   },
   "outputs": [],
   "source": [
    "def adj_matrix(n, pi, Lambda, acorn = 1234):\n",
    "    np.random.seed(acorn)\n",
    "    n = int(n) # Just in case!\n",
    "    A = np.zeros(shape = (n, n)) # n x n adjcacency matrix\n",
    "    K = len(pi) # extract the number of blocks in the SBM\n",
    "    \n",
    "    i = 0 # start at block indexed with 0\n",
    "    while i < K: # while the block number is less than the total number of blocks\n",
    "        for k in range(int(round(n*(sum(pi[:i])))), int(round(n*(sum(pi[:i + 1]))))): # for all vertices in block i\n",
    "            c = i # start at block i\n",
    "            while c < K: # while the block number is less than the total number of blocks\n",
    "                for j in range(int(round(n*(sum(pi[:c])))), int(round(n*(sum(pi[:c + 1]))))): # for all vertices in block c\n",
    "                    A[k, j] = np.random.binomial(1, Lambda[i, c]) # generates and assigns an edge based on block membership\n",
    "                    A[j, k] = A[k, j] # A is symmetric\n",
    "                c += 1\n",
    "            A[k,k] = 0 # A is hollow\n",
    "        i += 1\n",
    "        \n",
    "    return A # returns an n x n, symmetric and hollow matrix where A[i,j] in {0, 1}"
   ]
  },
  {
   "cell_type": "code",
   "execution_count": 7,
   "metadata": {
    "collapsed": true
   },
   "outputs": [],
   "source": [
    "def gen_seeds(Nv, seed_ratio, acorn = 1234):\n",
    "    np.random.seed(acorn)\n",
    "    \n",
    "    K = len(Nv)\n",
    "    \n",
    "    num_seeds = [int(round(seed_ratio*Nv)) for i in range(K)]\n",
    "    seeds = [[] for i in m]\n",
    "    for i in range(K):\n",
    "        for j in range(num_seeds[i]):\n",
    "            index = np.random.randint(j)"
   ]
  },
  {
   "cell_type": "code",
   "execution_count": 8,
   "metadata": {
    "collapsed": true
   },
   "outputs": [],
   "source": [
    "def gen_nomination_list(likelihoods, unlabeled):\n",
    "    nom_list = []\n",
    "        \n",
    "    return nom_list"
   ]
  },
  {
   "cell_type": "code",
   "execution_count": 9,
   "metadata": {},
   "outputs": [
    {
     "name": "stdout",
     "output_type": "stream",
     "text": [
      "[[0.5507979  0.70814782 0.29090474 0.51082761]\n",
      " [0.70814782 0.89294695 0.89629309 0.12558531]\n",
      " [0.29090474 0.89629309 0.20724288 0.0514672 ]\n",
      " [0.51082761 0.12558531 0.0514672  0.44080984]]\n"
     ]
    }
   ],
   "source": [
    "K = 3 # number of blocks \n",
    "v = 30 # number of vertices\n",
    "v_list = list(np.arange(v))\n",
    "labeled_ratio = 0.25 # ratio of labeled vertices\n",
    "m = int(round(labeled_ratio*v)) # number of labeled vertices\n",
    "n = int(v - m) # number of unlabeled vertices\n",
    "\n",
    "pi, Nv = gen_pi(K, v, acorn = 123) # generate vertex distribution, total number of vertices in each block\n",
    "mv = [int(round(labeled_ratio*Nv[i])) for i in range(K)] # generate the number of labeled vertices in each block\n",
    "seeds = [[] for i in range(K)] # generate a list to store seed indices\n",
    "\n",
    "nv = [int(round((1 - labeled_ratio)*Nv[i])) for i in range(K)] # generate the number of unlabeled vertices in each block\n",
    "L = gen_Lambda(4, acorn = 3, ones_ = False) # generate adjacency probability matrix\n",
    "print(L)"
   ]
  },
  {
   "cell_type": "code",
   "execution_count": 10,
   "metadata": {},
   "outputs": [
    {
     "name": "stdout",
     "output_type": "stream",
     "text": [
      "[[0. 0. 1. 1. 1. 1. 0. 0. 1. 0. 1. 1. 1. 1. 0. 1. 0. 1. 0. 1. 1. 0. 0. 1.\n",
      "  0. 0. 0. 0. 1. 0.]\n",
      " [0. 0. 0. 1. 0. 1. 0. 0. 0. 0. 0. 0. 0. 1. 1. 0. 1. 1. 1. 0. 0. 0. 1. 1.\n",
      "  0. 0. 0. 0. 0. 0.]\n",
      " [1. 0. 0. 1. 1. 0. 1. 1. 1. 1. 1. 0. 0. 1. 1. 1. 1. 1. 1. 1. 1. 1. 1. 0.\n",
      "  0. 0. 1. 1. 0. 0.]\n",
      " [1. 1. 1. 0. 1. 0. 1. 0. 0. 0. 0. 1. 0. 1. 0. 1. 1. 0. 0. 1. 1. 1. 0. 0.\n",
      "  0. 0. 0. 0. 0. 0.]\n",
      " [1. 0. 1. 1. 0. 1. 1. 1. 1. 0. 1. 1. 0. 1. 0. 0. 1. 0. 0. 0. 1. 1. 1. 1.\n",
      "  1. 0. 1. 0. 0. 0.]\n",
      " [1. 1. 0. 0. 1. 0. 0. 0. 1. 1. 1. 0. 0. 1. 1. 0. 1. 1. 1. 0. 1. 1. 1. 1.\n",
      "  1. 1. 0. 0. 0. 1.]\n",
      " [0. 0. 1. 1. 1. 0. 0. 0. 0. 1. 1. 1. 1. 0. 0. 0. 0. 0. 1. 1. 1. 1. 1. 0.\n",
      "  1. 0. 0. 1. 0. 0.]\n",
      " [0. 0. 1. 0. 1. 0. 0. 0. 0. 0. 1. 0. 1. 1. 1. 0. 0. 1. 1. 0. 1. 1. 0. 1.\n",
      "  0. 0. 0. 0. 0. 0.]\n",
      " [1. 0. 1. 0. 1. 1. 0. 0. 0. 1. 0. 0. 0. 1. 1. 1. 1. 1. 0. 1. 1. 1. 1. 0.\n",
      "  1. 0. 0. 0. 0. 1.]\n",
      " [0. 0. 1. 0. 0. 1. 1. 0. 1. 0. 1. 1. 1. 1. 0. 1. 0. 1. 0. 1. 1. 1. 1. 1.\n",
      "  1. 1. 0. 0. 0. 0.]\n",
      " [1. 0. 1. 0. 1. 1. 1. 1. 0. 1. 0. 1. 0. 1. 0. 1. 0. 1. 1. 1. 1. 1. 1. 1.\n",
      "  0. 0. 0. 1. 0. 0.]\n",
      " [1. 0. 0. 1. 1. 0. 1. 0. 0. 1. 1. 0. 1. 0. 1. 1. 0. 0. 1. 0. 1. 1. 1. 1.\n",
      "  0. 0. 1. 0. 1. 0.]\n",
      " [1. 0. 0. 0. 0. 0. 1. 1. 0. 1. 0. 1. 0. 0. 1. 0. 0. 1. 1. 1. 0. 1. 1. 1.\n",
      "  0. 0. 0. 0. 0. 0.]\n",
      " [1. 1. 1. 1. 1. 1. 0. 1. 1. 1. 1. 0. 0. 0. 0. 1. 1. 1. 1. 0. 0. 1. 1. 0.\n",
      "  1. 1. 1. 0. 1. 0.]\n",
      " [0. 1. 1. 0. 0. 1. 0. 1. 1. 0. 0. 1. 1. 0. 0. 1. 1. 1. 1. 1. 1. 1. 1. 1.\n",
      "  0. 0. 1. 1. 0. 1.]\n",
      " [1. 0. 1. 1. 0. 0. 0. 0. 1. 1. 1. 1. 0. 1. 1. 0. 1. 1. 1. 0. 1. 1. 1. 0.\n",
      "  0. 1. 1. 0. 0. 0.]\n",
      " [0. 1. 1. 1. 1. 1. 0. 0. 1. 0. 0. 0. 0. 1. 1. 1. 0. 1. 1. 1. 1. 1. 1. 1.\n",
      "  0. 0. 0. 0. 0. 0.]\n",
      " [1. 1. 1. 0. 0. 1. 0. 1. 1. 1. 1. 0. 1. 1. 1. 1. 1. 0. 1. 1. 1. 1. 1. 1.\n",
      "  1. 1. 1. 1. 1. 0.]\n",
      " [0. 1. 1. 0. 0. 1. 1. 1. 0. 0. 1. 1. 1. 1. 1. 1. 1. 1. 0. 1. 1. 1. 1. 1.\n",
      "  1. 1. 1. 1. 1. 1.]\n",
      " [1. 0. 1. 1. 0. 0. 1. 0. 1. 1. 1. 0. 1. 0. 1. 0. 1. 1. 1. 0. 1. 1. 1. 1.\n",
      "  1. 1. 1. 1. 1. 1.]\n",
      " [1. 0. 1. 1. 1. 1. 1. 1. 1. 1. 1. 1. 0. 0. 1. 1. 1. 1. 1. 1. 0. 1. 1. 1.\n",
      "  1. 0. 1. 1. 1. 1.]\n",
      " [0. 0. 1. 1. 1. 1. 1. 1. 1. 1. 1. 1. 1. 1. 1. 1. 1. 1. 1. 1. 1. 0. 1. 1.\n",
      "  1. 1. 1. 0. 1. 1.]\n",
      " [0. 1. 1. 0. 1. 1. 1. 0. 1. 1. 1. 1. 1. 1. 1. 1. 1. 1. 1. 1. 1. 1. 0. 1.\n",
      "  1. 1. 1. 1. 0. 0.]\n",
      " [1. 1. 0. 0. 1. 1. 0. 1. 0. 1. 1. 1. 1. 0. 1. 0. 1. 1. 1. 1. 1. 1. 1. 0.\n",
      "  1. 1. 1. 0. 1. 1.]\n",
      " [0. 0. 0. 0. 1. 1. 1. 0. 1. 1. 0. 0. 0. 1. 0. 0. 0. 1. 1. 1. 1. 1. 1. 1.\n",
      "  0. 1. 1. 0. 0. 0.]\n",
      " [0. 0. 0. 0. 0. 1. 0. 0. 0. 1. 0. 0. 0. 1. 0. 1. 0. 1. 1. 1. 0. 1. 1. 1.\n",
      "  1. 0. 0. 0. 0. 0.]\n",
      " [0. 0. 1. 0. 1. 0. 0. 0. 0. 0. 0. 1. 0. 1. 1. 1. 0. 1. 1. 1. 1. 1. 1. 1.\n",
      "  1. 0. 0. 1. 0. 0.]\n",
      " [0. 0. 1. 0. 0. 0. 1. 0. 0. 0. 1. 0. 0. 0. 1. 0. 0. 1. 1. 1. 1. 0. 1. 0.\n",
      "  0. 0. 1. 0. 0. 1.]\n",
      " [1. 0. 0. 0. 0. 0. 0. 0. 0. 0. 0. 1. 0. 1. 0. 0. 0. 1. 1. 1. 1. 1. 0. 1.\n",
      "  0. 0. 0. 0. 0. 1.]\n",
      " [0. 0. 0. 0. 0. 1. 0. 0. 1. 0. 0. 0. 0. 0. 1. 0. 0. 0. 1. 1. 1. 1. 0. 1.\n",
      "  0. 0. 0. 1. 1. 0.]]\n"
     ]
    }
   ],
   "source": [
    "A = adj_matrix(v, pi, L, acorn = 100) # generate adjacency matrix\n",
    "print(A)"
   ]
  },
  {
   "cell_type": "code",
   "execution_count": 11,
   "metadata": {},
   "outputs": [
    {
     "data": {
      "text/plain": [
       "[[0, 1, 2, 3], [18, 19], [26, 27]]"
      ]
     },
     "execution_count": 11,
     "metadata": {},
     "output_type": "execute_result"
    }
   ],
   "source": [
    "\"\"\" Use when permutation matrix has identity in top left \"\"\"\n",
    "#count = 0 # first seed is indexed at 0\n",
    "#for i in range(K): # for all blocks.. \n",
    "#    for k in range(mv[i]): # for the number of seeds in each block..\n",
    "#        seeds[i].append(count) # append the count to the list of seeds\n",
    "#        count += 1 # update \n",
    "        \n",
    "\"\"\" Use when adjacency matrix is not permuted \"\"\"\n",
    "for i in range(K): # for all blocks.. \n",
    "    for k in range(mv[i]): # for the number of seeds in each block..\n",
    "        seeds[i].append(int(i + k + sum(Nv[:i]))) # append the count to the list of seeds\n",
    "\n",
    "all_seeds = []\n",
    "for i in range(K):\n",
    "    for j in range(len(seeds[i])):\n",
    "        all_seeds.append(seeds[i][j])\n",
    "\n",
    "unlabeled = [item for item in v_list if item not in all_seeds]\n",
    "seeds"
   ]
  },
  {
   "cell_type": "code",
   "execution_count": 12,
   "metadata": {},
   "outputs": [
    {
     "data": {
      "text/plain": [
       "(array([[-1.54129061e-01,  2.06953525e-01, -2.89993781e-01,\n",
       "          3.06226001e-01,  2.39508498e-01, -3.84150517e-02,\n",
       "          1.48541794e-01, -8.37146373e-02,  2.07368273e-01,\n",
       "          4.78882047e-02, -6.56366404e-02,  1.47190060e-01,\n",
       "         -3.83214333e-01,  1.51404844e-01, -1.02378790e-01,\n",
       "         -6.84076177e-02, -2.66422535e-01,  2.78768929e-02,\n",
       "          6.93211749e-02, -8.20951965e-02, -5.11520587e-03,\n",
       "          6.92499350e-02, -6.48541637e-02, -9.58047072e-02,\n",
       "         -1.97592359e-01,  1.41444543e-01,  3.64137761e-01,\n",
       "         -1.75654500e-01,  2.94096278e-01,  3.03817125e-02],\n",
       "        [-1.00915849e-01,  4.87234420e-02,  1.77498503e-01,\n",
       "          1.54596519e-01, -8.68364464e-02,  2.74156217e-01,\n",
       "          2.24790267e-01,  2.07510045e-01,  2.17222378e-01,\n",
       "          2.16718401e-01,  1.53486258e-01, -1.38335420e-01,\n",
       "         -6.07099095e-02, -3.13413218e-01, -1.17005142e-01,\n",
       "         -2.15294939e-01,  1.92705087e-01,  1.61934916e-01,\n",
       "         -2.29321169e-01,  1.81964368e-01, -6.31959362e-02,\n",
       "          1.18170363e-04, -1.00946283e-01, -3.19756852e-01,\n",
       "         -1.58639894e-01, -2.86677037e-01,  1.04014704e-01,\n",
       "         -1.38691197e-01, -1.74299301e-01,  1.53848974e-01],\n",
       "        [-2.09205281e-01, -9.99604291e-02,  2.62165214e-01,\n",
       "         -8.15354447e-02,  2.34734635e-01, -1.15035649e-01,\n",
       "          1.19929314e-01, -1.92520992e-02, -1.06509861e-01,\n",
       "          2.14446126e-01, -2.67923510e-01, -3.33865030e-02,\n",
       "          2.59889165e-01, -2.16332872e-03, -1.60328218e-01,\n",
       "         -2.42693223e-01, -1.44551577e-01,  2.51310876e-01,\n",
       "          1.82092171e-01, -4.87774098e-01, -1.52633736e-01,\n",
       "          6.44853014e-02, -2.69401103e-01, -8.05084475e-02,\n",
       "          1.43517826e-01, -1.11447048e-01,  1.58418354e-02,\n",
       "          9.80407668e-02,  1.09152202e-02, -2.73225119e-02],\n",
       "        [-1.23897249e-01,  1.86875261e-01, -7.56779680e-02,\n",
       "         -2.50152859e-01,  3.80058432e-01, -7.63630189e-02,\n",
       "         -3.31766856e-01, -2.61546133e-02, -1.87258149e-01,\n",
       "          1.91204566e-01, -2.35959441e-01, -9.12953367e-02,\n",
       "         -1.00850981e-01,  9.64799707e-03,  8.21699071e-03,\n",
       "          8.82370999e-02,  8.42316882e-02, -9.91480281e-02,\n",
       "         -3.51003290e-01,  1.01592392e-01, -4.29058980e-03,\n",
       "         -8.80470532e-02,  1.30703835e-01, -2.55286262e-01,\n",
       "          1.87825390e-01, -2.26651523e-01, -3.73018524e-02,\n",
       "         -3.22134614e-01,  8.03418294e-02, -1.67031528e-01],\n",
       "        [-1.75577132e-01, -9.61830340e-02, -1.47409772e-01,\n",
       "         -4.42939658e-02,  3.37710149e-01, -1.03702668e-02,\n",
       "          9.81841637e-02,  4.72284880e-01, -2.09616029e-01,\n",
       "         -1.43298608e-02,  2.68321865e-01, -1.22902544e-01,\n",
       "         -1.08478011e-01,  4.86470154e-02,  1.81449282e-01,\n",
       "         -1.44551339e-01,  4.54136481e-01, -3.10090869e-02,\n",
       "          2.07957609e-01, -3.51248330e-02, -1.48074928e-01,\n",
       "         -2.80319259e-02,  1.24917075e-01,  1.42844337e-01,\n",
       "          1.90840362e-02,  3.57153341e-02,  1.28414502e-01,\n",
       "          1.60807895e-01,  1.88039903e-01, -2.07752865e-02],\n",
       "        [-1.88725108e-01, -1.23699080e-01,  2.55358298e-01,\n",
       "          1.11433491e-01, -7.89492269e-02,  3.49300728e-01,\n",
       "         -3.46647681e-01,  2.50812584e-03, -9.58410364e-02,\n",
       "         -5.76862507e-02,  3.61165829e-02, -3.55879425e-02,\n",
       "         -1.14629068e-01,  1.12141190e-01, -1.42581833e-01,\n",
       "          2.44277489e-01,  2.18949738e-01,  6.65499536e-02,\n",
       "          9.21628225e-02, -3.91335976e-01,  2.57788559e-01,\n",
       "          1.37437083e-01,  1.05180697e-01, -6.90356976e-02,\n",
       "         -3.31122205e-01,  4.49834770e-02, -1.32172355e-01,\n",
       "         -1.80224440e-01,  1.54111151e-01,  4.11822169e-02],\n",
       "        [-1.48602892e-01,  2.05705656e-02,  7.92737339e-03,\n",
       "          7.68580628e-02,  1.27660139e-01, -3.62208696e-01,\n",
       "         -1.10755284e-01, -3.47299382e-01,  3.88957065e-02,\n",
       "         -2.16872212e-01,  4.53397850e-01,  2.80897106e-01,\n",
       "          1.87080422e-01,  2.50672114e-02,  5.10665273e-02,\n",
       "         -2.34649155e-01,  2.42494337e-01,  1.07274987e-01,\n",
       "         -1.30838137e-01, -6.80749018e-02,  1.95107901e-02,\n",
       "          6.80914307e-02,  2.60429303e-02, -2.92107972e-01,\n",
       "          5.35818955e-02,  1.45571982e-01, -1.08151936e-01,\n",
       "         -9.15810861e-02, -5.40097867e-02,  1.86235398e-01],\n",
       "        [-1.27708108e-01,  1.53587903e-01,  1.10284659e-01,\n",
       "          4.03700544e-01, -2.32165813e-02, -7.10333946e-02,\n",
       "         -2.12597731e-01, -9.51845927e-02, -8.33053426e-05,\n",
       "          7.26308639e-02,  2.87050478e-02, -6.07385025e-02,\n",
       "         -1.31141127e-01, -3.10109684e-01,  1.55682889e-02,\n",
       "          1.47718379e-01,  3.96150099e-02, -2.36751122e-03,\n",
       "          5.27683832e-01,  1.89667602e-01, -2.45525399e-01,\n",
       "          1.29751129e-01, -8.27177429e-03,  3.82679842e-02,\n",
       "          3.38231654e-01, -2.16546552e-02, -1.53344909e-01,\n",
       "         -1.77271682e-01, -7.03907472e-02, -1.02421419e-01],\n",
       "        [-1.74663758e-01,  9.99727793e-02,  1.15618392e-01,\n",
       "         -2.18684164e-01,  1.07428899e-01,  2.25776041e-01,\n",
       "         -2.65371944e-01, -1.12714103e-01,  3.19406281e-01,\n",
       "          9.46802461e-02,  4.24596867e-02, -2.72925710e-01,\n",
       "          8.75268201e-02,  3.94252945e-01,  1.75672586e-01,\n",
       "         -1.30185457e-01, -7.35908460e-02,  1.17759415e-01,\n",
       "          2.59963065e-02,  2.85382719e-01, -1.02129383e-01,\n",
       "          3.20961884e-01, -8.32474871e-02,  2.04597398e-01,\n",
       "          5.85833582e-02,  7.28195526e-02,  3.24663143e-02,\n",
       "          5.26476785e-02,  4.49825903e-03,  2.79756562e-01],\n",
       "        [-1.83899571e-01,  2.09468948e-01, -2.86802643e-01,\n",
       "          1.37419408e-01,  6.21873424e-02,  3.47619925e-02,\n",
       "         -4.14915800e-02,  2.29370059e-01, -1.36677989e-02,\n",
       "         -4.02681549e-01,  4.75469690e-02, -4.95267305e-02,\n",
       "          9.91594043e-02,  6.01608270e-02,  1.65126235e-01,\n",
       "          9.56629738e-02, -1.85633303e-01, -1.91803326e-01,\n",
       "         -8.13060775e-02, -2.36859875e-01, -4.83145728e-02,\n",
       "          2.58464754e-01, -2.18014114e-01,  9.35666729e-03,\n",
       "         -8.30215286e-02, -3.87169179e-01, -1.31424246e-01,\n",
       "          7.18331733e-03, -3.46307078e-01, -8.40012623e-03],\n",
       "        [-1.95003335e-01,  2.76798687e-01,  1.18167968e-01,\n",
       "         -2.98726342e-01,  1.32646679e-01, -1.57709919e-01,\n",
       "          1.34110723e-01, -4.81175477e-03, -6.26974097e-02,\n",
       "         -1.15447309e-01, -2.27222809e-02,  4.28923179e-03,\n",
       "         -1.48104987e-02, -9.16953334e-02, -1.66438474e-02,\n",
       "          6.25268088e-02, -6.74801855e-02,  1.47139242e-01,\n",
       "          3.42037909e-01,  3.52298390e-01,  3.39159795e-01,\n",
       "          1.15370846e-02, -7.14417363e-02, -2.00422352e-01,\n",
       "         -3.88876413e-01, -4.72169464e-02, -1.80846867e-01,\n",
       "          2.17509079e-01,  2.30409345e-02, -1.71250787e-01],\n",
       "        [-1.65140844e-01, -1.72389802e-01,  2.06649425e-01,\n",
       "          1.97213151e-01,  1.09676636e-01, -3.11897173e-01,\n",
       "          1.43899817e-01, -2.28118787e-01, -5.00076399e-02,\n",
       "         -1.01497439e-01, -2.10575422e-01, -2.99568652e-01,\n",
       "         -2.63832547e-01, -1.59044391e-01,  3.64068119e-01,\n",
       "          1.15878009e-01,  3.48957191e-02,  1.63582843e-01,\n",
       "         -2.87817918e-01, -1.32117692e-02, -6.08249668e-02,\n",
       "         -7.49742301e-02,  1.30342742e-02,  2.93365906e-01,\n",
       "         -2.36922906e-01, -1.08931694e-02, -9.11255209e-02,\n",
       "          2.54858478e-02, -3.27325422e-02,  1.37026362e-01],\n",
       "        [-1.32454848e-01,  5.48269094e-02,  3.18521835e-01,\n",
       "         -2.70507053e-01, -1.56420962e-01, -2.14681852e-01,\n",
       "          1.17380032e-01,  1.91223904e-01, -8.08141680e-03,\n",
       "         -1.78470382e-01,  7.12252414e-03, -1.53895747e-02,\n",
       "         -1.63784674e-01, -2.69231513e-01, -1.17869075e-01,\n",
       "          3.90315050e-02, -1.07205796e-01, -3.70038908e-01,\n",
       "         -1.06892095e-01, -5.61474830e-02,  8.41320418e-02,\n",
       "          4.12838774e-01,  5.08056051e-02, -1.48628613e-02,\n",
       "          2.21659304e-01,  1.12544163e-01,  1.75002050e-01,\n",
       "         -4.34093829e-02,  2.05077538e-01,  2.39383459e-01],\n",
       "        [-1.96895325e-01, -3.26411923e-01, -4.10892381e-02,\n",
       "         -1.46418959e-01,  2.33718850e-01,  3.13046600e-01,\n",
       "          1.59424171e-01, -2.22620336e-01,  5.81452584e-02,\n",
       "         -1.75130751e-02,  7.04012931e-02,  2.43393151e-01,\n",
       "         -1.45337569e-02, -1.15193571e-01,  1.38222716e-01,\n",
       "          3.12771942e-01, -1.13016052e-01, -2.35114923e-01,\n",
       "          1.53303818e-01,  5.56314358e-02, -5.36272382e-02,\n",
       "         -2.65202405e-01, -9.69529954e-02, -1.24533592e-01,\n",
       "          1.16685732e-01, -2.02848869e-01, -5.54620309e-02,\n",
       "          6.70986623e-02,  1.07135772e-01,  3.72935008e-01],\n",
       "        [-1.95388574e-01,  9.83571377e-02, -2.43846439e-01,\n",
       "         -2.00654614e-01, -2.66564730e-01, -3.14902116e-02,\n",
       "          9.57677607e-02,  6.07502735e-02, -1.29367631e-01,\n",
       "          3.36979899e-01,  8.49034979e-02,  4.03015865e-01,\n",
       "          5.82270719e-02, -1.25985729e-01,  1.89691395e-01,\n",
       "          2.34442307e-01,  1.32234787e-02,  4.10088775e-01,\n",
       "         -9.07976427e-02, -3.33342882e-02, -2.48122326e-02,\n",
       "          2.50170200e-01,  2.42615091e-02,  2.67814163e-01,\n",
       "         -7.69022564e-03, -9.98646152e-02, -2.62164312e-02,\n",
       "         -1.53038363e-01,  9.19356948e-02,  3.96933003e-02],\n",
       "        [-1.83030137e-01, -1.81422533e-01,  1.96155525e-01,\n",
       "          1.75663778e-01,  2.12876420e-01,  6.49242666e-02,\n",
       "         -1.65720332e-01,  2.71631730e-01, -1.20701546e-01,\n",
       "          1.00329293e-01,  1.72047644e-01,  2.65972794e-01,\n",
       "          1.04047493e-01, -1.02779585e-01, -8.12653415e-02,\n",
       "         -2.35883655e-01, -4.01760401e-01, -1.46494217e-01,\n",
       "         -1.96341792e-01,  2.21448571e-01,  2.88608693e-02,\n",
       "         -7.94395360e-02, -7.18086911e-02,  2.80413420e-01,\n",
       "         -1.44101359e-01,  1.78489766e-01, -2.43268484e-01,\n",
       "         -1.21776416e-01,  2.93898680e-02, -1.26377118e-01],\n",
       "        [-1.77989260e-01,  2.68549798e-01,  8.96529314e-02,\n",
       "          1.70388132e-01,  8.03854050e-02,  2.39113776e-01,\n",
       "          1.58703767e-01, -1.37283017e-01,  2.48475751e-02,\n",
       "          3.19381064e-01, -2.76158653e-02,  9.09210177e-02,\n",
       "          3.17926277e-02, -4.20547246e-02,  2.51605577e-01,\n",
       "          1.05135722e-01,  1.38803659e-01, -2.66660065e-01,\n",
       "         -2.00084947e-01, -1.33948269e-01,  1.56863198e-01,\n",
       "          1.18181215e-01, -7.49538457e-04, -8.40093828e-02,\n",
       "          1.20022189e-01,  3.40528149e-01, -1.20839868e-02,\n",
       "          3.88434800e-01, -1.74173373e-01, -2.38665567e-01],\n",
       "        [-2.40813408e-01, -1.50331316e-01, -1.72594358e-01,\n",
       "         -4.91380873e-02, -1.38786900e-01,  1.56225006e-01,\n",
       "          3.25927729e-02, -1.97929676e-01, -3.67221296e-01,\n",
       "          1.90857028e-02,  5.81668017e-02, -2.32745171e-01,\n",
       "          3.50647705e-02, -9.98364780e-02,  1.51947827e-01,\n",
       "         -2.92219338e-01, -2.98334078e-01,  1.74011143e-03,\n",
       "          1.56006172e-01, -4.35750750e-03,  1.80994643e-01,\n",
       "          2.21068544e-02,  4.18011669e-01, -9.06556182e-02,\n",
       "          1.23317690e-02,  4.81626054e-02,  2.60623256e-01,\n",
       "         -1.25817684e-01, -2.73578827e-01,  1.47704071e-02],\n",
       "        [-2.36115839e-01, -1.32696434e-02, -3.82559589e-01,\n",
       "         -1.10737797e-01, -2.48442185e-01, -4.95923875e-02,\n",
       "         -1.46859267e-01,  1.42610614e-01,  7.28004809e-02,\n",
       "          5.07982667e-02, -8.34840176e-02, -3.00065014e-01,\n",
       "          3.28048561e-02, -2.03036055e-01,  4.33391786e-02,\n",
       "         -4.02915060e-02,  1.60917688e-02, -1.61017006e-02,\n",
       "         -4.32230508e-03, -7.83420097e-02,  5.81466204e-02,\n",
       "         -2.56157230e-01, -3.99225420e-01, -1.45757282e-01,\n",
       "          2.63039271e-02,  4.33413033e-01, -2.16719577e-01,\n",
       "         -7.98246166e-02,  9.50306721e-02,  1.46535835e-01],\n",
       "        [-2.19029607e-01, -3.36805583e-01,  4.89705588e-02,\n",
       "          2.26130369e-01, -1.56505344e-01, -1.53306024e-01,\n",
       "         -2.84967667e-02,  1.11377984e-01, -8.63856380e-02,\n",
       "         -2.16247944e-02,  1.83055857e-01, -1.46990648e-01,\n",
       "          8.40698309e-02,  2.66717177e-01, -1.66772953e-02,\n",
       "          3.41136951e-01, -1.31144110e-01,  1.79776862e-01,\n",
       "         -1.54782036e-01,  2.23644184e-01,  1.15370602e-01,\n",
       "          4.15745744e-02, -1.78901323e-01, -2.52722308e-01,\n",
       "          2.25983801e-01, -6.67570962e-02,  2.61973953e-01,\n",
       "          1.67909244e-01,  1.32235061e-01, -2.48387018e-01],\n",
       "        [-2.49354258e-01, -1.65411643e-01, -1.04941800e-03,\n",
       "         -2.25994566e-01,  2.50119271e-02, -1.59576333e-01,\n",
       "          2.91074718e-01, -2.22146614e-02,  2.09131138e-01,\n",
       "          1.11540722e-01,  1.09408835e-01, -7.08463944e-02,\n",
       "         -4.00355092e-02,  2.36445315e-01, -3.07064276e-01,\n",
       "          2.46842802e-01,  9.15704655e-02, -1.65567016e-01,\n",
       "          5.97021559e-02, -1.91778578e-02, -2.05344803e-01,\n",
       "         -2.26187593e-02,  7.87484453e-02,  9.10218913e-02,\n",
       "         -1.10186021e-01,  1.80948981e-01, -5.77181453e-02,\n",
       "         -3.07060085e-01, -4.28137515e-01, -1.98711466e-01],\n",
       "        [-2.58890504e-01, -1.06791422e-01, -1.80964357e-01,\n",
       "          1.25521790e-01,  6.15232064e-03, -1.21390388e-02,\n",
       "          1.14126802e-01,  8.33599051e-02,  3.77905294e-01,\n",
       "         -8.54506225e-02, -1.93617406e-01,  1.90999796e-02,\n",
       "         -5.60569965e-02,  2.76063111e-02, -2.19443380e-01,\n",
       "         -1.57391646e-01,  5.42169704e-02,  1.29885666e-01,\n",
       "         -4.75480872e-02, -4.13140246e-03,  3.74250874e-01,\n",
       "         -1.42214489e-02,  3.65291042e-01,  1.34177302e-01,\n",
       "          3.39747099e-01, -1.63172163e-01, -3.31550739e-01,\n",
       "          1.35444802e-01,  6.31249185e-02,  2.41188775e-03],\n",
       "        [-2.45751260e-01,  5.93560354e-02, -1.91672564e-01,\n",
       "          1.03232985e-01, -3.00021840e-02,  4.66551322e-02,\n",
       "         -1.26478079e-01, -1.29866204e-01, -1.91816776e-01,\n",
       "         -1.03870209e-01, -2.12911458e-01,  1.69431894e-02,\n",
       "          2.41973981e-01, -1.37398382e-01, -4.70757106e-01,\n",
       "          9.47411127e-02,  1.14828664e-01, -3.20001578e-02,\n",
       "         -1.42434797e-01,  1.85830987e-01, -3.75522522e-01,\n",
       "          7.56356942e-02,  1.68278164e-01,  4.91606404e-02,\n",
       "         -2.04617638e-01,  6.00415398e-02,  1.03034125e-01,\n",
       "          3.50291247e-01,  5.14653325e-02,  1.53575241e-01],\n",
       "        [-2.17921935e-01, -2.44660700e-01, -8.08012666e-03,\n",
       "         -2.05391267e-01, -2.43087970e-01,  2.85800240e-02,\n",
       "         -2.76433353e-01, -1.71652344e-01,  1.65760729e-01,\n",
       "         -1.11571179e-01, -1.09013122e-01,  2.62177096e-01,\n",
       "         -3.26352241e-01, -8.82306878e-02,  8.30680129e-02,\n",
       "         -3.14963021e-01,  1.72801811e-01, -1.18111362e-01,\n",
       "          1.19250967e-02,  1.01616766e-02, -1.06584574e-01,\n",
       "          6.04043814e-03, -2.13902245e-01,  6.69954498e-02,\n",
       "         -6.43199435e-02, -1.68950673e-01,  1.85949240e-01,\n",
       "          1.44964417e-01, -4.89269306e-02, -3.83811610e-01],\n",
       "        [-1.68038185e-01,  1.25730872e-01,  1.75503516e-01,\n",
       "          8.94611087e-02, -4.44584446e-02,  1.61546865e-01,\n",
       "          1.60189591e-01,  1.17197286e-01, -1.59616896e-01,\n",
       "         -3.54344039e-01, -4.05236628e-01,  2.59602940e-01,\n",
       "          1.56218476e-01,  1.80782628e-01,  9.36764006e-02,\n",
       "         -3.46701044e-02,  2.43880778e-01,  9.44863482e-02,\n",
       "          2.52992784e-02,  1.98873371e-01,  1.07245528e-01,\n",
       "         -1.69424946e-01, -1.47577808e-01,  7.36294072e-02,\n",
       "          1.66333936e-01,  1.72646758e-01,  2.10135234e-01,\n",
       "         -3.12210359e-01, -1.33791673e-01,  8.34234098e-02],\n",
       "        [-1.29450849e-01,  2.16331183e-01,  1.35402924e-01,\n",
       "         -1.22398986e-01, -1.18494715e-01,  2.64186719e-01,\n",
       "          1.91460366e-01, -7.20527135e-02,  1.20530515e-01,\n",
       "         -3.40399558e-01,  1.59902355e-01, -1.17209104e-01,\n",
       "          9.37851791e-02, -4.50017383e-02,  1.18204960e-01,\n",
       "         -6.56210045e-03, -1.71380793e-01,  1.49838112e-01,\n",
       "         -1.14914428e-01, -1.14043517e-01, -3.82637920e-01,\n",
       "         -1.74380896e-01,  2.00708711e-01, -5.72377654e-02,\n",
       "          6.60577197e-02,  6.40987133e-02, -1.32734308e-01,\n",
       "         -8.19607365e-02,  3.55770168e-01, -3.53702854e-01],\n",
       "        [-1.70672932e-01,  3.25037233e-01,  8.70955739e-02,\n",
       "          8.31230725e-03, -4.51698851e-02, -9.65393548e-02,\n",
       "         -1.01380223e-01, -1.49006855e-01,  7.95627143e-02,\n",
       "          7.10346727e-02,  2.77542548e-01, -1.43208124e-01,\n",
       "          2.01332488e-01, -8.43670225e-02, -1.53931793e-01,\n",
       "          5.49688071e-02,  4.78948213e-02, -1.31602705e-01,\n",
       "          1.04898522e-02, -1.24076462e-01,  2.65212903e-01,\n",
       "         -4.05974802e-01, -9.86872530e-02,  4.22620117e-01,\n",
       "          2.65011867e-02, -2.34656361e-01,  3.34182827e-01,\n",
       "         -1.78420325e-02,  6.35214722e-02,  5.09811245e-03],\n",
       "        [-1.22820608e-01, -2.57807608e-02,  1.01745602e-01,\n",
       "          1.15893924e-01, -1.94155441e-01, -2.71067634e-01,\n",
       "         -1.18656723e-01,  2.20468887e-01,  2.99440899e-01,\n",
       "          1.82472876e-01, -2.21919347e-01,  1.05623111e-01,\n",
       "          3.56004008e-01,  8.77445768e-02,  3.42593843e-01,\n",
       "          6.51941130e-03, -2.04523996e-02, -2.51803095e-01,\n",
       "          1.44923136e-01, -2.36879873e-02, -1.10763121e-01,\n",
       "         -1.16102400e-01,  3.17798425e-01, -1.95987269e-01,\n",
       "         -2.57997420e-01, -9.81918992e-02,  7.98644859e-02,\n",
       "         -3.87694780e-02,  1.17522212e-01,  5.43237531e-02],\n",
       "        [-1.13321358e-01,  2.37165615e-01,  1.83137144e-01,\n",
       "         -6.33937428e-02, -1.40476222e-01, -7.55970836e-02,\n",
       "         -1.98705343e-01,  2.30624042e-01, -7.85897731e-02,\n",
       "          2.53593955e-02,  7.84424652e-02,  1.66213880e-01,\n",
       "         -4.11170587e-01,  1.93625184e-01, -3.90585180e-02,\n",
       "          4.70985938e-02, -2.00047128e-01,  1.87915013e-01,\n",
       "         -2.09146209e-02, -1.13049704e-01, -1.65596025e-01,\n",
       "         -3.62094282e-01,  1.51375491e-01, -1.06656108e-01,\n",
       "          1.09776183e-01,  4.82065724e-02, -1.85417516e-02,\n",
       "          2.79628017e-01, -2.92032044e-01,  2.54502480e-01],\n",
       "        [-1.09368416e-01,  1.15418470e-01,  2.57248714e-02,\n",
       "          1.19373596e-01, -3.31438455e-01, -4.19077193e-02,\n",
       "          2.53117073e-01, -1.66438233e-01, -3.52348224e-01,\n",
       "          1.81690509e-01,  2.69525816e-02, -5.02977622e-02,\n",
       "         -1.27861682e-01,  4.09413138e-01, -5.07084861e-02,\n",
       "         -2.37891080e-01,  7.85165795e-02, -3.03051686e-01,\n",
       "          9.98871063e-03,  9.08684121e-02, -6.41696740e-02,\n",
       "         -1.07631399e-02, -1.24598778e-01, -4.60784363e-03,\n",
       "         -1.19834350e-02, -2.29823579e-01, -3.32524135e-01,\n",
       "         -3.34980872e-02,  2.31388420e-01,  9.24131564e-02]]),\n",
       " array([18.06949038,  5.03319183,  4.34093268,  3.73513568,  3.58916702,\n",
       "         3.5581015 ,  3.47744933,  3.27520134,  2.99209893,  2.89227302,\n",
       "         2.73246435,  2.57892634,  2.57787799,  2.20139547,  2.16018504,\n",
       "         2.00716195,  1.80369228,  1.78316946,  1.63632984,  1.58328557,\n",
       "         1.40762   ,  1.39456886,  1.34334491,  1.2050018 ,  0.9113786 ,\n",
       "         0.79815644,  0.66962059,  0.64711684,  0.47815064,  0.13530604]))"
      ]
     },
     "execution_count": 12,
     "metadata": {},
     "output_type": "execute_result"
    }
   ],
   "source": [
    "V, U, _ = linalg.svd(A)\n",
    "V, U"
   ]
  },
  {
   "cell_type": "code",
   "execution_count": 13,
   "metadata": {},
   "outputs": [
    {
     "data": {
      "text/plain": [
       "<matplotlib.collections.PathCollection at 0x22486eb3588>"
      ]
     },
     "execution_count": 13,
     "metadata": {},
     "output_type": "execute_result"
    },
    {
     "data": {
      "image/png": "[encoded data removed]",
      "text/plain": [
       "<matplotlib.figure.Figure at 0x224847635c0>"
      ]
     },
     "metadata": {},
     "output_type": "display_data"
    }
   ],
   "source": [
    "plt.scatter(arange(1, len(U) + 1), U)"
   ]
  },
  {
   "cell_type": "code",
   "execution_count": 14,
   "metadata": {
    "collapsed": true
   },
   "outputs": [],
   "source": [
    "def find_dhat(X):\n",
    "    # returns dhat\n",
    "    n = len(X)\n",
    "    d = 1\n",
    "    #q = n - 1\n",
    "    sample_var = var(X, ddof = 1)\n",
    "    sample_scale = sample_var**(1/2)\n",
    "    d_hat = 1\n",
    "    likelihood_dhat = 0\n",
    "    likelihoods =[]\n",
    "    while d < n:\n",
    "        mean_sig = mean(X[:d])\n",
    "        mean_noise = mean(X[d:])\n",
    "        sig_likelihood = 0\n",
    "        noise_likelihood = 0\n",
    "        for i in range(d):\n",
    "            sig_likelihood += pdf(X[i], mean_sig, sample_scale)\n",
    "        for i in range(d, n):\n",
    "            noise_likelihood += pdf(X[i], mean_noise, sample_scale)\n",
    "            \n",
    "        likelihood = noise_likelihood + sig_likelihood\n",
    "        likelihoods.append(likelihood)\n",
    "        \n",
    "        if likelihood > likelihood_dhat:\n",
    "            #print(likelihood, likelihood_dhat, d, d_hat)\n",
    "            likelihood_dhat = likelihood \n",
    "            d_hat = d\n",
    "        d += 1\n",
    "    return d_hat, likelihoods"
   ]
  },
  {
   "cell_type": "code",
   "execution_count": 15,
   "metadata": {
    "collapsed": true
   },
   "outputs": [],
   "source": [
    "d, l = find_dhat(U)\n",
    "d_2, l_2 = find_dhat(U[d:])\n",
    "d_hat = d + d_2"
   ]
  },
  {
   "cell_type": "code",
   "execution_count": 21,
   "metadata": {},
   "outputs": [
    {
     "ename": "NameError",
     "evalue": "name 'mclustBIC' is not defined",
     "output_type": "error",
     "traceback": [
      "\u001b[1;31m---------------------------------------------------------------------------\u001b[0m",
      "\u001b[1;31mNameError\u001b[0m                                 Traceback (most recent call last)",
      "\u001b[1;32m<ipython-input-21-750139346d23>\u001b[0m in \u001b[0;36m<module>\u001b[1;34m()\u001b[0m\n\u001b[1;32m----> 1\u001b[1;33m \u001b[0mmclustBIC\u001b[0m \u001b[1;33m=\u001b[0m \u001b[0mrobjects\u001b[0m\u001b[1;33m(\u001b[0m\u001b[0mmclustBIC\u001b[0m\u001b[1;33m)\u001b[0m\u001b[1;33m\u001b[0m\u001b[0m\n\u001b[0m",
      "\u001b[1;31mNameError\u001b[0m: name 'mclustBIC' is not defined"
     ]
    }
   ],
   "source": [
    "mclustBIC = robjects(mclust)"
   ]
  },
  {
   "cell_type": "code",
   "execution_count": 87,
   "metadata": {},
   "outputs": [
    {
     "name": "stdout",
     "output_type": "stream",
     "text": [
      "[9.24623210e-17 6.80463949e-17 9.28110359e-17 1.56905700e-18\n",
      " 3.05088931e-17 1.56905700e-18 5.40499040e-17 5.40499040e-17\n",
      " 1.97533283e-16]\n"
     ]
    }
   ],
   "source": [
    "block_of_interest_index = 2\n",
    "likelihoods = np.zeros(len(unlabeled) + 1) # +1 to store denominator \n",
    "\n",
    "for p in permutations(unlabeled, n): # find maximally likely permutation\n",
    "    V = [list(p[int(sum(nv[:i])):int(sum(nv[:i + 1]))]) for i in range(K)]\n",
    "    e = gen_e(A, V, seeds)\n",
    "    c = gen_c(Nv, e)\n",
    "    likeli = gen_likelihood(V, L, e, c)\n",
    "    likelihoods[-1] += likeli # update denominator\n",
    "    for i in V[block_of_interest_index]: # update vertices that were in the block of interest\n",
    "        arg = unlabeled.index(i) # find the vertex's position in the likelihood array \n",
    "        likelihoods[arg] += likeli # update the correct vertex's likelihood\n",
    "print(likelihoods)"
   ]
  },
  {
   "cell_type": "code",
   "execution_count": 88,
   "metadata": {},
   "outputs": [
    {
     "name": "stdout",
     "output_type": "stream",
     "text": [
      "[4, 2, 3, 9, 10, 6, 5, 8]\n"
     ]
    }
   ],
   "source": [
    "nom_list = gen_nomination_list(likelihoods, unlabeled)\n",
    "print(nom_list)"
   ]
  }
 ],
 "metadata": {
  "kernelspec": {
   "display_name": "Python 3",
   "language": "python",
   "name": "python3"
  },
  "language_info": {
   "codemirror_mode": {
    "name": "ipython",
    "version": 3
   },
   "file_extension": ".py",
   "mimetype": "text/x-python",
   "name": "python",
   "nbconvert_exporter": "python",
   "pygments_lexer": "ipython3",
   "version": "3.6.1"
  },
  "toc": {
   "nav_menu": {},
   "number_sections": true,
   "sideBar": true,
   "skip_h1_title": false,
   "toc_cell": false,
   "toc_position": {},
   "toc_section_display": "block",
   "toc_window_display": false
  }
 },
 "nbformat": 4,
 "nbformat_minor": 2
}
