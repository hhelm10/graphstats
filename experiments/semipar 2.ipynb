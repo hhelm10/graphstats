{
 "cells": [
  {
   "cell_type": "code",
   "execution_count": 2,
   "metadata": {},
   "outputs": [],
   "source": [
    "from graphstats import sbm\n",
    "import graspy\n",
    "import numpy as np\n",
    "from graspy.embed import AdjacencySpectralEmbed as ASE\n",
    "import itertools as it\n",
    "\n",
    "from sklearn.neighbors import KernelDensity as KDE\n",
    "\n",
    "import matplotlib.pyplot as plt\n",
    "%matplotlib inline"
   ]
  },
  {
   "cell_type": "markdown",
   "metadata": {},
   "source": [
    "The goal of this notebook is to propose a hypothesis test for testing whether or not two graphs with known vertex alginment share the same latent positions. This is a more restricted setting than the setting presented in Semi-par and so it should be possible to leverage the known vertex alignment to construct a more powerful test. \n",
    "\n",
    "Consider the following setting.\n",
    "Let $ A^{(1)}, A^{(2)} $ be observed adjacency matrices on $ V $ where it is assumed $ A \\sim RDPG(X_{1}) $ and $ B \\sim RDPG(X_{2}) $. Let $ X_{1}, X_{2} \\in \\mathbb{R}^{n \\times d} $ be stacked latent positions where the $ i^{th} $ row of $ X_{j} $ is the latent position of node $ i $ that generated $ A^{(j)} $. In this setting, a natural question to ask is whether or not $ X_{1}X_{1}^{T} = X_{2}X_{2}^{T} $. Note that $ X_{i}X_{i}^{T} \\in \\mathbb{R}^{n \\times n} $.\n",
    "\n",
    "Or testing \n",
    "\\begin{align*}\n",
    "H_{0}: X_{1}X_{1}^{T} &= X_{2}X_{2}^{T} \\\\\n",
    "& vs \\\\\n",
    "H_{1}: X_{1}X_{1}^{T} &\\neq X_{2}X_{2}^{T}\n",
    "\\end{align*}\n",
    "\n",
    "I propose a simple procedure in the vertex aligned setting. Let $ S \\subset V $ and let $ A^{(i)}_{S, j} $ denote the adjacency matrix in which the adjacencies of vertices in S in graph i are replaced by the adjacencies of vertices in S in graph j. In matrix syntax, let $ a_{k,\\ell}^{i} $ denote the (j, $\\ell$)th entry of graph i. Then the k,$\\ell$th entry of $ A^{(i)}_{S,j} $ is $ a_{k,\\ell}^{i} $ if $ k $ or $ \\ell $ is in $ S $ and $ a_{k, \\ell}^{j} $ otherwise.\n",
    "\n",
    "The testing procedure will go as follows. Fix $ K \\le \\frac{|V|}{2}\\in \\mathbb{N} $. Let $ \\hat{X}_{i} = ASE(A^{(i)}) $ and let $ \\hat{P}_{i} = \\hat{X}_{i} \\hat{X}_{i}^{T} $. Let $ B^{1}, B^{2} \\sim RDPG(\\hat{P}_{i}) $ on $ V $. Let S be a random subset of V of size K. Now let $ B^{1}_{S, 2} $ be defined as above and consider $ \\hat{Y}_{1} = ASE(B^{1}) $ and $ \\hat{Y}_{2} = ASE(B^{1}_{S, 2}) $ and let $ T = ||\\hat{Y}_{1}\\hat{Y}_{1}^{T} - \\hat{Y}_{2}\\hat{Y}_{2}^{T}||_{F}$. Repeating this a bunch of times we can get two distributions of $ T $ under the null. We reject if the observed statistic is in the $ (1 - \\alpha)^{th} $ quantile in both estimated distributions.\n",
    "\n",
    "NB: It is unclear whether or not the RDPG assumption is necessary to utilize a similar method to the one described. We could use any distribution on a single graph and just consider the frobenius norm of the adj matricies after switcheroos. Moreover, perhaps a better statistic will be $ T_{1} + T_{2} $ where we get $ T_{1} $ from putting columns of B into A and $ T_{2} $ from putting columns of A into B.\n",
    "\n",
    "This notebook will\n",
    "\n",
    "-- implement this testing procedure\n",
    "\n",
    "-- empirically show its validity\n",
    "\n",
    "-- empirically show its consistency\n",
    "\n",
    "-- compare power to semi-par\n",
    "\n",
    "-- hopefully evolve into something sensible :-)"
   ]
  },
  {
   "cell_type": "code",
   "execution_count": 25,
   "metadata": {},
   "outputs": [],
   "source": [
    "## Implementation\n",
    "from tqdm import tqdm_notebook as tqdm\n",
    "\n",
    "def choose(n, k):\n",
    "    return np.math.factorial(n) / (np.math.factorial(k) * np.math.factorial(n-k))\n",
    "\n",
    "def switcheroo(A, B, idx):\n",
    "    new_A = A.copy()\n",
    "    new_B = B.copy()\n",
    "#     for idx in S:\n",
    "    new_A[idx,:]=B[idx,:]\n",
    "    new_A[:, idx]=B[:,idx]\n",
    "\n",
    "    new_B[idx,:]=A[idx,:]\n",
    "    new_B[:,idx]=A[:,idx]\n",
    "    \n",
    "    return new_A, new_B\n",
    "\n",
    "def generate_null_distribution(P, n=100, k=5, b=100, seed=None, verbose=False):\n",
    "    \"\"\"\n",
    "    P - probability matrix\n",
    "    n - number of nodes\n",
    "    k - the size of the random subset to switch\n",
    "    b - number of iterations\n",
    "    \"\"\"\n",
    "    if seed is None:\n",
    "        seed = np.random.randint(10**6)\n",
    "    np.random.seed(seed)\n",
    "    \n",
    "    if k is None:\n",
    "        k = 5\n",
    "        \n",
    "    \n",
    "    #print(len(list(combinations)))\n",
    "    \n",
    "    statistics = []\n",
    "    \n",
    "    if verbose:\n",
    "        for i in tqdm(range(b)):\n",
    "            combinations = it.combinations(range(n), k)\n",
    "            T = 0\n",
    "            for combo in combinations:\n",
    "                if P.shape[0] != n:\n",
    "                    S = np.random.binomial(n, 0.5)\n",
    "                    A1 = sbm.adj_matrix(n, [S/n, 1 - S/n], P)\n",
    "                    A2 = sbm.adj_matrix(n, [S/n, 1 - S/n], P)\n",
    "                else:\n",
    "                    A1 = sbm.adj_matrix(n, np.ones(n)/n, P)\n",
    "                    A2 = sbm.adj_matrix(n, np.ones(n)/n, P)\n",
    "\n",
    "                newA1, newA2 = switcheroo(A1, A2, combo)\n",
    "\n",
    "                ase_object11 = ASE()\n",
    "                X_hat11 = ase_object11.fit_transform(A1)\n",
    "\n",
    "                ase_object12 = ASE()\n",
    "                X_hat12 = ase_object12.fit_transform(newA1)\n",
    "                \n",
    "                P11 = X_hat11 @ X_hat11.T\n",
    "                P12 = X_hat12 @ X_hat12.T\n",
    "                \n",
    "                T1 = np.linalg.norm(P11 - P12)\n",
    "                \n",
    "                ase_object21 = ASE()\n",
    "                X_hat21 = ase_object21.fit_transform(A2)\n",
    "\n",
    "                ase_object22 = ASE()\n",
    "                X_hat22 = ase_object22.fit_transform(newA2)\n",
    "                \n",
    "                P21 = X_hat21 @ X_hat21.T\n",
    "                P22 = X_hat22 @ X_hat22.T\n",
    "\n",
    "                T2=np.linalg.norm(P21 - P22)\n",
    "                T += T1 + T2\n",
    "            statistics.append(T)\n",
    "    else:\n",
    "        for i in range(b):\n",
    "            tempA1 = sbm.adj_matrix(n, np.ones(n)/n, P)\n",
    "            tempA2 = sbm.adj_matrix(n, np.ones(n)/n, P)\n",
    "\n",
    "            temp_newA1 = switcheroo(tempA1, tempA2, k)\n",
    "\n",
    "            ase_object1 = ASE()\n",
    "            X_hat1 = ase_object1.fit_transform(tempA1)\n",
    "            ase_object2 = ASE()\n",
    "            X_hat2 = ase_object2.fit_transform(temp_newA1)\n",
    "\n",
    "            # matmul takes a while..\n",
    "            P1 = X_hat1 @ X_hat1.T\n",
    "            P2 = X_hat2 @ X_hat2.T\n",
    "\n",
    "            T=np.linalg.norm(P1 - P2)\n",
    "            statistics.append(T)\n",
    "        \n",
    "    return np.array(statistics)\n",
    "\n",
    "def find_p(statistics, T):\n",
    "    return np.sum(statistics>T)/len(statistics)\n",
    "\n",
    "def power_simulations(alpha, n, pi0, k, b, epsilons, MC, seed=None):\n",
    "    if seed is None:\n",
    "        seed=np.random.randint(10**6)\n",
    "    np.random.seed(seed)\n",
    "    \n",
    "    B1 = np.array([\n",
    "    [0.6, 0.4],\n",
    "    [0.4, 0.5]\n",
    "    ])\n",
    "    \n",
    "    rejections=np.zeros(len(epsilons))\n",
    "    \n",
    "    for i, eps in enumerate(epsilons):\n",
    "        for j in range(MC):\n",
    "            S = np.random.binomial(n, pi0)\n",
    "            pi = [S/n, 1 - S/n]\n",
    "            B2 = B1 + np.diag(eps*np.ones)\n",
    "\n",
    "            A1 = sbm.adj_matrix(n, pi, B1)\n",
    "            A2 = sbm.adj_matrix(n, pi, B2)\n",
    "\n",
    "            new_A1 = switcheroo(A1, A2, k)\n",
    "\n",
    "            ase_object1 = ASE()\n",
    "            X_hat1 = ase_object1.fit_transform(A1)\n",
    "            ase_object2 = ASE()\n",
    "            X_hat2 = ase_object2.fit_transform(new_A1)\n",
    "\n",
    "            P1 = X_hat1 @ X_hat1.T\n",
    "            P2 = X_hat2 @ X_hat2.T\n",
    "            \n",
    "            T = np.linalg.norm(P1 - P2)\n",
    "            \n",
    "            stats1 = generate_null_distribution(P1, n, k, b)\n",
    "            p1 = find_p(stats1, T)\n",
    "            \n",
    "            stats2 = generate_null_distribution(P2, n, k, b)\n",
    "            p2 = find_p(stats2, T)\n",
    "            \n",
    "            p=max(p1, p2)\n",
    "            if p < alpha:\n",
    "                rejections[i]+=1    \n",
    "                \n",
    "    return rejections/MC"
   ]
  },
  {
   "cell_type": "code",
   "execution_count": 4,
   "metadata": {},
   "outputs": [],
   "source": [
    "#statistics = generate_null_distribution(B1, 30, k = 1, b=300, verbose=True)\n",
    "import _pickle as pickle\n",
    "# pickle.dump(statistics, open('statistics.pkl', 'wb'))\n",
    "statistics = pickle.load(open('statistics.pkl', 'rb'))"
   ]
  },
  {
   "cell_type": "code",
   "execution_count": 6,
   "metadata": {},
   "outputs": [],
   "source": [
    "#statistics1 = generate_null_distribution(P1, 30, k =1, b=300, verbose=True)\n",
    "import _pickle as pickle\n",
    "# pickle.dump(statistics1, open('statistics1.pkl', 'wb'))\n",
    "statistics1 = pickle.load(open('statistics1.pkl', 'rb'))"
   ]
  },
  {
   "cell_type": "code",
   "execution_count": 5,
   "metadata": {},
   "outputs": [],
   "source": [
    "#statistics2 = generate_null_distribution(P2, 30, k =1, b=300, verbose=True)\n",
    "import _pickle as pickle\n",
    "# pickle.dump(statistics2, open('statistics2.pkl', 'wb'))\n",
    "statistics2 = pickle.load(open('statistics2.pkl', 'rb'))"
   ]
  },
  {
   "cell_type": "code",
   "execution_count": 7,
   "metadata": {},
   "outputs": [
    {
     "data": {
      "text/plain": [
       "(0.9944171905517578, 0.3419501483440399)"
      ]
     },
     "execution_count": 7,
     "metadata": {},
     "output_type": "execute_result"
    },
    {
     "data": {
      "image/png": "[encoded data removed]",
      "text/plain": [
       "<Figure size 432x288 with 1 Axes>"
      ]
     },
     "metadata": {
      "needs_background": "light"
     },
     "output_type": "display_data"
    }
   ],
   "source": [
    "from scipy.stats import norm\n",
    "fig, ax = plt.subplots(1,1)\n",
    "# xs = np.arange(min(statistics) - np.std(statistics, ddof=1), max(statistics) + np.std(statistics, ddof=1))\n",
    "# ax.scatter(statistics, np.zeros(len(statistics)))\n",
    "kde0 = KDE(bandwidth=2)\n",
    "kde0.fit(statistics.reshape(-1, 1), )\n",
    "log_dens = kde.score_samples(xs.reshape(-1,1))\n",
    "ax.fill(xs, np.exp(log_dens), fc='#AAAAFF')\n",
    "ax.set_title('Null')\n",
    "from scipy.stats import shapiro\n",
    "p = shapiro(statistics)\n",
    "p # fail to reject that T is normally distributed"
   ]
  },
  {
   "cell_type": "code",
   "execution_count": 8,
   "metadata": {},
   "outputs": [
    {
     "data": {
      "text/plain": [
       "(0.9979431629180908, 0.9736108183860779)"
      ]
     },
     "execution_count": 8,
     "metadata": {},
     "output_type": "execute_result"
    },
    {
     "data": {
      "image/png": "[encoded data removed]",
      "text/plain": [
       "<Figure size 432x288 with 1 Axes>"
      ]
     },
     "metadata": {
      "needs_background": "light"
     },
     "output_type": "display_data"
    }
   ],
   "source": [
    "fig, ax = plt.subplots(1,1)\n",
    "# xs = np.arange(min(statistics1) - np.std(statistics1, ddof=1), max(statistics1) + np.std(statistics1, ddof=1))\n",
    "# ax.scatter(statistics1, np.zeros(len(statistics1)))\n",
    "kde1 = KDE(bandwidth=2)\n",
    "kde1.fit(statistics1.reshape(-1, 1), )\n",
    "log_dens = kde1.score_samples(xs.reshape(-1,1))\n",
    "ax.fill(xs, np.exp(log_dens), fc='#AAAAFF')\n",
    "ax.set_title('Bootstrap from A1')\n",
    "from scipy.stats import shapiro\n",
    "p = shapiro(statistics1)\n",
    "p # fail to reject that T is normally distributed"
   ]
  },
  {
   "cell_type": "code",
   "execution_count": null,
   "metadata": {},
   "outputs": [],
   "source": []
  },
  {
   "cell_type": "code",
   "execution_count": 9,
   "metadata": {},
   "outputs": [
    {
     "data": {
      "text/plain": [
       "(0.9962352514266968, 0.6976736187934875)"
      ]
     },
     "execution_count": 9,
     "metadata": {},
     "output_type": "execute_result"
    },
    {
     "data": {
      "image/png": "[encoded data removed]",
      "text/plain": [
       "<Figure size 432x288 with 1 Axes>"
      ]
     },
     "metadata": {
      "needs_background": "light"
     },
     "output_type": "display_data"
    }
   ],
   "source": [
    "fig, ax = plt.subplots(1,1)\n",
    "#xs = np.arange(min(statistics2) - np.std(statistics2, ddof=1), max(statistics2) + np.std(statistics2, ddof=1))\n",
    "#ax.scatter(statistics2, np.zeros(len(statistics2)))\n",
    "kde2 = KDE(bandwidth=2)\n",
    "kde2.fit(statistics2.reshape(-1, 1), )\n",
    "log_dens = kde2.score_samples(xs.reshape(-1,1))\n",
    "ax.fill(xs, np.exp(log_dens), fc='#AAAAFF')\n",
    "ax.set_title('Bootstrap from A2')\n",
    "from scipy.stats import shapiro\n",
    "p = shapiro(statistics2)\n",
    "p # fail to reject that T is normally distributed"
   ]
  },
  {
   "cell_type": "code",
   "execution_count": 16,
   "metadata": {},
   "outputs": [
    {
     "data": {
      "text/plain": [
       "[<matplotlib.patches.Polygon at 0x7f79136a1048>]"
      ]
     },
     "execution_count": 16,
     "metadata": {},
     "output_type": "execute_result"
    },
    {
     "data": {
      "image/png": "[encoded data removed]",
      "text/plain": [
       "<Figure size 432x288 with 1 Axes>"
      ]
     },
     "metadata": {
      "needs_background": "light"
     },
     "output_type": "display_data"
    }
   ],
   "source": [
    "fig, ax = plt.subplots(1,1)\n",
    "#xs = np.arange(min(statistics2) - np.std(statistics2, ddof=1), max(statistics2) + np.std(statistics2, ddof=1))\n",
    "#ax.scatter(statistics2, np.zeros(len(statistics2)))\n",
    "\n",
    "kde0 = KDE(bandwidth=2)\n",
    "kde0.fit(statistics.reshape(-1, 1), )\n",
    "log_dens = kde.score_samples(xs.reshape(-1,1))\n",
    "ax.fill(xs, np.exp(log_dens), c='b', alpha=0.5)\n",
    "# ax.set_title('Null')\n",
    "kde1 = KDE(bandwidth=2)\n",
    "kde1.fit(statistics1.reshape(-1, 1), )\n",
    "log_dens = kde1.score_samples(xs.reshape(-1,1))\n",
    "ax.fill(xs, np.exp(log_dens), c='r', alpha=0.5)\n",
    "# ax.set_title('Bootstrap from A1')\n",
    "kde2 = KDE(bandwidth=2)\n",
    "kde2.fit(statistics2.reshape(-1, 1), )\n",
    "log_dens = kde2.score_samples(xs.reshape(-1,1))\n",
    "ax.fill(xs, np.exp(log_dens), c='g', alpha=0.5)\n",
    "# ax.set_title('Bootstrap from A2')"
   ]
  },
  {
   "cell_type": "code",
   "execution_count": null,
   "metadata": {},
   "outputs": [],
   "source": []
  },
  {
   "cell_type": "code",
   "execution_count": null,
   "metadata": {},
   "outputs": [],
   "source": []
  },
  {
   "cell_type": "code",
   "execution_count": null,
   "metadata": {},
   "outputs": [],
   "source": []
  },
  {
   "cell_type": "code",
   "execution_count": 43,
   "metadata": {},
   "outputs": [
    {
     "name": "stdout",
     "output_type": "stream",
     "text": [
      "7.061866088503691e-08 0.2001071676421562 7.129752615737157e-12\n"
     ]
    }
   ],
   "source": [
    "from scipy.stats import ks_2samp as KS\n",
    "W01, p01 = KS(statistics, statistics1)\n",
    "W02, p02 = KS(statistics, statistics2)\n",
    "W12, p12= KS(statistics1, statistics2)\n",
    "print(p01, p02, p12)"
   ]
  },
  {
   "cell_type": "code",
   "execution_count": null,
   "metadata": {},
   "outputs": [],
   "source": [
    "# Is the fact that we reject for 01, 12 attributable to the fact that \"the likelihood surface is flat\""
   ]
  },
  {
   "cell_type": "code",
   "execution_count": 49,
   "metadata": {},
   "outputs": [],
   "source": [
    "# Compare to -- N(0, 1), n = 10 testing equality of means\n",
    "Ts = []\n",
    "for i in range(300):\n",
    "    X = np.random.normal(0, 1, 10)\n",
    "    X_bar = np.mean(X)\n",
    "\n",
    "    Y = np.random.normal(0,1,10)\n",
    "    Y_bar=np.mean(Y)\n",
    "    \n",
    "    T = X_bar - Y_bar\n",
    "    Ts.append(T)\n",
    "Ts = np.array(Ts)"
   ]
  },
  {
   "cell_type": "code",
   "execution_count": 61,
   "metadata": {},
   "outputs": [
    {
     "data": {
      "text/plain": [
       "[<matplotlib.patches.Polygon at 0x7fabd7276048>]"
      ]
     },
     "execution_count": 61,
     "metadata": {},
     "output_type": "execute_result"
    },
    {
     "data": {
      "image/png": "[encoded data removed]",
      "text/plain": [
       "<Figure size 432x288 with 1 Axes>"
      ]
     },
     "metadata": {
      "needs_background": "light"
     },
     "output_type": "display_data"
    }
   ],
   "source": [
    "fig, ax = plt.subplots(1,1)\n",
    "xs = np.arange(min(Ts) - np.std(Ts, ddof=1), max(Ts) + np.std(Ts, ddof=1))\n",
    "ax.scatter(Ts, np.zeros(len(Ts)))\n",
    "kde = KDE(bandwidth=0.2, kernel='gaussian')\n",
    "kde.fit(Ts.reshape(-1, 1), )\n",
    "log_dens = kde.score_samples(xs.reshape(-1,1))\n",
    "ax.fill(xs, np.exp(log_dens), fc='#AAAAFF')"
   ]
  },
  {
   "cell_type": "code",
   "execution_count": 66,
   "metadata": {},
   "outputs": [],
   "source": [
    "X = np.random.normal(0, 1, 10)\n",
    "Y = np.random.normal(0,1,10)\n",
    "T_bs =[]\n",
    "for b in range(300):\n",
    "    samplex = np.random.choice(X, 10, replace=True)\n",
    "    sampley = np.random.choice(Y, 10, replace=True)\n",
    "\n",
    "    X_bar = np.mean(samplex)\n",
    "    Y_bar =np.mean(sampley)\n",
    "    \n",
    "    T = X_bar - Y_bar\n",
    "    T_bs.append(T)\n",
    "T_bs=np.array(T_bs)"
   ]
  },
  {
   "cell_type": "code",
   "execution_count": 67,
   "metadata": {},
   "outputs": [
    {
     "data": {
      "text/plain": [
       "[<matplotlib.patches.Polygon at 0x7fabd7103470>]"
      ]
     },
     "execution_count": 67,
     "metadata": {},
     "output_type": "execute_result"
    },
    {
     "data": {
      "image/png": "[encoded data removed]",
      "text/plain": [
       "<Figure size 432x288 with 1 Axes>"
      ]
     },
     "metadata": {
      "needs_background": "light"
     },
     "output_type": "display_data"
    }
   ],
   "source": [
    "fig, ax = plt.subplots(1,1)\n",
    "xs = np.arange(min(T_bs) - np.std(T_bs, ddof=1), max(T_bs) + np.std(T_bs, ddof=1))\n",
    "ax.scatter(T_bs, np.zeros(len(Ts)))\n",
    "kde = KDE(bandwidth=0.2, kernel='gaussian')\n",
    "kde.fit(T_bs.reshape(-1, 1), )\n",
    "log_dens = kde.score_samples(xs.reshape(-1,1))\n",
    "ax.fill(xs, np.exp(log_dens), fc='#AAAAFF')"
   ]
  },
  {
   "cell_type": "code",
   "execution_count": 68,
   "metadata": {},
   "outputs": [
    {
     "data": {
      "text/plain": [
       "5.7105037378956984e-27"
      ]
     },
     "execution_count": 68,
     "metadata": {},
     "output_type": "execute_result"
    }
   ],
   "source": [
    "from scipy.stats import ks_2samp\n",
    "W, p = ks_2samp(Ts, T_bs)\n",
    "p"
   ]
  },
  {
   "cell_type": "code",
   "execution_count": 19,
   "metadata": {},
   "outputs": [
    {
     "data": {
      "text/plain": [
       "1.5370897696001196"
      ]
     },
     "execution_count": 19,
     "metadata": {},
     "output_type": "execute_result"
    }
   ],
   "source": [
    "# Set up\n",
    "np.random.seed(1)\n",
    "alpha=0.05\n",
    "n = 100\n",
    "pi0=0.5\n",
    "pi=[pi0, 1-pi0]\n",
    "k=1\n",
    "b=100\n",
    "epsilons=[0, 0.05, 0.1, 0.2]\n",
    "MC=200\n",
    "\n",
    "B1 = np.array([\n",
    "    [0.6, 0.3],\n",
    "    [0.3, 0.6]\n",
    "])\n",
    "\n",
    "B2 = B1.copy() #+ np.diag(epsilons*np.ones)\n",
    "\n",
    "A1 = sbm.adj_matrix(n, pi, B1)\n",
    "A2 = sbm.adj_matrix(n, pi, B2)\n",
    "\n",
    "new_A1, new_A2 = switcheroo(A1, A2, k)\n",
    "\n",
    "ase_object1 = ASE()\n",
    "X_hat1 = ase_object1.fit_transform(A1)\n",
    "ase_object2 = ASE()\n",
    "X_hat2 = ase_object2.fit_transform(new_A1)\n",
    "\n",
    "P1 = X_hat1 @ X_hat1.T\n",
    "P2 = X_hat2 @ X_hat2.T\n",
    "\n",
    "T = np.linalg.norm(P1 - P2)\n",
    "T"
   ]
  },
  {
   "cell_type": "code",
   "execution_count": 24,
   "metadata": {},
   "outputs": [
    {
     "data": {
      "text/plain": [
       "array([[0.56745137, 0.6022672 , 0.58451126, ..., 0.24163599, 0.30632868,\n",
       "        0.30364064],\n",
       "       [0.6022672 , 0.64836532, 0.62804146, ..., 0.31690206, 0.39253268,\n",
       "        0.38406787],\n",
       "       [0.58451126, 0.62804146, 0.6085122 , ..., 0.29957065, 0.37205046,\n",
       "        0.36457694],\n",
       "       ...,\n",
       "       [0.24163599, 0.31690206, 0.29957065, ..., 0.50230344, 0.57590256,\n",
       "        0.53767329],\n",
       "       [0.30632868, 0.39253268, 0.37205046, ..., 0.57590256, 0.66218665,\n",
       "        0.61937513],\n",
       "       [0.30364064, 0.38406787, 0.36457694, ..., 0.53767329, 0.61937513,\n",
       "        0.5800196 ]])"
      ]
     },
     "execution_count": 24,
     "metadata": {},
     "output_type": "execute_result"
    }
   ],
   "source": [
    "P2"
   ]
  },
  {
   "cell_type": "code",
   "execution_count": 45,
   "metadata": {},
   "outputs": [
    {
     "data": {
      "application/vnd.jupyter.widget-view+json": {
       "model_id": "b93e81582e3949e2a1f19faf09f37525",
       "version_major": 2,
       "version_minor": 0
      },
      "text/plain": [
       "HBox(children=(IntProgress(value=0, max=150), HTML(value='')))"
      ]
     },
     "metadata": {},
     "output_type": "display_data"
    },
    {
     "name": "stdout",
     "output_type": "stream",
     "text": [
      "\n"
     ]
    }
   ],
   "source": [
    "stats1 = generate_null_distribution(P1, n, b=150, verbose=True)"
   ]
  },
  {
   "cell_type": "code",
   "execution_count": 47,
   "metadata": {},
   "outputs": [
    {
     "data": {
      "text/plain": [
       "0.12"
      ]
     },
     "execution_count": 47,
     "metadata": {},
     "output_type": "execute_result"
    }
   ],
   "source": [
    "find_p(stats1, T)"
   ]
  },
  {
   "cell_type": "code",
   "execution_count": 46,
   "metadata": {},
   "outputs": [
    {
     "data": {
      "text/plain": [
       "array([12.32545785, 12.04355023, 10.50550961, 11.09417691, 11.05248546,\n",
       "       10.74473827, 11.98479088, 10.68801406, 11.97084167, 12.22152218,\n",
       "       11.89973904, 10.88112489, 12.57005568, 12.13090312, 11.91952248,\n",
       "       10.50943314, 11.58639974, 10.58566944, 11.37762376, 11.98701588,\n",
       "       10.83606917, 11.95654899, 11.24001557, 11.58307547, 11.61248323,\n",
       "       11.89237353, 11.19376096, 11.65263925, 12.41030794, 12.90749636,\n",
       "       11.53820285, 11.91276755, 11.29774965, 11.7119777 , 12.96390587,\n",
       "       11.46324484, 11.41815651,  9.82381174, 11.89374027, 12.48720084,\n",
       "       12.50566041, 10.70961065, 12.04279125, 11.31452739, 11.75758982,\n",
       "       11.48027861, 11.69439867, 12.33551773, 10.85927868, 11.90205876,\n",
       "       11.14819   , 11.32702162, 11.10585972, 10.86887622, 12.83327069,\n",
       "       12.6724352 , 11.02919819, 10.96893065, 11.55758993, 11.16240659,\n",
       "       10.80417826, 11.68411754, 10.9248334 , 11.54952929, 10.35003646,\n",
       "       12.60932958, 10.67444866, 10.89436539, 11.86525964, 11.40489183,\n",
       "       10.7624986 , 10.41933014, 10.56992093, 11.32361652, 11.07793464,\n",
       "       12.32897339, 10.81600151, 11.98511392, 10.94632238, 11.6084274 ,\n",
       "       11.65478618, 12.73225891, 10.46391965, 10.44374307, 13.26849173,\n",
       "       11.74967516, 11.83381403, 11.2408967 , 11.66263845, 12.50302265,\n",
       "       11.11672117, 11.31075508, 12.13165535, 11.5147855 , 11.11894579,\n",
       "       11.66362926, 11.4883427 , 11.66089001, 12.24217642, 10.38936012,\n",
       "       12.09001108, 11.8748493 , 11.11829641, 11.92173977, 11.50672807,\n",
       "       11.80142577, 10.68405166, 10.75089463, 11.39969877, 11.59528828,\n",
       "       11.91226764, 11.58427996, 11.06946725, 10.95543945, 10.97723745,\n",
       "       11.73702786, 12.70092502, 12.22084105, 10.6556285 ,  9.80896678,\n",
       "       11.38849255, 10.50022586, 11.30507092, 11.91042278, 11.83259401,\n",
       "       10.24561791, 11.94736198, 12.38435436, 10.91425124, 11.36344238,\n",
       "       11.76621141, 11.57632902, 10.99896752, 11.05063864, 11.47284914,\n",
       "       10.20169341, 11.0513749 , 12.25089354, 11.70944606, 11.09533448,\n",
       "       11.1302752 , 11.60133734, 12.236437  , 11.58689049, 10.49081903,\n",
       "       11.24253715, 10.77005625, 12.28148336, 10.4798894 , 11.53441144])"
      ]
     },
     "execution_count": 46,
     "metadata": {},
     "output_type": "execute_result"
    }
   ],
   "source": [
    "stats1"
   ]
  },
  {
   "cell_type": "markdown",
   "metadata": {},
   "source": [
    "One question to answer is how well the estimated distribution of $ T $ approximates the distribution of $ T $ under the null. As carey pointed out, it is unclear how graph bootstrapping will affect the validity of this procedure. Hence, the next few cells will aid us in understanding the answer (and even the question).\n",
    "\n",
    "First, we fix $ K \\in [|V|] \\le? \\frac{|V|}{2} $. Then we will generate the distribution of the test statistic? under the \"true\" null. This requires drawing M pairs of graphs from the true latent positions, considering the $ 2{n \\choose K} $ transplanted graphs for each pair and averaging the distance of the frobenius norms of the difference between the transplanted graph and the original graph. We do this for both graphs and end up with\n",
    "\n",
    "$$ T = \\frac{1}{2 n choose K} \\sum_{s \\in S} || A^{b, 1} - A^{b, 1}_{s, 2} ||_{F} + \\frac{1}{2 n choose K} \\sum_{s \\in S} || A^{b, 2} - A^{b, 2}_{s, 1} ||_{F} $$\n",
    "\n",
    "We do this M times to generate a distribution under the null."
   ]
  },
  {
   "cell_type": "code",
   "execution_count": 17,
   "metadata": {},
   "outputs": [
    {
     "name": "stdout",
     "output_type": "stream",
     "text": [
      "[[0. 0. 1. 0. 0. 1. 0. 1. 1. 1. 1. 1. 0. 0. 0. 1. 0. 0. 1. 1. 0. 0. 0. 0.\n",
      "  1. 1. 1. 1. 0. 1. 0. 1. 0. 0. 0. 1. 1. 0. 0. 1. 1. 0. 1. 1. 0. 1. 1. 0.\n",
      "  0. 0. 0. 0. 1. 0. 0. 0. 0. 0. 0. 0. 0. 0. 0. 0. 0. 1. 0. 0. 0. 0. 0. 1.\n",
      "  0. 0. 0. 0. 0. 0. 0. 0. 0. 1. 0. 0. 0. 0. 0. 0. 1. 0. 0. 0. 0. 0. 1. 1.\n",
      "  0. 1. 0. 0.]\n",
      " [0. 0. 0. 0. 0. 1. 1. 1. 0. 1. 1. 0. 0. 1. 0. 1. 0. 0. 1. 0. 0. 0. 0. 0.\n",
      "  0. 1. 0. 0. 0. 0. 0. 0. 0. 1. 1. 0. 0. 0. 1. 1. 0. 1. 1. 0. 1. 0. 0. 1.\n",
      "  1. 0. 0. 1. 0. 0. 0. 0. 0. 0. 0. 0. 0. 1. 0. 1. 0. 0. 0. 0. 0. 1. 0. 0.\n",
      "  0. 1. 0. 1. 0. 0. 1. 0. 0. 0. 0. 0. 0. 0. 0. 0. 0. 0. 0. 0. 0. 0. 0. 0.\n",
      "  0. 0. 0. 0.]]\n",
      "[[0. 0. 1. 0. 0. 1. 0. 1. 1. 1. 1. 1. 0. 0. 0. 1. 0. 0. 1. 1. 0. 0. 0. 0.\n",
      "  1. 1. 1. 1. 0. 1. 0. 1. 0. 0. 0. 1. 1. 0. 0. 1. 1. 0. 1. 1. 0. 1. 1. 0.\n",
      "  0. 0. 0. 0. 1. 0. 0. 0. 0. 0. 0. 0. 0. 0. 0. 0. 0. 1. 0. 0. 0. 0. 0. 1.\n",
      "  0. 0. 0. 0. 0. 0. 0. 0. 0. 1. 0. 0. 0. 0. 0. 0. 1. 0. 0. 0. 0. 0. 1. 1.\n",
      "  0. 1. 0. 0.]\n",
      " [1. 0. 0. 1. 1. 1. 0. 0. 0. 0. 1. 0. 1. 1. 1. 0. 1. 1. 0. 1. 1. 0. 1. 0.\n",
      "  1. 0. 0. 1. 0. 1. 1. 0. 1. 0. 0. 0. 0. 0. 1. 0. 0. 1. 0. 0. 1. 0. 0. 1.\n",
      "  1. 0. 0. 1. 0. 0. 0. 0. 0. 1. 0. 1. 0. 0. 0. 0. 0. 0. 1. 0. 0. 1. 0. 0.\n",
      "  0. 0. 1. 0. 0. 0. 0. 0. 0. 1. 0. 0. 1. 0. 0. 0. 0. 0. 1. 0. 0. 0. 0. 0.\n",
      "  0. 0. 0. 0.]]\n",
      "[[0. 0. 0. 0. 0. 1. 1. 1. 0. 1. 1. 0. 0. 1. 0. 1. 0. 0. 1. 0. 0. 0. 0. 0.\n",
      "  0. 1. 0. 0. 0. 0. 0. 0. 0. 1. 1. 0. 0. 0. 1. 1. 0. 1. 1. 0. 1. 0. 0. 1.\n",
      "  1. 0. 0. 1. 0. 0. 0. 0. 0. 0. 0. 0. 0. 1. 0. 1. 0. 0. 0. 0. 0. 1. 0. 0.\n",
      "  0. 1. 0. 1. 0. 0. 1. 0. 0. 0. 0. 0. 0. 0. 0. 0. 0. 0. 0. 0. 0. 0. 0. 0.\n",
      "  0. 0. 0. 0.]\n",
      " [1. 0. 0. 1. 1. 1. 0. 0. 0. 0. 1. 0. 1. 1. 1. 0. 1. 1. 0. 1. 1. 0. 1. 0.\n",
      "  1. 0. 0. 1. 0. 1. 1. 0. 1. 0. 0. 0. 0. 0. 1. 0. 0. 1. 0. 0. 1. 0. 0. 1.\n",
      "  1. 0. 0. 1. 0. 0. 0. 0. 0. 1. 0. 1. 0. 0. 0. 0. 0. 0. 1. 0. 0. 1. 0. 0.\n",
      "  0. 0. 1. 0. 0. 0. 0. 0. 0. 1. 0. 0. 1. 0. 0. 0. 0. 0. 1. 0. 0. 0. 0. 0.\n",
      "  0. 0. 0. 0.]]\n"
     ]
    }
   ],
   "source": [
    "for i in it.combinations(range(3), 2):\n",
    "    print(A1[i, :])"
   ]
  },
  {
   "cell_type": "code",
   "execution_count": null,
   "metadata": {},
   "outputs": [],
   "source": []
  },
  {
   "cell_type": "code",
   "execution_count": null,
   "metadata": {},
   "outputs": [],
   "source": [
    "## Validity"
   ]
  },
  {
   "cell_type": "code",
   "execution_count": null,
   "metadata": {},
   "outputs": [],
   "source": [
    "## Consistency"
   ]
  },
  {
   "cell_type": "code",
   "execution_count": null,
   "metadata": {},
   "outputs": [],
   "source": [
    "## vs semi-par"
   ]
  }
 ],
 "metadata": {
  "kernelspec": {
   "display_name": "Python 3",
   "language": "python",
   "name": "python3"
  }
 },
 "nbformat": 4,
 "nbformat_minor": 2
}
