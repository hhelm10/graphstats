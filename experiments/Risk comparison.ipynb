{
 "cells": [
  {
   "cell_type": "code",
   "execution_count": 3,
   "metadata": {},
   "outputs": [],
   "source": [
    "import graspy\n",
    "from tqdm import tqdm_notebook as tqdm\n",
    "\n",
    "import matplotlib.pyplot as plt\n",
    "import numpy as np\n",
    "from graspy.simulations import sbm\n",
    "%matplotlib inline"
   ]
  },
  {
   "cell_type": "markdown",
   "metadata": {},
   "source": [
    "In the \"error\" story, there are two considerations. 1) Estimation of model parameters when class membership is known, 2) Estimation of model parameters when class membship is not known\n",
    "\n"
   ]
  },
  {
   "cell_type": "code",
   "execution_count": 4,
   "metadata": {},
   "outputs": [],
   "source": [
    "def choose(n, k):\n",
    "    return np.math.factorial(n) / (np.math.factorial(n - k)*np.math.factorial(k))\n",
    "\n",
    "def blowup(P, tau):\n",
    "    n = len(tau)\n",
    "    unique_labels = np.unique(tau)\n",
    "    \n",
    "    new_tau = -1*np.ones(n).astype(int)\n",
    "    for i in range(n):\n",
    "        new_tau[i] = int(np.where(tau[i]==unique_labels)[0][0])\n",
    "    blown_up = np.zeros((n, n))\n",
    "    \n",
    "    for i in range(n):\n",
    "        temp_label1 = new_tau[i]\n",
    "        for j in range(i+1, n):\n",
    "            temp_label2 = new_tau[j]\n",
    "            blown_up[i,j] = P[new_tau[i], new_tau[j]]\n",
    "            blown_up[j,i] = P[new_tau[j], new_tau[i]]\n",
    "            \n",
    "    return blown_up\n",
    "\n",
    "def estimate_P(G, tau=None):\n",
    "    if tau is None:\n",
    "        return (np.sum(G)/2)/choose(n,2)\n",
    "    \n",
    "    n = len(tau)\n",
    "    unique_labels, label_counts = np.unique(tau, return_counts=True)\n",
    "    \n",
    "    K = len(unique_labels)\n",
    "    \n",
    "    counts = np.zeros((K,K))\n",
    "    for i in range(n):\n",
    "        temp1=tau[i]\n",
    "        for j in range(i+1, n):\n",
    "            temp2=tau[j]\n",
    "            counts[temp1,temp2]+=G[i,j]\n",
    "    p_hat = np.zeros(counts.shape)\n",
    "    for k in range(K):\n",
    "        p_hat[k,k] = counts[k,k] / choose(label_counts[k], 2)\n",
    "        for j in range(k+1, K):\n",
    "            p_hat[k,j] = counts[k,j]/(label_counts[j]*label_counts[k])\n",
    "            p_hat[j,k]=p_hat[k,j]\n",
    "            \n",
    "    return p_hat"
   ]
  },
  {
   "cell_type": "code",
   "execution_count": 5,
   "metadata": {},
   "outputs": [
    {
     "data": {
      "application/vnd.jupyter.widget-view+json": {
       "model_id": "e820a146df384bdf85b2c14c10df8a1a",
       "version_major": 2,
       "version_minor": 0
      },
      "text/plain": [
       "HBox(children=(IntProgress(value=0, max=7), HTML(value='')))"
      ]
     },
     "metadata": {},
     "output_type": "display_data"
    },
    {
     "name": "stdout",
     "output_type": "stream",
     "text": [
      "\n"
     ]
    }
   ],
   "source": [
    "np.random.seed(2)\n",
    "MCs=20\n",
    "n=100\n",
    "pi0=0.5\n",
    "\n",
    "P = np.array([\n",
    "    [0.3, 0.3],\n",
    "     [0.3, 0.3]\n",
    "])\n",
    "\n",
    "cs = np.arange(0, 0.7, 0.1)\n",
    "\n",
    "sbms = [[] for _ in cs]\n",
    "sbms_unknown = [[] for _ in cs]\n",
    "sbms_NS = [[] for _ in cs]\n",
    "ers = [[] for _ in cs]\n",
    "\n",
    "for i, c in enumerate(tqdm(cs)):\n",
    "    for _ in range(MCs):\n",
    "        \n",
    "        # Not conditioning on the number of nodes in each block\n",
    "        S=int(np.random.binomial(n, pi0))\n",
    "        ns = [S, n - S]\n",
    "        \n",
    "        # Block membership vector\n",
    "        tau = np.concatenate((np.zeros(S), np.ones(n -S))).astype(int)\n",
    "        \n",
    "        # Probability matrix for this iteration\n",
    "        temp_P = P + np.diag(c*np.ones(len(ns)))\n",
    "        temp_P_blownup = blowup(temp_P, tau)\n",
    "\n",
    "        # Generate adjacency matrix\n",
    "        G = sbm(n=ns, p=temp_P)\n",
    "\n",
    "        # Estimate p\n",
    "        p_hat = (np.sum(G)/2)/choose(n,2)\n",
    "        \n",
    "        # Or p_hat * np.ones(shape=(n,n))\n",
    "        ER_estimate=blowup(p_hat*np.ones(temp_P.shape), tau)\n",
    "        \n",
    "        # Error should depend on the number of nodes\n",
    "        ER_error = np.linalg.norm(ER_estimate - temp_P_blownup)**2\n",
    "        ers[i].append(ER_error)\n",
    "        \n",
    "        # First calculate the error for non spectral methods (only possible when tau known)\n",
    "        Phat = estimate_P(G, tau)\n",
    "        NS_estimate = blowup(Phat, tau)\n",
    "        NS_error = np.linalg.norm(NS_estimate - temp_P_blownup)**2\n",
    "        sbms_NS[i].append(NS_error)\n",
    "        \n",
    "        # Then the error for spectral method when block membership is known\n",
    "        ase = graspy.embed.AdjacencySpectralEmbed()\n",
    "        X_hat = ase.fit_transform(G)\n",
    "        means = np.array([np.mean(X_hat[range(S)], axis=0), np.mean(X_hat[range(S, n)], axis=0)])\n",
    "        SBM = means @ means.T\n",
    "        SBM_estimate = blowup(SBM, tau)\n",
    "        SBM_error = np.linalg.norm(SBM_estimate - temp_P_blownup)**2\n",
    "        sbms[i].append(SBM_error)\n",
    "\n",
    "        # Finally, the error for spectral method when block membership is not known\n",
    "        # This requires first estimating block membership (i used gmm)\n",
    "        gmm = graspy.cluster.GaussianCluster(max_components=2, min_components=2, covariance_type='full')\n",
    "        gmm.fit(X_hat)\n",
    "        estimated_tau1 = gmm.predict(X_hat)\n",
    "        estimated_tau2 = 1 - estimated_tau1\n",
    "        means_unknown = gmm.model_.means_\n",
    "        \n",
    "        SBM_unknown = means_unknown @ means_unknown.T\n",
    "        SBM_estimate_unknown1 = blowup(SBM_unknown, estimated_tau1)\n",
    "        SBM_estimate_unknown2 = blowup(SBM_unknown, estimated_tau2)\n",
    "        \n",
    "        SBM_error_unknown1 = np.linalg.norm(SBM_estimate_unknown1 - temp_P_blownup)**2\n",
    "        SBM_error_unknown2 = np.linalg.norm(SBM_estimate_unknown2 - temp_P_blownup)**2\n",
    "        sbms_unknown[i].append(min(SBM_error_unknown1, SBM_error_unknown2))"
   ]
  },
  {
   "cell_type": "code",
   "execution_count": 6,
   "metadata": {},
   "outputs": [
    {
     "data": {
      "text/plain": [
       "array([[0.89367624, 0.30270748],\n",
       "       [0.30270748, 0.86902019]])"
      ]
     },
     "execution_count": 6,
     "metadata": {},
     "output_type": "execute_result"
    }
   ],
   "source": [
    "means @ means.T"
   ]
  },
  {
   "cell_type": "code",
   "execution_count": 9,
   "metadata": {},
   "outputs": [
    {
     "data": {
      "image/png": "[encoded data removed]",
      "text/plain": [
       "<Figure size 432x288 with 1 Axes>"
      ]
     },
     "metadata": {
      "needs_background": "light"
     },
     "output_type": "display_data"
    }
   ],
   "source": [
    "er_means = np.array([np.mean(e) for e in ers])/n**2\n",
    "sbm_ns_means = np.array([np.mean(s) for s in sbms_NS])/n**2\n",
    "sbm_means = np.array([np.mean(s) for s in sbms])/n**2\n",
    "sbm_unknown_means = np.array([np.mean(s) for s in sbms_unknown])/n**2\n",
    "\n",
    "er_stderr = [np.std(e, ddof=1) for e in ers]/np.sqrt(MCs)\n",
    "sbm_stderr = [np.std(s, ddof=1) for s in sbms]/np.sqrt(MCs)\n",
    "sbm_ns_means = [np.std(s, ddof=1) for s in sbms_NS]/np.sqrt(MCs)\n",
    "sbm_unknown_means = [np.std(s, ddof=1) for s in sbms_unknown]/np.sqrt(MCs)\n",
    "\n",
    "fig, ax = plt.subplots(1,1)\n",
    "ax.plot(cs, er_means, c = 'b', label = 'ER')\n",
    "ax.plot(cs, sbm_ns_means, c = 'g', label = 'SBM non-spectral')\n",
    "ax.plot(cs, sbm_means, c='r', label = 'SBM spectral')\n",
    "ax.plot(cs, sbm_unknown_means, c = 'c', label='SBM unknown blocks')\n",
    "# ax.fill_between(cs, \n",
    "#                 er_means + 1.96*er_stderr,\n",
    "#                 er_means - 1.96*er_stderr,\n",
    "#                 where=er_means + 1.96*er_stderr >= er_means - 1.96*er_stderr, \n",
    "#                 facecolor='b', \n",
    "#                 alpha=0.15,\n",
    "#                 interpolate=True)\n",
    "# ax.fill_between(cs, \n",
    "#                 sbm_means + 1.96*sbm_stderr,\n",
    "#                 sbm_means - 1.96*sbm_stderr,\n",
    "#                 where=sbm_means + 1.96*sbm_stderr >= sbm_means - 1.96*sbm_stderr, \n",
    "#                 facecolor='r', \n",
    "#                 alpha=0.15,\n",
    "#                 interpolate=True)\n",
    "ax.set_ylabel('estimated MSE')\n",
    "ax.set_xlabel('e')\n",
    "ax.set_title('initial MSE comparison ')\n",
    "ax.legend()\n",
    "plt.savefig('initial_MSE_comparison.png')"
   ]
  },
  {
   "cell_type": "code",
   "execution_count": null,
   "metadata": {},
   "outputs": [],
   "source": []
  }
 ],
 "metadata": {
  "kernelspec": {
   "display_name": "Python 3",
   "language": "python",
   "name": "python3"
  },
  "language_info": {
   "codemirror_mode": {
    "name": "ipython",
    "version": 3
   },
   "file_extension": ".py",
   "mimetype": "text/x-python",
   "name": "python",
   "nbconvert_exporter": "python",
   "pygments_lexer": "ipython3",
   "version": "3.6.7"
  }
 },
 "nbformat": 4,
 "nbformat_minor": 2
}
