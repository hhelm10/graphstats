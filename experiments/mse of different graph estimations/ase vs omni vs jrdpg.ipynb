{
 "cells": [
  {
   "cell_type": "code",
   "execution_count": 30,
   "metadata": {},
   "outputs": [],
   "source": [
    "from graphstats import sbm\n",
    "from graspy.embed import OmnibusEmbed\n",
    "from graspy.embed import AdjacencySpectralEmbed\n",
    "import numpy as np\n",
    "import matplotlib.pyplot as plt\n",
    "from tqdm import tqdm_notebook as tqdm\n",
    "%matplotlib inline"
   ]
  },
  {
   "cell_type": "markdown",
   "metadata": {},
   "source": [
    "The goal of this notebook is to compare A_Bar, Omni_bar, and JRDPG as estimates of the underlying probability matrix. In particular, I want to consider generating matrices of the form\n",
    "$$ H \\Lambda^{i} H^{T} $$ where $ \\Lambda^{i} = \\Lambda + \\epsilon_{i} $ and $ \\epsilon_{i} = diag(e_{1}, .., e_{d}) $ where $ e_{i} \\sim N(0, \\sigma^{2}) $. Here, the setting with $ \\sigma^{2} = 0 $ is the setting in which $ \\bar{A} $ should \"win\" (in terms of MSE). Small $ \\sigma^{2} $ should favor $ \\widehat{Omni} $ and larger $ \\sigma^{2} $ should favor JRDPG.\n",
    "\n",
    "We first consider a 2-block model $ n = 100 $, $ M = 2 $, $ \\pi_{1} = \\pi_{2} = 0.5 $"
   ]
  },
  {
   "cell_type": "code",
   "execution_count": 53,
   "metadata": {},
   "outputs": [
    {
     "data": {
      "application/vnd.jupyter.widget-view+json": {
       "model_id": "cf59c8577fdb4f8799c91c0de47e7640",
       "version_major": 2,
       "version_minor": 0
      },
      "text/plain": [
       "HBox(children=(IntProgress(value=0, max=20), HTML(value='')))"
      ]
     },
     "metadata": {},
     "output_type": "display_data"
    },
    {
     "name": "stdout",
     "output_type": "stream",
     "text": [
      "\n"
     ]
    }
   ],
   "source": [
    "np.random.seed(1)\n",
    "\n",
    "n = 50\n",
    "pi1 = 0.5\n",
    "pi2 = 1 - pi1\n",
    "pis = np.array([pi1, pi2])\n",
    "pi = pis\n",
    "\n",
    "H = np.array([[1/np.sqrt(2), 1/np.sqrt(2)], [1/np.sqrt(2), 1/np.sqrt(3)]])\n",
    "L = [0.5, 0.5]\n",
    "P = H @ np.diag(L) @ H.T\n",
    "\n",
    "sigmas = np.arange(0.2, step = 0.01)\n",
    "\n",
    "it = 10\n",
    "abarSE = [[] for s in sigmas]\n",
    "omniSE = [[] for s in sigmas]\n",
    "omnibarSE = [[] for s in sigmas]\n",
    "\n",
    "for i, s in enumerate(tqdm(sigmas)):\n",
    "    for j in range(it):\n",
    "        E1 = np.random.normal(0, s, 2)\n",
    "        E2 = np.random.normal(0, s, 2)\n",
    "        \n",
    "        L1 = np.diag(L + E1)\n",
    "        L2 = np.diag(L + E2)\n",
    "        \n",
    "        P1 = H @ L1 @ H.T\n",
    "        P2 = H @ L2 @ H.T\n",
    "        \n",
    "        A1 = sbm.adj_matrix(n = n, Lambda = P1, pi = pi, acorn = int(i*j + i))\n",
    "        A2 = sbm.adj_matrix(n = n, Lambda = P2, pi = pi, acorn = int(i*j + 2*(i + j + 1)))\n",
    "        \n",
    "        omni_object = OmnibusEmbed()\n",
    "        Zhat = omni_object.fit_transform([A1, A2])\n",
    "        Zhat_means1 = np.array([np.mean(Zhat[0][:int(n/2)], axis = 0), np.mean(Zhat[0][int(n/2):], axis = 0)])\n",
    "        P1_omni = Zhat_means1 @ Zhat_means1.T\n",
    "        \n",
    "        Zhat_means2 = np.array([np.mean(Zhat[1][:int(n/2)], axis = 0), np.mean(Zhat[1][int(n/2):], axis = 0)])\n",
    "        P2_omni = Zhat_means2 @ Zhat_means2.T\n",
    "        omniSE[i].append((np.linalg.norm(P1_omni - P)**2 + np.linalg.norm(P2_omni - P)**2)/2)\n",
    "        \n",
    "        omnibar = np.mean([Zhat[0], Zhat[1]], axis = 0)\n",
    "        omnibar_means = np.array([np.mean(omnibar[:int(n/2)], axis = 0), np.mean(omnibar[int(n/2): ], axis = 0)])\n",
    "        P_omni = omnibar_means @ omnibar_means.T\n",
    "        omnibarSE[i].append(np.linalg.norm(P_omni - P)**2)\n",
    "        \n",
    "        \n",
    "        A_bar = (A1 + A2)/2\n",
    "        ase_object = AdjacencySpectralEmbed()\n",
    "        X_hat = ase_object.fit_transform(A_bar)\n",
    "        A_bar_stacked_means = np.array([np.mean(X_hat[:int(n/2)], axis = 0), np.mean(X_hat[int(n/2):], axis = 0)])\n",
    "        P_abar = A_bar_stacked_means @ A_bar_stacked_means.T\n",
    "        abarSE[i].append(np.linalg.norm(P_abar - P)**2)\n",
    "        \n",
    "abarMSE = [np.mean(i) for i in abarSE]\n",
    "omniMSE = [np.mean(i) for i in omniSE]\n",
    "omnibarMSE = [np.mean(i) for i in omnibarSE]"
   ]
  },
  {
   "cell_type": "code",
   "execution_count": 56,
   "metadata": {},
   "outputs": [
    {
     "data": {
      "text/plain": [
       "Text(0, 0.5, 'Estimated MSE')"
      ]
     },
     "execution_count": 56,
     "metadata": {},
     "output_type": "execute_result"
    },
    {
     "data": {
      "image/png": "[encoded data removed]",
      "text/plain": [
       "<Figure size 432x288 with 1 Axes>"
      ]
     },
     "metadata": {
      "needs_background": "light"
     },
     "output_type": "display_data"
    }
   ],
   "source": [
    "fig, ax = plt.subplots(1,1)\n",
    "ax.plot(sigmas, abarMSE, label = 'Abar', c = 'r')\n",
    "ax.plot(sigmas, omniMSE, label = 'omni', c = 'b')\n",
    "ax.plot(sigmas, omnibarMSE, label = 'omnibar', c = 'g')\n",
    "ax.legend(loc = 'upper left')\n",
    "ax.set_xlabel('sigma')\n",
    "ax.set_ylabel('Estimated MSE')"
   ]
  },
  {
   "cell_type": "code",
   "execution_count": 28,
   "metadata": {},
   "outputs": [
    {
     "data": {
      "text/plain": [
       "0.43"
      ]
     },
     "execution_count": 28,
     "metadata": {},
     "output_type": "execute_result"
    }
   ],
   "source": [
    "s"
   ]
  }
 ],
 "metadata": {
  "kernelspec": {
   "display_name": "Python 3",
   "language": "python",
   "name": "python3"
  },
  "language_info": {
   "codemirror_mode": {
    "name": "ipython",
    "version": 3
   },
   "file_extension": ".py",
   "mimetype": "text/x-python",
   "name": "python",
   "nbconvert_exporter": "python",
   "pygments_lexer": "ipython3",
   "version": "3.6.7"
  }
 },
 "nbformat": 4,
 "nbformat_minor": 2
}
