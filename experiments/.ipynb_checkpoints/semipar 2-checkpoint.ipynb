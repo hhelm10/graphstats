{
 "cells": [
  {
   "cell_type": "code",
   "execution_count": 10,
   "metadata": {},
   "outputs": [],
   "source": [
    "from graphstats import sbm\n",
    "import graspy\n",
    "import numpy as np\n",
    "from graspy.embed import AdjacencySpectralEmbed as ASE"
   ]
  },
  {
   "cell_type": "markdown",
   "metadata": {},
   "source": [
    "The goal of this notebook is to propose a hypothesis test for testing whether or not two graphs with known vertex alginment share the same latent positions. This is a more restricted setting than the setting presented in Semi-par and so it should be possible to leverage the known vertex alignment to construct a more powerful test. \n",
    "\n",
    "Consider the following setting.\n",
    "Let $ A^{(1)}, A^{(2)} $ be observed adjacency matrices on $ V $ where it is assumed $ A \\sim RDPG(X_{1}) $ and $ B \\sim RDPG(X_{2}) $. Let $ X_{1}, X_{2} \\in \\mathbb{R}^{n \\times d} $ be stacked latent positions where the $ i^{th} $ row of $ X_{j} $ is the latent position of node $ i $ that generated $ A^{(j)} $. In this setting, a natural question to ask is whether or not $ X_{1}X_{1}^{T} = X_{2}X_{2}^{T} $. Note that $ X_{i}X_{i}^{T} \\in \\mathbb{R}^{n \\times n} $.\n",
    "\n",
    "Or testing \n",
    "\\begin{align*}\n",
    "H_{0}: X_{1}X_{1}^{T} &= X_{2}X_{2}^{T} \\\\\n",
    "& vs \\\\\n",
    "H_{1}: X_{1}X_{1}^{T} &\\neq X_{2}X_{2}^{T}\n",
    "\\end{align*}\n",
    "\n",
    "I propose a simple procedure in the vertex aligned setting. Let $ S \\subset V $ and let $ A^{(i)}_{S, j} $ denote the adjacency matrix in which the adjacencies of vertices in S in graph i are replaced by the adjacencies of vertices in S in graph j. In matrix syntax, let $ a_{k,\\ell}^{i} $ denote the (j, $\\ell$)th entry of graph i. Then the k,$\\ell$th entry of $ A^{(i)}_{S,j} $ is $ a_{k,\\ell}^{i} $ if $ k $ or $ \\ell $ is in $ S $ and $ a_{k, \\ell}^{j} $ otherwise.\n",
    "\n",
    "The testing procedure will go as follows. Fix $ K \\le \\frac{|V|}{2}\\in \\mathbb{N} $. Let $ \\hat{X}_{i} = ASE(A^{(i)}) $ and let $ \\hat{P}_{i} = \\hat{X}_{i} \\hat{X}_{i}^{T} $. Let $ B^{1}, B^{2} \\sim RDPG(\\hat{P}_{i}) $ on $ V $. Let S be a random subset of V of size K. Now let $ B^{1}_{S, 2} $ be defined as above and consider $ \\hat{Y}_{1} = ASE(B^{1}) $ and $ \\hat{Y}_{2} = ASE(B^{1}_{S, 2}) $ and let $ T = ||\\hat{Y}_{1}\\hat{Y}_{1}^{T} - \\hat{Y}_{2}\\hat{Y}_{2}^{T}||_{F}$. Repeating this a bunch of times we can get two distributions of $ T $ under the null. We reject if the observed statistic is in the $ (1 - \\alpha)^{th} $ quantile in both estimated distributions.\n",
    "\n",
    "This notebook will\n",
    "\n",
    "-- implement this testing procedure\n",
    "\n",
    "-- empirically show its validity\n",
    "\n",
    "-- empirically show its consistency\n",
    "\n",
    "-- compare power to semi-par"
   ]
  },
  {
   "cell_type": "code",
   "execution_count": 15,
   "metadata": {},
   "outputs": [],
   "source": [
    "## Implementation\n",
    "n = 200\n",
    "S = np.random.binomial(n, 0.5)\n",
    "\n",
    "pi = [S/n, 1 - S/n]\n",
    "eps = 0\n",
    "B1 = np.array([\n",
    "    [0.55, 0.25],\n",
    "    [0.25, 0.45]\n",
    "])\n",
    "\n",
    "B2 = np.array([\n",
    "    [0.55 + eps, 0.25],\n",
    "    [0.25, 0.45 + eps]\n",
    "])\n",
    "\n",
    "A1 = sbm.adj_matrix(n, pi, B1)\n",
    "A2 = sbm.adj_matrix(n, pi, B2)\n",
    "\n",
    "ase_object1 = ASE()\n",
    "X_hat1 = ase_object1.fit_transform(A1)\n",
    "ase_object2 = ASE()\n",
    "X_hat2 = ase_object2.fit_transform(A2)\n",
    "\n",
    "P1 = X_hat1 @ X_hat1.T\n",
    "P2 = X_hat2 @ X_hat2.T\n",
    "\n",
    "T = np.linalg.norm(P1 - P2)"
   ]
  },
  {
   "cell_type": "code",
   "execution_count": 17,
   "metadata": {},
   "outputs": [],
   "source": [
    "def switcheroo(A, B, k, seed=None):\n",
    "    if seed is None:\n",
    "        seed=np.random.randint(-10**6, 10**6)\n",
    "    np.random.seed(seed)\n",
    "    \n",
    "    S = np.random.choice(range(n), size=k, replace=False)\n",
    "    \n",
    "    return S\n",
    "\n",
    "def generate_null_distribution(P, n, k, b, seed=None):\n",
    "    \"\"\"\n",
    "    P - probability matrix\n",
    "    n - number of nodes\n",
    "    k - the size of the random subset to switch\n",
    "    b - number of iterations\n",
    "    \"\"\"\n",
    "    if seed is None:\n",
    "        seed = np.random.randint(-10**6, 10**6)\n",
    "    np.random.seed(seed)\n",
    "        \n",
    "    statistics=[]\n",
    "    for i in range(b):\n",
    "        tempA1 = sbm.adj_matrix(n, np.ones(n)/n, P)\n",
    "        tempA2 = sbm.adj_matrix(n, np.ones(n)/n, P)\n",
    "        \n",
    "        mix = switcheroo(tempA1, tempA2, k)\n",
    "        \n",
    "        ase_object1 = ASE()\n",
    "        X_hat1 = ase_object1.fit_transform(tempA1)\n",
    "        ase_object2 = ASE()\n",
    "        X_hat2 = ase_object2.fit_transform(mix)\n",
    "        \n",
    "        P1 = X_hat1 @ X_hat1.T\n",
    "        P2 = X_hat2 @ X_hat2.T\n",
    "        \n",
    "        T=np.linalg.norm(P1 - P2)\n",
    "        statistics.append(T)\n",
    "        \n",
    "    return statistics"
   ]
  },
  {
   "cell_type": "code",
   "execution_count": null,
   "metadata": {},
   "outputs": [],
   "source": []
  },
  {
   "cell_type": "code",
   "execution_count": null,
   "metadata": {},
   "outputs": [],
   "source": []
  },
  {
   "cell_type": "code",
   "execution_count": null,
   "metadata": {},
   "outputs": [],
   "source": [
    "## Validity"
   ]
  },
  {
   "cell_type": "code",
   "execution_count": null,
   "metadata": {},
   "outputs": [],
   "source": [
    "## Consistency"
   ]
  },
  {
   "cell_type": "code",
   "execution_count": null,
   "metadata": {},
   "outputs": [],
   "source": [
    "## vs semi-par"
   ]
  }
 ],
 "metadata": {
  "kernelspec": {
   "display_name": "Python 3",
   "language": "python",
   "name": "python3"
  },
  "language_info": {
   "codemirror_mode": {
    "name": "ipython",
    "version": 3
   },
   "file_extension": ".py",
   "mimetype": "text/x-python",
   "name": "python",
   "nbconvert_exporter": "python",
   "pygments_lexer": "ipython3",
   "version": "3.6.7"
  }
 },
 "nbformat": 4,
 "nbformat_minor": 2
}
