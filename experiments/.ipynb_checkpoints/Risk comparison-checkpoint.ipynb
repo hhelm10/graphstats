{
 "cells": [
  {
   "cell_type": "code",
   "execution_count": 57,
   "metadata": {},
   "outputs": [],
   "source": [
    "import graspy\n",
    "from tqdm import tqdm_notebook as tqdm\n",
    "\n",
    "import matplotlib.pyplot as plt\n",
    "import numpy as np\n",
    "from graspy.simulations import sbm\n",
    "%matplotlib inline"
   ]
  },
  {
   "cell_type": "markdown",
   "metadata": {},
   "source": [
    "In the \"error\" story, there are two considerations. 1) Estimation of model parameters when class membership is known, 2) Estimation of model parameters when class membship is not known\n",
    "\n"
   ]
  },
  {
   "cell_type": "code",
   "execution_count": 107,
   "metadata": {},
   "outputs": [],
   "source": [
    "def choose(n, k):\n",
    "    return np.math.factorial(n) / (np.math.factorial(n - k)*np.math.factorial(k))\n",
    "\n",
    "def blowup(P, tau):\n",
    "    n = len(tau)\n",
    "    \n",
    "    blown_up = np.zeros((n, n))\n",
    "    \n",
    "    for i in range(n):\n",
    "        temp_label1 = tau[i]\n",
    "        for j in range(i+1, n):\n",
    "            temp_label2 = tau[j]\n",
    "            blown_up[i,j] = P[tau[i], tau[j]]\n",
    "            blown_up[j,i] = P[tau[j], tau[i]]\n",
    "            \n",
    "    return blown_up\n",
    "\n",
    "def estimate_P(G, tau=None):\n",
    "    if tau is None:\n",
    "        return (np.sum(G)/2)/choose(n,2)\n",
    "    \n",
    "    n = len(tau)\n",
    "    unique_labels, label_counts = np.unique(tau, return_counts=True)\n",
    "    \n",
    "    K = len(unique_labels)\n",
    "    \n",
    "    counts = np.zeros((K,K))\n",
    "    for i in range(n):\n",
    "        temp1=tau[i]\n",
    "        for j in range(i+1, n):\n",
    "            temp2=tau[j]\n",
    "            counts[temp1,temp2]+=G[i,j]\n",
    "    p_hat = np.zeros(counts.shape)\n",
    "    for k in range(K):\n",
    "        p_hat[k,k] = counts[k,k] / choose(label_counts[k], 2)\n",
    "        for j in range(k+1, K):\n",
    "            p_hat[k,j] = counts[k,j]/label_counts[j]*label_counts[k]\n",
    "            p_hat[j,k]=p_hat[k,j]\n",
    "            \n",
    "    return p_hat"
   ]
  },
  {
   "cell_type": "code",
   "execution_count": 109,
   "metadata": {},
   "outputs": [
    {
     "data": {
      "application/vnd.jupyter.widget-view+json": {
       "model_id": "ab6a3d9158fb48dda932a5bdd8c1713a",
       "version_major": 2,
       "version_minor": 0
      },
      "text/plain": [
       "HBox(children=(IntProgress(value=0, max=7), HTML(value='')))"
      ]
     },
     "metadata": {},
     "output_type": "display_data"
    },
    {
     "name": "stdout",
     "output_type": "stream",
     "text": [
      "\n"
     ]
    },
    {
     "ename": "ValueError",
     "evalue": "shapes (2,1,3) and (3,1,2) not aligned: 3 (dim 2) != 1 (dim 1)",
     "output_type": "error",
     "traceback": [
      "\u001b[0;31m---------------------------------------------------------------------------\u001b[0m",
      "\u001b[0;31mValueError\u001b[0m                                Traceback (most recent call last)",
      "\u001b[0;32m<ipython-input-109-e16988b18c94>\u001b[0m in \u001b[0;36m<module>\u001b[0;34m\u001b[0m\n\u001b[1;32m     63\u001b[0m         \u001b[0mestimated_tau\u001b[0m \u001b[0;34m=\u001b[0m \u001b[0mgmm\u001b[0m\u001b[0;34m.\u001b[0m\u001b[0mpredict\u001b[0m\u001b[0;34m(\u001b[0m\u001b[0mX_hat\u001b[0m\u001b[0;34m)\u001b[0m\u001b[0;34m\u001b[0m\u001b[0;34m\u001b[0m\u001b[0m\n\u001b[1;32m     64\u001b[0m         \u001b[0mmeans_unknown\u001b[0m \u001b[0;34m=\u001b[0m \u001b[0mgmm\u001b[0m\u001b[0;34m.\u001b[0m\u001b[0mmodel_\u001b[0m\u001b[0;34m.\u001b[0m\u001b[0mmeans_\u001b[0m\u001b[0;34m\u001b[0m\u001b[0;34m\u001b[0m\u001b[0m\n\u001b[0;32m---> 65\u001b[0;31m         \u001b[0mSBM_unknown\u001b[0m \u001b[0;34m=\u001b[0m \u001b[0mmeans\u001b[0m \u001b[0;34m@\u001b[0m \u001b[0mmeans\u001b[0m\u001b[0;34m.\u001b[0m\u001b[0mT\u001b[0m\u001b[0;34m\u001b[0m\u001b[0;34m\u001b[0m\u001b[0m\n\u001b[0m\u001b[1;32m     66\u001b[0m         \u001b[0mSBM_estimate_unknown\u001b[0m \u001b[0;34m=\u001b[0m \u001b[0mblowup\u001b[0m\u001b[0;34m(\u001b[0m\u001b[0mSBM_unknown\u001b[0m\u001b[0;34m,\u001b[0m \u001b[0mestimated_tau\u001b[0m\u001b[0;34m)\u001b[0m\u001b[0;34m\u001b[0m\u001b[0;34m\u001b[0m\u001b[0m\n\u001b[1;32m     67\u001b[0m         \u001b[0mSBM_error_unknown\u001b[0m \u001b[0;34m=\u001b[0m \u001b[0mnp\u001b[0m\u001b[0;34m.\u001b[0m\u001b[0mlinalg\u001b[0m\u001b[0;34m.\u001b[0m\u001b[0mnorm\u001b[0m\u001b[0;34m(\u001b[0m\u001b[0mSBM_estimate\u001b[0m \u001b[0;34m-\u001b[0m \u001b[0mtemp_P_blownup\u001b[0m\u001b[0;34m)\u001b[0m\u001b[0;34m**\u001b[0m\u001b[0;36m2\u001b[0m\u001b[0;34m\u001b[0m\u001b[0;34m\u001b[0m\u001b[0m\n",
      "\u001b[0;31mValueError\u001b[0m: shapes (2,1,3) and (3,1,2) not aligned: 3 (dim 2) != 1 (dim 1)"
     ]
    }
   ],
   "source": [
    "np.random.seed(1)\n",
    "MCs=20\n",
    "n=100\n",
    "pi0=0.5\n",
    "\n",
    "\n",
    "P = np.array([\n",
    "    [0.3, 0.3],\n",
    "     [0.3, 0.3]\n",
    "])\n",
    "\n",
    "cs = np.arange(0, 0.7, 0.1)\n",
    "\n",
    "sbms = [[] for _ in cs]\n",
    "sbms_unknown = [[] for _ in cs]\n",
    "sbms_NS = [[] for _ in cs]\n",
    "ers = [[] for _ in cs]\n",
    "\n",
    "for i, c in enumerate(tqdm(cs)):\n",
    "    for _ in range(MCs):\n",
    "        \n",
    "        # Not conditioning on the number of nodes in each block\n",
    "        S=int(np.random.binomial(n, pi0))\n",
    "        ns = [S, n - S]\n",
    "        \n",
    "        # Block membership vector\n",
    "        tau = np.concatenate((np.zeros(S), np.ones(n -S))).astype(int)\n",
    "        \n",
    "        # Probability matrix for this iteration\n",
    "        temp_P = P + np.diag(c*np.ones(len(ns)))\n",
    "        temp_P_blownup = blowup(temp_P, tau)\n",
    "\n",
    "        # Generate adjacency matrix\n",
    "        G = sbm(n=ns, p=temp_P)\n",
    "\n",
    "        # Estimate p\n",
    "        p_hat = (np.sum(G)/2)/choose(n,2)\n",
    "        \n",
    "        # Or p_hat * np.ones(shape=(n,n))\n",
    "        ER_estimate=blowup(p_hat*np.ones(temp_P.shape), tau)\n",
    "        \n",
    "        # Error should depend on the number of nodes\n",
    "        ER_error = np.linalg.norm(ER_estimate - temp_P_blownup)**2\n",
    "        ers[i].append(ER_error)\n",
    "        \n",
    "        # First calculate the error for non spectral methods (only possible when tau known)\n",
    "        Phat = estimate_P(G, tau)\n",
    "        NS_estimate = blowup(Phat, tau)\n",
    "        NS_error = np.linalg.norm(NS_estimate - temp_P_blownup)**2\n",
    "        sbms_NS[i].append(NS_error)\n",
    "        \n",
    "        \n",
    "        # Then the error for spectral method when block membership is known\n",
    "        means = np.array([[np.mean(X_hat[range(S)], axis=0)], [np.mean(X_hat[range(S, n)], axis=0)]])\n",
    "        SBM_estimate = blowup(SBM_estimate, tau)\n",
    "        SBM_error = np.linalg.norm(SBM_estimate - temp_P_blownup)**2\n",
    "        sbms[i].append(SBM_error)\n",
    "\n",
    "        # Finally, the error for spectral method when block membership is not known\n",
    "        # This requires first estimating block membership (i used gmm)\n",
    "        gmm = graspy.cluster.GaussianCluster(max_components=2, covariance_type='all')\n",
    "        gmm.fit(X_hat)\n",
    "        estimated_tau = gmm.predict(X_hat)\n",
    "        means_unknown = gmm.model_.means_\n",
    "        SBM_unknown = means @ means.T\n",
    "        SBM_estimate_unknown = blowup(SBM_unknown, estimated_tau)\n",
    "        SBM_error_unknown = np.linalg.norm(SBM_estimate - temp_P_blownup)**2\n",
    "        sbms_unknown[i].append(SBM_error_unknown)"
   ]
  },
  {
   "cell_type": "code",
   "execution_count": 112,
   "metadata": {},
   "outputs": [
    {
     "ename": "NameError",
     "evalue": "name 'mean' is not defined",
     "output_type": "error",
     "traceback": [
      "\u001b[0;31m---------------------------------------------------------------------------\u001b[0m",
      "\u001b[0;31mNameError\u001b[0m                                 Traceback (most recent call last)",
      "\u001b[0;32m<ipython-input-112-18a976ba6deb>\u001b[0m in \u001b[0;36m<module>\u001b[0;34m\u001b[0m\n\u001b[0;32m----> 1\u001b[0;31m \u001b[0mmean\u001b[0m\u001b[0;34m\u001b[0m\u001b[0;34m\u001b[0m\u001b[0m\n\u001b[0m",
      "\u001b[0;31mNameError\u001b[0m: name 'mean' is not defined"
     ]
    }
   ],
   "source": [
    "mean"
   ]
  },
  {
   "cell_type": "code",
   "execution_count": 84,
   "metadata": {},
   "outputs": [
    {
     "data": {
      "text/plain": [
       "<matplotlib.legend.Legend at 0x7fd108b4d978>"
      ]
     },
     "execution_count": 84,
     "metadata": {},
     "output_type": "execute_result"
    },
    {
     "data": {
      "image/png": "[encoded data removed]",
      "text/plain": [
       "<Figure size 432x288 with 1 Axes>"
      ]
     },
     "metadata": {
      "needs_background": "light"
     },
     "output_type": "display_data"
    }
   ],
   "source": [
    "sbm_means = [np.mean(s) for s in sbms]\n",
    "er_means = [np.mean(e) for e in ers]\n",
    "\n",
    "sbm_stderr = [np.std(s, ddof=1) for s in sbms]/np.sqrt(MCs)\n",
    "er_stderr = [np.std(e, ddof=1) for e in ers]/np.sqrt(MCs)\n",
    "\n",
    "fig, ax = plt.subplots(1,1)\n",
    "ax.plot(cs, er_means, c = 'b', label = 'ER', )\n",
    "ax.fill_between(cs, \n",
    "                er_means + 1.96*er_stderr,\n",
    "                er_means - 1.96*er_stderr,\n",
    "                where=er_means + 1.96*er_stderr >= er_means - 1.96*er_stderr, \n",
    "                facecolor='b', \n",
    "                alpha=0.15,\n",
    "                interpolate=True)\n",
    "\n",
    "ax.plot(cs, sbm_means, c='r', label = 'SBM')\n",
    "ax.fill_between(cs, \n",
    "                sbm_means + 1.96*sbm_stderr,\n",
    "                sbm_means - 1.96*sbm_stderr,\n",
    "                where=sbm_means + 1.96*sbm_stderr >= sbm_means - 1.96*sbm_stderr, \n",
    "                facecolor='r', \n",
    "                alpha=0.15,\n",
    "                interpolate=True)\n",
    "ax.set_ylabel('estimated MSE')\n",
    "ax.set_xlabel('e')\n",
    "ax.set_title('MSE block membership known')\n",
    "ax.legend()"
   ]
  },
  {
   "cell_type": "code",
   "execution_count": null,
   "metadata": {},
   "outputs": [],
   "source": []
  },
  {
   "cell_type": "code",
   "execution_count": 101,
   "metadata": {},
   "outputs": [
    {
     "data": {
      "text/plain": [
       "array([[0. , 0.5, 0.5, ..., 0.3, 0.3, 0.3],\n",
       "       [0.5, 0. , 0.5, ..., 0.3, 0.3, 0.3],\n",
       "       [0.5, 0.5, 0. , ..., 0.3, 0.3, 0.3],\n",
       "       ...,\n",
       "       [0.3, 0.3, 0.3, ..., 0. , 0.5, 0.5],\n",
       "       [0.3, 0.3, 0.3, ..., 0.5, 0. , 0.5],\n",
       "       [0.3, 0.3, 0.3, ..., 0.5, 0.5, 0. ]])"
      ]
     },
     "execution_count": 101,
     "metadata": {},
     "output_type": "execute_result"
    }
   ],
   "source": [
    "blowup(P + np.diag([0.2, 0.2]), tau.astype(int))"
   ]
  },
  {
   "cell_type": "code",
   "execution_count": 92,
   "metadata": {},
   "outputs": [
    {
     "data": {
      "text/plain": [
       "[[0.3, 0.3], [0.3, 0.3]]"
      ]
     },
     "execution_count": 92,
     "metadata": {},
     "output_type": "execute_result"
    }
   ],
   "source": [
    "P"
   ]
  },
  {
   "cell_type": "code",
   "execution_count": 73,
   "metadata": {},
   "outputs": [
    {
     "data": {
      "text/plain": [
       "array([5.42609567e-05, 4.13005631e-05, 8.24816543e-05, 3.04105216e-05,\n",
       "       3.38316766e-05, 3.47092957e-05, 6.81013559e-05])"
      ]
     },
     "execution_count": 73,
     "metadata": {},
     "output_type": "execute_result"
    }
   ],
   "source": [
    "er_stderr"
   ]
  }
 ],
 "metadata": {
  "kernelspec": {
   "display_name": "Python 3",
   "language": "python",
   "name": "python3"
  },
  "language_info": {
   "codemirror_mode": {
    "name": "ipython",
    "version": 3
   },
   "file_extension": ".py",
   "mimetype": "text/x-python",
   "name": "python",
   "nbconvert_exporter": "python",
   "pygments_lexer": "ipython3",
   "version": "3.6.7"
  }
 },
 "nbformat": 4,
 "nbformat_minor": 2
}
