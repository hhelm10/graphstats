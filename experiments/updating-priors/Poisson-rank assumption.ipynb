{
 "cells": [
  {
   "cell_type": "code",
   "execution_count": 1,
   "metadata": {},
   "outputs": [],
   "source": [
    "import numpy as np\n",
    "import matplotlib.pyplot as plt\n",
    "from graphstats import *\n",
    "from scipy.stats import norm"
   ]
  },
  {
   "cell_type": "code",
   "execution_count": 5,
   "metadata": {},
   "outputs": [
    {
     "name": "stderr",
     "output_type": "stream",
     "text": [
      "100%|██████████| 8/8 [12:59<00:00, 127.88s/it]\n"
     ]
    }
   ],
   "source": [
    "n = [150, 200, 250, 300, 350, 400, 450, 500]\n",
    "it = 100\n",
    "seed_ratio = 0.1\n",
    "pi1 = 0.5\n",
    "pi2 = 1 - pi1\n",
    "pis = np.array([pi1, pi2])\n",
    "pi = pis\n",
    "\n",
    "p = 0.52\n",
    "q = 0.48\n",
    "\n",
    "B = np.array([[p**2, p*q], [p*q, q**2]])\n",
    "\n",
    "mu1 = 3\n",
    "mu2 = 3\n",
    "\n",
    "means = np.array([[mu1, mu2], [mu2, mu1]])\n",
    "scales = []\n",
    "\n",
    "ptr_poisson_ss = [[] for i in range(len(n))]\n",
    "up_poisson_ss = [[] for i in range(len(n))]\n",
    "\n",
    "for i in tqdm(range(len(n))):\n",
    "    n1 = int(np.round(n[i]*seed_ratio*pi[0]))\n",
    "    n2 = int(np.round(n[i]*seed_ratio*(1 - pi[0])))\n",
    "    \n",
    "    ns  = n1 + n2\n",
    "\n",
    "    seeds1 = np.arange(0, n1)\n",
    "    seeds2 = np.arange(int(np.round(n[i]*pi[0])), int(np.round(n[i]*pi[0])) + n2)\n",
    "    all_seeds = np.concatenate((seeds1, seeds2))\n",
    "\n",
    "    labels1 = np.zeros(len(seeds1))\n",
    "    labels2 = np.ones(len(seeds2))\n",
    "    seed_labels = np.concatenate((labels1, labels2))\n",
    "\n",
    "    all_labels = np.concatenate((np.zeros(int(np.round(n[i]*pi[0]))), np.ones(int(np.round(n[i]*pi[1])))))\n",
    "    \n",
    "    for j in range(it):\n",
    "        A = adj_matrix(n[i], pis, B, True, dist = \"poisson\", means = means, scales = scales, acorn = j)\n",
    "        \n",
    "        A_ptr = pass_to_ranks(A)\n",
    "        V_ptr, U_ptr = adj_spectral_embedding(A_ptr, max_dim = 2, acorn = j)\n",
    "        X_hat = V_ptr[:, :1]\n",
    "        ptr_class = gaussian_classification(X_hat, all_seeds, seed_labels)\n",
    "        \n",
    "        C = strip_weights(A)\n",
    "        V_C, U_C = adj_spectral_embedding(C, max_dim = 2, acorn = j)\n",
    "        X_hat_C = V_C[:, :1]\n",
    "        \n",
    "        up_class = updated_priors_classification(X_hat_C, A, all_seeds, seed_labels, method = \"ranks\", acorn = j)\n",
    "        \n",
    "        ptr_poisson_ss[i].append((np.sum(ptr_class == all_labels) - ns)/(n[i] - ns))\n",
    "        up_poisson_ss[i].append((np.sum(up_class == all_labels) - ns)/(n[i] - ns))"
   ]
  },
  {
   "cell_type": "code",
   "execution_count": 6,
   "metadata": {},
   "outputs": [
    {
     "data": {
      "image/png": "[encoded data removed]",
      "text/plain": [
       "<Figure size 432x288 with 1 Axes>"
      ]
     },
     "metadata": {
      "needs_background": "light"
     },
     "output_type": "display_data"
    }
   ],
   "source": [
    "ptr_means = np.array([np.mean(i) for i in ptr_poisson_ss])\n",
    "up_means = np.array([np.mean(i) for i in up_poisson_ss])\n",
    "\n",
    "ptr_std = np.array([np.std(i, ddof = 1) for i in ptr_poisson_ss])\n",
    "up_std = np.array([np.std(i, ddof = 1) for i in up_poisson_ss])\n",
    "\n",
    "fig, ax = plt.subplots(1,1)\n",
    "\n",
    "ax.plot(n, 1 - ptr_means, label = 'ptr', c = 'r')\n",
    "ax.plot(n, 1 - up_means, label = 'updated priors', c = 'b')\n",
    "ax.errorbar(n, 1 - ptr_means, yerr = 1.96*ptr_std/np.sqrt(it), fmt='o', c = 'r')\n",
    "ax.errorbar(n, 1 - up_means, yerr = 1.96*up_std/np.sqrt(it), fmt='o', c = 'b')\n",
    "ax.set_title('Misclassification rate vs. n; mu1 = mu2 (poisson)')\n",
    "ax.set_xlabel('n')\n",
    "ax.set_ylabel('Misclassification rate')\n",
    "ax.legend(loc = 'lower left')\n",
    "\n",
    "plt.savefig('poisson_ss.png')"
   ]
  },
  {
   "cell_type": "code",
   "execution_count": 7,
   "metadata": {},
   "outputs": [
    {
     "name": "stderr",
     "output_type": "stream",
     "text": [
      "100%|██████████| 8/8 [12:43<00:00, 122.12s/it]\n"
     ]
    }
   ],
   "source": [
    "n = [150, 200, 250, 300, 350, 400, 450, 500]\n",
    "it = 100\n",
    "seed_ratio = 0.1\n",
    "pi1 = 0.5\n",
    "pi2 = 1 - pi1\n",
    "pis = np.array([pi1, pi2])\n",
    "pi = pis\n",
    "\n",
    "p = 0.52\n",
    "q = 0.48\n",
    "\n",
    "B = np.array([[p**2, p*q], [p*q, q**2]])\n",
    "\n",
    "mu1 = 3\n",
    "mu2 = 6\n",
    "\n",
    "means = np.array([[mu1, mu2], [mu2, mu1]])\n",
    "scales = []\n",
    "\n",
    "ptr_poisson_dd = [[] for i in range(len(n))]\n",
    "up_poisson_dd = [[] for i in range(len(n))]\n",
    "\n",
    "for i in tqdm(range(len(n))):\n",
    "    n1 = int(np.round(n[i]*seed_ratio*pi[0]))\n",
    "    n2 = int(np.round(n[i]*seed_ratio*(1 - pi[0])))\n",
    "    \n",
    "    ns  = n1 + n2\n",
    "\n",
    "    seeds1 = np.arange(0, n1)\n",
    "    seeds2 = np.arange(int(np.round(n[i]*pi[0])), int(np.round(n[i]*pi[0])) + n2)\n",
    "    all_seeds = np.concatenate((seeds1, seeds2))\n",
    "\n",
    "    labels1 = np.zeros(len(seeds1))\n",
    "    labels2 = np.ones(len(seeds2))\n",
    "    seed_labels = np.concatenate((labels1, labels2))\n",
    "\n",
    "    all_labels = np.concatenate((np.zeros(int(np.round(n[i]*pi[0]))), np.ones(int(np.round(n[i]*pi[1])))))\n",
    "    \n",
    "    for j in range(it):\n",
    "        A = adj_matrix(n[i], pis, B, True, dist = \"poisson\", means = means, scales = scales, acorn = j)\n",
    "        \n",
    "        A_ptr = pass_to_ranks(A)\n",
    "        V_ptr, U_ptr = adj_spectral_embedding(A_ptr, max_dim = 2, acorn = j)\n",
    "        X_hat = V_ptr[:, :1]\n",
    "        ptr_class = gaussian_classification(X_hat, all_seeds, seed_labels)\n",
    "        \n",
    "        C = strip_weights(A)\n",
    "        V_C, U_C = adj_spectral_embedding(C, max_dim = 2, acorn = j)\n",
    "        X_hat_C = V_C[:, :1]\n",
    "        \n",
    "        up_class = updated_priors_classification(X_hat_C, A, all_seeds, seed_labels, method = \"ranks\", acorn = j)\n",
    "        \n",
    "        ptr_poisson_dd[i].append((np.sum(ptr_class == all_labels) - ns)/(n[i] - ns))\n",
    "        up_poisson_dd[i].append((np.sum(up_class == all_labels) - ns)/(n[i] - ns))"
   ]
  },
  {
   "cell_type": "code",
   "execution_count": 8,
   "metadata": {},
   "outputs": [
    {
     "data": {
      "image/png": "[encoded data removed]",
      "text/plain": [
       "<Figure size 432x288 with 1 Axes>"
      ]
     },
     "metadata": {
      "needs_background": "light"
     },
     "output_type": "display_data"
    }
   ],
   "source": [
    "ptr_means = np.array([np.mean(i) for i in ptr_poisson_dd])\n",
    "up_means = np.array([np.mean(i) for i in up_poisson_dd])\n",
    "\n",
    "ptr_std = np.array([np.std(i, ddof = 1) for i in ptr_poisson_dd])\n",
    "up_std = np.array([np.std(i, ddof = 1) for i in up_poisson_dd])\n",
    "\n",
    "fig, ax = plt.subplots(1,1)\n",
    "\n",
    "ax.plot(n, 1 - ptr_means, label = 'ptr', c = 'r')\n",
    "ax.plot(n, 1 - up_means, label = 'updated priors', c = 'b')\n",
    "ax.errorbar(n, 1 - ptr_means, yerr = 1.96*ptr_std/np.sqrt(it), fmt='o', c = 'r')\n",
    "ax.errorbar(n, 1 - up_means, yerr = 1.96*up_std/np.sqrt(it), fmt='o', c = 'b')\n",
    "ax.set_title('Misclassification rate vs. n; mu1 != mu2 (poisson)')\n",
    "ax.set_xlabel('n')\n",
    "ax.set_ylabel('Misclassification rate')\n",
    "ax.legend(loc = 'lower left')\n",
    "\n",
    "plt.savefig('poisson_dd.png')"
   ]
  },
  {
   "cell_type": "code",
   "execution_count": null,
   "metadata": {},
   "outputs": [],
   "source": []
  }
 ],
 "metadata": {
  "kernelspec": {
   "display_name": "Python 3",
   "language": "python",
   "name": "python3"
  },
  "language_info": {
   "codemirror_mode": {
    "name": "ipython",
    "version": 3
   },
   "file_extension": ".py",
   "mimetype": "text/x-python",
   "name": "python",
   "nbconvert_exporter": "python",
   "pygments_lexer": "ipython3",
   "version": "3.6.7"
  }
 },
 "nbformat": 4,
 "nbformat_minor": 2
}
