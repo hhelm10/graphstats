{
 "cells": [
  {
   "cell_type": "code",
   "execution_count": 1,
   "metadata": {},
   "outputs": [],
   "source": [
    "from graphstats import *\n",
    "import numpy as np\n",
    "import matplotlib.pyplot as plt\n",
    "from scipy.stats import norm"
   ]
  },
  {
   "cell_type": "code",
   "execution_count": 24,
   "metadata": {},
   "outputs": [],
   "source": [
    "n = 100\n",
    "mu1 = -1\n",
    "mu2 = 1\n",
    "s1= 1.25\n",
    "s2 = 0.75\n",
    "X1 = np.random.normal(mu1, s1, n)\n",
    "X2 = np.random.normal(mu2, s2, n)\n"
   ]
  },
  {
   "cell_type": "code",
   "execution_count": 27,
   "metadata": {},
   "outputs": [],
   "source": [
    "x_minus, x_plus = decision_boundary(0.5, mu1, mu2, s1, s2)"
   ]
  },
  {
   "cell_type": "code",
   "execution_count": 44,
   "metadata": {},
   "outputs": [
    {
     "data": {
      "image/png": "[encoded data removed]",
      "text/plain": [
       "<Figure size 432x288 with 1 Axes>"
      ]
     },
     "metadata": {
      "needs_background": "light"
     },
     "output_type": "display_data"
    }
   ],
   "source": [
    "# \"EMBEDDING\"\n",
    "xs = np.arange(-5, 5, step = 0.01)\n",
    "fig, ax = plt.subplots(1,1)\n",
    "ax.scatter(X1, np.zeros(n), c = 'r')\n",
    "ax.plot(xs, 0.75*norm.pdf(xs, mu1, s1), c = 'r')\n",
    "ax.scatter(X2, np.zeros(n), c = 'b')\n",
    "ax.plot(xs, 0.25*norm.pdf(xs, mu2, s2), c = 'b')\n",
    "ax.axvline(x = x_minus, c = 'g')\n",
    "ax.axvline(x = x_plus, c = 'g')\n"
   ]
  },
  {
   "cell_type": "code",
   "execution_count": null,
   "metadata": {},
   "outputs": [],
   "source": []
  },
  {
   "cell_type": "code",
   "execution_count": null,
   "metadata": {},
   "outputs": [],
   "source": [
    "# \"EDGE WEIGHTS\"\n",
    "# ASSUME ORDER ASSUMPTION IS KNOWN AND THAT O_{1} = (1, 2) and O_{2} = (2, 1) meaning mu1 < mu2 \n",
    "np.random.seed(1)\n",
    "m = 50\n",
    "for i in range(100):\n",
    "    Z1 = np.random.normal(0, 4, m)\n",
    "    Z2 = np.random.normal(1, 6, m)\n",
    "    ZHat1 = np.mean(Z1)\n",
    "    ZHat2 = np.mean(Z2)\n",
    "    if ZHat1 < ZHat2:\n",
    "        pi1 = 3/4\n",
    "    else:\n",
    "        pi1 = 1/4\n",
    "    pi2 = 1 - pi1\n",
    "    x_minus, x_plus = decision_boundary(pi1, -1, 1, 0.75, 1.25)"
   ]
  },
  {
   "cell_type": "code",
   "execution_count": null,
   "metadata": {},
   "outputs": [],
   "source": []
  },
  {
   "cell_type": "code",
   "execution_count": null,
   "metadata": {},
   "outputs": [],
   "source": []
  },
  {
   "cell_type": "code",
   "execution_count": null,
   "metadata": {},
   "outputs": [],
   "source": []
  },
  {
   "cell_type": "code",
   "execution_count": 17,
   "metadata": {},
   "outputs": [],
   "source": [
    "def decision_boundary(pi1, mu1, mu2, s1, s2):\n",
    "    var1 = s1**2\n",
    "    var2 = s2**2\n",
    "    \n",
    "    neg_b = mu2*var1 - mu1*var2\n",
    "    disc1 = (mu2*var1 - mu1*var2)**2\n",
    "    disc2 = (var1 - var2)*(mu2**2 * var1 - mu1**2 * var2 + 2*var1*var2*np.log(pi1*s2/((1 - pi1)*s1)))\n",
    "    disc = disc1 - disc2\n",
    "    sqrt_disc = np.sqrt(disc)\n",
    "    \n",
    "    a = var1 - var2\n",
    "    \n",
    "    x_plus = (neg_b + sqrt_disc)/a\n",
    "    x_minus = (neg_b - sqrt_disc)/a\n",
    "    \n",
    "    return x_minus, x_plus"
   ]
  },
  {
   "cell_type": "code",
   "execution_count": 53,
   "metadata": {},
   "outputs": [],
   "source": [
    "def delta(theta1, theta2, s1, s2, n1, n2):\n",
    "    var_theta1 = s1**2 / n1\n",
    "    var_theta2 = s2**2 / n2\n",
    "    std = np.sqrt(var_theta1 + var_theta2)\n",
    "    delta1 = 1 - norm.cdf((theta1 - theta2)/std, 0, 1)\n",
    "    \n",
    "    return delta1"
   ]
  },
  {
   "cell_type": "code",
   "execution_count": 54,
   "metadata": {},
   "outputs": [],
   "source": [
    "# check if this is right..\n",
    "\n",
    "def new_error(mu1, mu2, s1, s2, delta):\n",
    "    x_minus1, x_plus1 = decision_boundary(0.75, mu1, mu2, s1, s2)\n",
    "    x_minus2, x_plus2 = decision_boundary(0.25, mu1, mu2, s1, s2)\n",
    "    \n",
    "    error_correct1 = 0.5*(norm.cdf(x_plus1, mu1, s1) - norm.cdf(x_minus1, mu1, s1))\n",
    "    error_correct2 = 0.5*(norm.cdf(x_minus2, mu2, s1) + 1 - norm.cdf(x_plus2, mu2, s2))\n",
    "    error_correct = error_correct1 + error_correct2\n",
    "    \n",
    "    error_incorrect1 = 0.5*(norm.cdf(x_plus2, mu1, s1) - norm.cdf(x_minus2, mu1, s1))\n",
    "    error_incorrect2 = 0.5*(norm.cdf(x_plus1, mu2, s2) + 1 - norm.cdf(x_minus1, mu2, s2))\n",
    "    error_incorrect = error_incorrect1 + error_incorrect2\n",
    "    \n",
    "    return delta*error_correct + (1 - delta)*error_incorrect"
   ]
  },
  {
   "cell_type": "code",
   "execution_count": 89,
   "metadata": {},
   "outputs": [],
   "source": [
    "mu1 = 0\n",
    "mu2 = 2\n",
    "s1= 11\n",
    "s2 = 1\n",
    "\n",
    "error_og1 = 0.5*(norm.cdf(x_plus, mu1, s1) - norm.cdf(x_minus, mu1, s1))\n",
    "error_og2 = 0.5*(norm.cdf(x_minus, mu2, s2) + (1 - norm.cdf(x_plus, mu2, s2)))\n",
    "error_og = error_og1 + error_og2"
   ]
  },
  {
   "cell_type": "code",
   "execution_count": 90,
   "metadata": {},
   "outputs": [
    {
     "data": {
      "text/plain": [
       "<matplotlib.collections.PathCollection at 0x7f84c80690b8>"
      ]
     },
     "execution_count": 90,
     "metadata": {},
     "output_type": "execute_result"
    },
    {
     "data": {
      "image/png": "[encoded data removed]",
      "text/plain": [
       "<Figure size 432x288 with 1 Axes>"
      ]
     },
     "metadata": {
      "needs_background": "light"
     },
     "output_type": "display_data"
    }
   ],
   "source": [
    "ns = 10*np.arange(1, 500)\n",
    "errors = []\n",
    "deltas = []\n",
    "for i in ns:\n",
    "    delta_ = delta(0, 2, 101, 100, i, i)\n",
    "    deltas.append(delta_)\n",
    "    error_ = new_error(mu1, mu2, s1, s2, delta_)\n",
    "    errors.append(error_)\n",
    "    \n",
    "fig, ax = plt.subplots(1,1)\n",
    "ax.scatter(ns, errors, s = 0.5, label = \"Updated priors expected error\")\n",
    "ax.axhline(y = error_og, c = 'r', label = \"Oracle Bayes\")\n",
    "ax.scatter(ns, 1 - np.array(deltas), s = 0.5)"
   ]
  },
  {
   "cell_type": "code",
   "execution_count": null,
   "metadata": {},
   "outputs": [],
   "source": []
  }
 ],
 "metadata": {
  "kernelspec": {
   "display_name": "Python 3",
   "language": "python",
   "name": "python3"
  },
  "language_info": {
   "codemirror_mode": {
    "name": "ipython",
    "version": 3
   },
   "file_extension": ".py",
   "mimetype": "text/x-python",
   "name": "python",
   "nbconvert_exporter": "python",
   "pygments_lexer": "ipython3",
   "version": "3.6.7"
  }
 },
 "nbformat": 4,
 "nbformat_minor": 2
}
