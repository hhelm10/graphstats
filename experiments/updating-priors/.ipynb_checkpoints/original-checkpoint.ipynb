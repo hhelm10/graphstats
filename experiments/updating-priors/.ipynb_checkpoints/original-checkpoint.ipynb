{
 "cells": [
  {
   "cell_type": "code",
   "execution_count": 1,
   "metadata": {},
   "outputs": [],
   "source": [
    "import numpy as np\n",
    "import matplotlib.pyplot as plt\n",
    "from graphstats import *\n",
    "from scipy.stats import mannwhitneyu as mwu\n",
    "from tqdm import tqdm_notebook as tqdm"
   ]
  },
  {
   "cell_type": "code",
   "execution_count": 4,
   "metadata": {},
   "outputs": [],
   "source": [
    "n = [150, 200, 250, 300, 350, 400, 450, 500]\n",
    "it = 100\n",
    "seed_ratio = 0.1\n",
    "pi1 = 0.5\n",
    "pi2 = 1 - pi1\n",
    "pis = np.array([pi1, pi2])\n",
    "pi = pis\n",
    "\n",
    "p = 0.52\n",
    "q = 0.48\n",
    "\n",
    "B = np.array([[p**2, p*q], [p*q, q**2]])"
   ]
  },
  {
   "cell_type": "code",
   "execution_count": 7,
   "metadata": {},
   "outputs": [
    {
     "data": {
      "application/vnd.jupyter.widget-view+json": {
       "model_id": "227d09a50662455494b0fcc22ceecbb3",
       "version_major": 2,
       "version_minor": 0
      },
      "text/plain": [
       "HBox(children=(IntProgress(value=0, max=8), HTML(value='')))"
      ]
     },
     "metadata": {},
     "output_type": "display_data"
    },
    {
     "name": "stdout",
     "output_type": "stream",
     "text": [
      "\n"
     ]
    }
   ],
   "source": [
    "mu1 = 100\n",
    "mu2 = 102\n",
    "scale1 = 9\n",
    "scale2 = 9\n",
    "\n",
    "means = np.array([[mu1, mu2], [mu2, mu1]])\n",
    "scales = np.array([[scale1, scale2], [scale2, scale1]])\n",
    "\n",
    "ptr_test_ds = [[] for i in range(len(n))]\n",
    "up_test_ds = [[] for i in range(len(n))]\n",
    "\n",
    "for i in tqdm(range(len(n))):\n",
    "    n1 = int(np.round(n[i]*seed_ratio*pi[0]))\n",
    "    n2 = int(np.round(n[i]*seed_ratio*(1 - pi[0])))\n",
    "    \n",
    "    ns  = n1 + n2\n",
    "\n",
    "    seeds1 = np.arange(0, n1)\n",
    "    seeds2 = np.arange(int(np.round(n[i]*pi[0])), int(np.round(n[i]*pi[0])) + n2)\n",
    "    all_seeds = np.concatenate((seeds1, seeds2))\n",
    "\n",
    "    labels1 = np.zeros(len(seeds1))\n",
    "    labels2 = np.ones(len(seeds2))\n",
    "    seed_labels = np.concatenate((labels1, labels2))\n",
    "\n",
    "    all_labels = np.concatenate((np.zeros(int(np.round(n[i]*pi[0]))), np.ones(int(np.round(n[i]*pi[1])))))\n",
    "    \n",
    "    for j in range(it):\n",
    "        A = adj_matrix(n[i], pis, B, True, dist = \"normal\", means = means, scales = scales, acorn = j)\n",
    "        \n",
    "        A_ptr = pass_to_ranks(A)\n",
    "        V_ptr, U_ptr = adj_spectral_embedding(A_ptr, max_dim = 2, acorn = j)\n",
    "        X_hat = V_ptr[:, :1] @ (U_ptr[:1]**(1/2))\n",
    "        X_hat = X_hat[:, None]\n",
    "        ptr_class = gaussian_classification(X_hat, all_seeds, seed_labels)\n",
    "        \n",
    "        C = strip_weights(A)\n",
    "        V_C, U_C = adj_spectral_embedding(C, max_dim = 2, acorn = j)\n",
    "        X_hat_C = V_C[:, :1] @ (U_C[:1]**(1/2))\n",
    "        X_hat_C = X_hat_C[:, None]\n",
    "        \n",
    "        up_class = updated_priors_classification(X_hat_C, A, all_seeds, seed_labels, \"ranks\", test = True, add_smoothing=0, acorn = j)\n",
    "        \n",
    "        ptr_test_ds[i].append((np.sum(ptr_class == all_labels) - ns)/(n[i] - ns))\n",
    "        up_test_ds[i].append((np.sum(up_class == all_labels) - ns)/(n[i] - ns))"
   ]
  },
  {
   "cell_type": "code",
   "execution_count": 19,
   "metadata": {},
   "outputs": [],
   "source": [
    "import _pickle as pickle\n",
    "# pickle.dump(ptr_test_ds, open('ptr_test_ds.pkl', 'wb'))\n",
    "# pickle.dump(up_test_ds, open('up_test_ds.pkl', 'wb'))\n",
    "ptr_test_ds = pickle.load(open('ptr_test_ds.pkl', 'rb'))\n",
    "up_test_ds = pickle.load(open('up_test_ds.pkl', 'rb'))"
   ]
  },
  {
   "cell_type": "code",
   "execution_count": 20,
   "metadata": {},
   "outputs": [
    {
     "data": {
      "image/png": "[encoded data removed]",
      "text/plain": [
       "<Figure size 432x288 with 1 Axes>"
      ]
     },
     "metadata": {
      "needs_background": "light"
     },
     "output_type": "display_data"
    }
   ],
   "source": [
    "ptr_ds_means = np.array([np.mean(i) for i in ptr_test_ds])\n",
    "up_ds_means = np.array([np.mean(i) for i in up_test_ds])\n",
    "\n",
    "ptr_ds_std = np.array([np.std(i, ddof = 1) for i in ptr_test_ds])\n",
    "up_ds_std = np.array([np.std(i, ddof = 1) for i in up_test_ds])\n",
    "\n",
    "fig, ax = plt.subplots(1,1)\n",
    "\n",
    "ax.plot(n, 1 - ptr_ds_means, label = 'ptr', c = 'r')\n",
    "ax.plot(n, 1 - up_ds_means, label = 'updated priors', c = 'b')\n",
    "ax.errorbar(n, 1 - ptr_ds_means, yerr = 1.96*ptr_ds_std/np.sqrt(it), fmt='o', c = 'r')\n",
    "ax.errorbar(n, 1 - up_ds_means, yerr = 1.96*up_ds_std/np.sqrt(it), fmt='o', c = 'b')\n",
    "ax.set_title('Misclassification rate vs. n; mu1 != mu2, s1 = s2')\n",
    "ax.set_xlabel('n')\n",
    "ax.set_ylabel('Misclassification rate')\n",
    "ax.legend(loc = 'lower left')\n",
    "\n",
    "plt.savefig('ds_test.png')"
   ]
  },
  {
   "cell_type": "code",
   "execution_count": 7,
   "metadata": {},
   "outputs": [
    {
     "data": {
      "application/vnd.jupyter.widget-view+json": {
       "model_id": "fccb3bc68985406f93966ccf57b08306",
       "version_major": 2,
       "version_minor": 0
      },
      "text/plain": [
       "HBox(children=(IntProgress(value=0, max=8), HTML(value='')))"
      ]
     },
     "metadata": {},
     "output_type": "display_data"
    },
    {
     "name": "stdout",
     "output_type": "stream",
     "text": [
      "\n"
     ]
    }
   ],
   "source": [
    "n = [150, 200, 250, 300, 350, 400, 450, 500]\n",
    "it = 100\n",
    "seed_ratio = 0.1\n",
    "pi1 = 0.5\n",
    "pi2 = 1 - pi1\n",
    "pis = np.array([pi1, pi2])\n",
    "pi = pis\n",
    "\n",
    "p = 0.52\n",
    "q = 0.48\n",
    "\n",
    "B = np.array([[p**2, p*q], [p*q, q**2]])\n",
    "\n",
    "max_dim = 1\n",
    "\n",
    "mu1 = 100\n",
    "mu2 = 102\n",
    "scale1 = 4\n",
    "scale2 = 9\n",
    "\n",
    "means = np.array([[mu1, mu2], [mu2, mu1]])\n",
    "scales = np.array([[scale1, scale2], [scale2, scale1]])\n",
    "\n",
    "ptr_test_dd = [[] for i in range(len(n))]\n",
    "up_test_dd = [[] for i in range(len(n))]\n",
    "\n",
    "for i in tqdm(range(len(n))):\n",
    "    n1 = int(np.round(n[i]*seed_ratio*pi[0]))\n",
    "    n2 = int(np.round(n[i]*seed_ratio*(1 - pi[0])))\n",
    "    \n",
    "    ns  = n1 + n2\n",
    "\n",
    "    seeds1 = np.arange(0, n1)\n",
    "    seeds2 = np.arange(int(np.round(n[i]*pi[0])), int(np.round(n[i]*pi[0])) + n2)\n",
    "    all_seeds = np.concatenate((seeds1, seeds2))\n",
    "\n",
    "    labels1 = np.zeros(len(seeds1))\n",
    "    labels2 = np.ones(len(seeds2))\n",
    "    seed_labels = np.concatenate((labels1, labels2))\n",
    "\n",
    "    all_labels = np.concatenate((np.zeros(int(np.round(n[i]*pi[0]))), np.ones(int(np.round(n[i]*pi[1])))))\n",
    "    \n",
    "    for j in range(it):\n",
    "        A = adj_matrix(n[i], pis, B, True, dist = \"normal\", means = means, scales = scales, acorn = j)\n",
    "        \n",
    "        A_ptr = pass_to_ranks(A)\n",
    "        V_ptr, U_ptr = adj_spectral_embedding(A_ptr, max_dim = 2, acorn = j)\n",
    "        X_hat = V_ptr[:, :1] @ (U_ptr[:1]**(1/2))\n",
    "        X_hat = X_hat[:, None]\n",
    "        ptr_class = gaussian_classification(X_hat, all_seeds, seed_labels)\n",
    "        \n",
    "        C = strip_weights(A)\n",
    "        V_C, U_C = adj_spectral_embedding(C, max_dim = 2, acorn = j)\n",
    "        X_hat_C = V_C[:, :1] @ (U_C[:1]**(1/2))\n",
    "        X_hat_C = X_hat_C[:, None]\n",
    "        \n",
    "        up_class = updated_priors_classification(X_hat_C, A, all_seeds, seed_labels, \"ranks\", test = True, add_smoothing=0, acorn = j)      \n",
    "        \n",
    "        ptr_test_dd[i].append((np.sum(ptr_class == all_labels) - ns)/(n[i] - ns))\n",
    "        up_test_dd[i].append((np.sum(up_class == all_labels) - ns)/(n[i] - ns))"
   ]
  },
  {
   "cell_type": "code",
   "execution_count": 17,
   "metadata": {},
   "outputs": [
    {
     "data": {
      "image/png": "[encoded data removed]",
      "text/plain": [
       "<Figure size 432x288 with 1 Axes>"
      ]
     },
     "metadata": {
      "needs_background": "light"
     },
     "output_type": "display_data"
    }
   ],
   "source": [
    "ptr_dd_means = np.array([np.mean(i) for i in ptr_test_dd])\n",
    "up_dd_means = np.array([np.mean(i) for i in up_test_dd])\n",
    "\n",
    "ptr_dd_std = np.array([np.std(i, ddof = 1) for i in ptr_test_dd])\n",
    "up_dd_std = np.array([np.std(i, ddof = 1) for i in up_test_dd])\n",
    "\n",
    "fig, ax = plt.subplots(1,1)\n",
    "\n",
    "ax.plot(n, 1 - ptr_dd_means, label = 'ptr', c = 'r')\n",
    "ax.plot(n, 1 - up_dd_means, label = 'updated priors', c = 'b')\n",
    "ax.errorbar(n, 1 - ptr_dd_means, yerr = 1.96*ptr_dd_std/np.sqrt(it), fmt='o', c = 'r')\n",
    "ax.errorbar(n, 1 - up_dd_means, yerr = 1.96*up_dd_std/np.sqrt(it), fmt='o', c = 'b')\n",
    "ax.set_title('Misclassification rate vs. n; mu1 != mu2, s1 != s2')\n",
    "ax.set_xlabel('n')\n",
    "ax.set_ylabel('Misclassification rate')\n",
    "ax.legend(loc = 'lower left')\n",
    "\n",
    "plt.savefig('dd_test.png')"
   ]
  },
  {
   "cell_type": "code",
   "execution_count": 9,
   "metadata": {},
   "outputs": [
    {
     "data": {
      "application/vnd.jupyter.widget-view+json": {
       "model_id": "3d8c00475bed45fd9458aa413057a5c8",
       "version_major": 2,
       "version_minor": 0
      },
      "text/plain": [
       "HBox(children=(IntProgress(value=0, max=8), HTML(value='')))"
      ]
     },
     "metadata": {},
     "output_type": "display_data"
    },
    {
     "name": "stdout",
     "output_type": "stream",
     "text": [
      "\n"
     ]
    }
   ],
   "source": [
    "n = [150, 200, 250, 300, 350, 400, 450, 500]\n",
    "it = 100\n",
    "seed_ratio = 0.1\n",
    "pi1 = 0.5\n",
    "pi2 = 1 - pi1\n",
    "pis = np.array([pi1, pi2])\n",
    "pi = pis\n",
    "\n",
    "p = 0.52\n",
    "q = 0.48\n",
    "\n",
    "B = np.array([[p**2, p*q], [p*q, q**2]])\n",
    "\n",
    "max_dim = 1\n",
    "\n",
    "mu1 = 100\n",
    "mu2 = 100\n",
    "scale1 = 4\n",
    "scale2 = 9\n",
    "\n",
    "means = np.array([[mu1, mu2], [mu2, mu1]])\n",
    "scales = np.array([[scale1, scale2], [scale2, scale1]])\n",
    "\n",
    "ptr_test_sd = [[] for i in range(len(n))]\n",
    "up_test_sd = [[] for i in range(len(n))]\n",
    "\n",
    "for i in tqdm(range(len(n))):\n",
    "    n1 = int(np.round(n[i]*seed_ratio*pi[0]))\n",
    "    n2 = int(np.round(n[i]*seed_ratio*(1 - pi[0])))\n",
    "    \n",
    "    ns  = n1 + n2\n",
    "\n",
    "    seeds1 = np.arange(0, n1)\n",
    "    seeds2 = np.arange(int(np.round(n[i]*pi[0])), int(np.round(n[i]*pi[0])) + n2)\n",
    "    all_seeds = np.concatenate((seeds1, seeds2))\n",
    "\n",
    "    labels1 = np.zeros(len(seeds1))\n",
    "    labels2 = np.ones(len(seeds2))\n",
    "    seed_labels = np.concatenate((labels1, labels2))\n",
    "\n",
    "    all_labels = np.concatenate((np.zeros(int(np.round(n[i]*pi[0]))), np.ones(int(np.round(n[i]*pi[1])))))\n",
    "    \n",
    "    for j in range(it):\n",
    "        A = adj_matrix(n[i], pis, B, True, dist = \"normal\", means = means, scales = scales, acorn = j)\n",
    "        \n",
    "        A_ptr = pass_to_ranks(A)\n",
    "        V_ptr, U_ptr = adj_spectral_embedding(A_ptr, max_dim = 2, acorn = j)\n",
    "        X_hat = V_ptr[:, :1] @ (U_ptr[:1]**(1/2))\n",
    "        X_hat = X_hat[:, None]\n",
    "        ptr_class = gaussian_classification(X_hat, all_seeds, seed_labels)\n",
    "        \n",
    "        C = strip_weights(A)\n",
    "        V_C, U_C = adj_spectral_embedding(C, max_dim = 2, acorn = j)\n",
    "        X_hat_C = V_C[:, :1] @ (U_C[:1]**(1/2))\n",
    "        X_hat_C = X_hat_C[:, None]\n",
    "        \n",
    "        up_class = updated_priors_classification(X_hat_C, A, all_seeds, seed_labels, \"ranks\", test = True, add_smoothing=0, acorn = j)\n",
    "        \n",
    "        ptr_test_sd[i].append((np.sum(ptr_class == all_labels) - ns)/(n[i] - ns))\n",
    "        up_test_sd[i].append((np.sum(up_class == all_labels) - ns)/(n[i] - ns))"
   ]
  },
  {
   "cell_type": "code",
   "execution_count": 22,
   "metadata": {},
   "outputs": [],
   "source": [
    "import _pickle as pickle\n",
    "pickle.dump(ptr_test_sd, open('ptr_sd_test.pkl', 'wb'))\n",
    "pickle.dump(up_test_sd, open('up_sd_test.pkl', 'wb'))"
   ]
  },
  {
   "cell_type": "code",
   "execution_count": 23,
   "metadata": {},
   "outputs": [
    {
     "data": {
      "image/png": "[encoded data removed]",
      "text/plain": [
       "<Figure size 432x288 with 1 Axes>"
      ]
     },
     "metadata": {
      "needs_background": "light"
     },
     "output_type": "display_data"
    }
   ],
   "source": [
    "ptr_sd_means = np.array([np.mean(i) for i in ptr_test_sd])\n",
    "up_sd_means = np.array([np.mean(i) for i in up_test_sd])\n",
    "\n",
    "ptr_sd_std = np.array([np.std(i, ddof = 1) for i in ptr_test_sd])\n",
    "up_sd_std = np.array([np.std(i, ddof = 1) for i in up_test_sd])\n",
    "\n",
    "fig, ax = plt.subplots(1,1)\n",
    "\n",
    "ax.plot(n, 1 - ptr_sd_means, label = 'ptr', c = 'r')\n",
    "ax.plot(n, 1 - up_sd_means, label = 'updated priors', c = 'b')\n",
    "ax.errorbar(n, 1 - ptr_sd_means, yerr = 1.96*ptr_sd_std/np.sqrt(it), fmt='o', c = 'r')\n",
    "ax.errorbar(n, 1 - up_sd_means, yerr = 1.96*up_sd_std/np.sqrt(it), fmt='o', c = 'b')\n",
    "ax.set_title('Misclassification rate vs. n; mu1 = mu2, s1 != s2')\n",
    "ax.set_xlabel('n')\n",
    "ax.set_ylabel('Misclassification rate')\n",
    "ax.legend(loc = 'lower left')\n",
    "\n",
    "plt.savefig('sd_test.png')"
   ]
  },
  {
   "cell_type": "code",
   "execution_count": 12,
   "metadata": {},
   "outputs": [
    {
     "data": {
      "application/vnd.jupyter.widget-view+json": {
       "model_id": "192bd287c4e741c48efebb17e18269db",
       "version_major": 2,
       "version_minor": 0
      },
      "text/plain": [
       "HBox(children=(IntProgress(value=0, max=8), HTML(value='')))"
      ]
     },
     "metadata": {},
     "output_type": "display_data"
    },
    {
     "name": "stdout",
     "output_type": "stream",
     "text": [
      "\n"
     ]
    }
   ],
   "source": [
    "n = [150, 200, 250, 300, 350, 400, 450, 500]\n",
    "it = 100\n",
    "seed_ratio = 0.1\n",
    "pi1 = 0.5\n",
    "pi2 = 1 - pi1\n",
    "pis = np.array([pi1, pi2])\n",
    "pi = pis\n",
    "\n",
    "p = 0.52\n",
    "q = 0.48\n",
    "\n",
    "B = np.array([[p**2, p*q], [p*q, q**2]])\n",
    "\n",
    "max_dim = 1\n",
    "\n",
    "mu1 = 100\n",
    "mu2 = 100\n",
    "scale1 = 9\n",
    "scale2 = 9\n",
    "\n",
    "means = np.array([[mu1, mu2], [mu2, mu1]])\n",
    "scales = np.array([[scale1, scale2], [scale2, scale1]])\n",
    "\n",
    "ptr_test_ss = [[] for i in range(len(n))]\n",
    "up_test_ss = [[] for i in range(len(n))]\n",
    "\n",
    "for i in tqdm(range(len(n))):\n",
    "    n1 = int(np.round(n[i]*seed_ratio*pi[0]))\n",
    "    n2 = int(np.round(n[i]*seed_ratio*(1 - pi[0])))\n",
    "    \n",
    "    ns  = n1 + n2\n",
    "\n",
    "    seeds1 = np.arange(0, n1)\n",
    "    seeds2 = np.arange(int(np.round(n[i]*pi[0])), int(np.round(n[i]*pi[0])) + n2)\n",
    "    all_seeds = np.concatenate((seeds1, seeds2))\n",
    "\n",
    "    labels1 = np.zeros(len(seeds1))\n",
    "    labels2 = np.ones(len(seeds2))\n",
    "    seed_labels = np.concatenate((labels1, labels2))\n",
    "\n",
    "    all_labels = np.concatenate((np.zeros(int(np.round(n[i]*pi[0]))), np.ones(int(np.round(n[i]*pi[1])))))\n",
    "    \n",
    "    for j in range(it):\n",
    "        A = adj_matrix(n[i], pis, B, True, dist = \"normal\", means = means, scales = scales, acorn = j)\n",
    "        \n",
    "        A_ptr = pass_to_ranks(A)\n",
    "        V_ptr, U_ptr = adj_spectral_embedding(A_ptr, max_dim = 2, acorn = j)\n",
    "        X_hat = V_ptr[:, :1] @ (U_ptr[:1]**(1/2))\n",
    "        X_hat = X_hat[:, None]\n",
    "        ptr_class = gaussian_classification(X_hat, all_seeds, seed_labels)\n",
    "        \n",
    "        C = strip_weights(A)\n",
    "        V_C, U_C = adj_spectral_embedding(C, max_dim = 2, acorn = j)\n",
    "        X_hat_C = V_C[:, :1] @ (U_C[:1]**(1/2))\n",
    "        X_hat_C = X_hat_C[:, None]\n",
    "        \n",
    "        up_class = updated_priors_classification(X_hat_C, A, all_seeds, seed_labels, \"ranks\", test = True, add_smoothing=0, acorn = j)              \n",
    "        \n",
    "        ptr_test_ss[i].append((np.sum(ptr_class == all_labels) - ns)/(n[i] - ns))\n",
    "        up_test_ss[i].append((np.sum(up_class == all_labels) - ns)/(n[i] - ns))"
   ]
  },
  {
   "cell_type": "code",
   "execution_count": 13,
   "metadata": {},
   "outputs": [],
   "source": [
    "import _pickle as pickle\n",
    "pickle.dump(ptr_test_ss, open('ptr_ss_test.pkl', 'wb'))\n",
    "pickle.dump(up_test_ss, open('up_ss_test.pkl', 'wb'))"
   ]
  },
  {
   "cell_type": "code",
   "execution_count": 16,
   "metadata": {},
   "outputs": [
    {
     "data": {
      "image/png": "[encoded data removed]",
      "text/plain": [
       "<Figure size 432x288 with 1 Axes>"
      ]
     },
     "metadata": {
      "needs_background": "light"
     },
     "output_type": "display_data"
    }
   ],
   "source": [
    "ptr_ss_means = np.array([np.mean(i) for i in ptr_test_ss])\n",
    "up_ss_means = np.array([np.mean(i) for i in up_test_ss])\n",
    "\n",
    "ptr_ss_std = np.array([np.std(i, ddof = 1) for i in ptr_test_ss])\n",
    "up_ss_std = np.array([np.std(i, ddof = 1) for i in up_test_ss])\n",
    "\n",
    "fig, ax = plt.subplots(1,1)\n",
    "\n",
    "ax.plot(n, 1 - ptr_ss_means, label = 'ptr', c = 'r')\n",
    "ax.plot(n, 1 - up_ss_means, label = 'updated priors', c = 'b')\n",
    "ax.errorbar(n, 1 - ptr_ss_means, yerr = 1.96*ptr_ss_std/np.sqrt(it), fmt='o', c = 'r')\n",
    "ax.errorbar(n, 1 - up_ss_means, yerr = 1.96*up_ss_std/np.sqrt(it), fmt='o', c = 'b')\n",
    "ax.set_title('Misclassification rate vs. n; mu1 = mu2, s1 = s2')\n",
    "ax.set_xlabel('n')\n",
    "ax.set_ylabel('Misclassification rate')\n",
    "ax.legend(loc = 'lower left')\n",
    "\n",
    "plt.savefig('ss_test.png')"
   ]
  },
  {
   "cell_type": "code",
   "execution_count": null,
   "metadata": {},
   "outputs": [],
   "source": []
  },
  {
   "cell_type": "code",
   "execution_count": null,
   "metadata": {},
   "outputs": [],
   "source": []
  },
  {
   "cell_type": "code",
   "execution_count": null,
   "metadata": {},
   "outputs": [],
   "source": []
  },
  {
   "cell_type": "code",
   "execution_count": 3,
   "metadata": {},
   "outputs": [
    {
     "name": "stderr",
     "output_type": "stream",
     "text": [
      "0it [00:00, ?it/s]\n"
     ]
    }
   ],
   "source": [
    "reps = 300\n",
    "\n",
    "n1 = int(np.round(N*SEED_RATIO*PI[0]))\n",
    "n2 = int(np.round(N*SEED_RATIO*(1 - PI[0])))\n",
    "\n",
    "seeds1 = np.arange(0, n1)\n",
    "seeds2 = np.arange(int(np.round(N*PI[0])), int(np.round(N*PI[0])) + n2)\n",
    "all_seeds = np.concatenate((seeds1, seeds2))\n",
    "\n",
    "labels1 = np.zeros(len(seeds1))\n",
    "labels2 = np.ones(len(seeds2))\n",
    "seed_labels = np.concatenate((labels1, labels2))\n",
    "\n",
    "mu2s = np.arange(MU, MU + 3, step = 0.05)\n",
    "\n",
    "correct_rejections = np.zeros(len(mu2s))\n",
    "all_rejections = np.zeros(len(mu2s))\n",
    "\n",
    "for i, mu2 in tqdm(enumerate(mu2s)):\n",
    "    for j in range(reps):\n",
    "        means = np.array([[MU, mu2], [mu2, MU]])\n",
    "        A = adj_matrix(N, PI, B, True, dist = \"normal\", means = means, scales = SCALES, acorn = int(mu2**2 + i**2 + j**2))\n",
    "        weights = get_weights(A, all_seeds, seed_labels)\n",
    "        w11 = weights[0][0]\n",
    "        w12 = weights[0][1]\n",
    "        w22 = weights[1][1]\n",
    "        \n",
    "        T1, p1 = mwu(w11, w12)\n",
    "        T2, p2 = mwu(w12, w22)\n",
    "        \n",
    "        if p1 < ALPHA and p2 < ALPHA:\n",
    "            if np.mean(w11) < np.mean(w12) and np.mean(w22) < np.mean(w12) and MU < mu2:\n",
    "                correct_rejections[i] += 1\n",
    "                all_rejections[i] += 1\n",
    "            elif np.mean(w11) > np.mean(w12) and MU > mu2 and np.mean(w22) > np.mean(w12):\n",
    "                correct_rejections[i] += 1\n",
    "                all_rejections[i] += 1\n",
    "            else:\n",
    "                all_rejections[i] += 1\n",
    "        break\n",
    "    break"
   ]
  }
 ],
 "metadata": {
  "kernelspec": {
   "display_name": "Python 3",
   "language": "python",
   "name": "python3"
  },
  "language_info": {
   "codemirror_mode": {
    "name": "ipython",
    "version": 3
   },
   "file_extension": ".py",
   "mimetype": "text/x-python",
   "name": "python",
   "nbconvert_exporter": "python",
   "pygments_lexer": "ipython3",
   "version": "3.6.7"
  }
 },
 "nbformat": 4,
 "nbformat_minor": 2
}
