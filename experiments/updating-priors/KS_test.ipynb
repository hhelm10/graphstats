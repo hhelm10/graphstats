{
 "cells": [
  {
   "cell_type": "code",
   "execution_count": 1,
   "metadata": {
    "collapsed": true
   },
   "outputs": [],
   "source": [
    "import numpy as np\n",
    "import matplotlib.pyplot as plt\n",
    "from graphstats import *\n",
    "from graspy.utils.ptr import pass_to_ranks as PTR"
   ]
  },
  {
   "cell_type": "code",
   "execution_count": 6,
   "metadata": {},
   "outputs": [
    {
     "name": "stderr",
     "output_type": "stream",
     "text": [
      "\n",
      "  0%|                                                                                            | 0/8 [00:00<?, ?it/s]\n",
      "100%|███████████████████████████████████████████████████████████████████████████████████| 8/8 [59:47<00:00, 448.48s/it]\n"
     ]
    }
   ],
   "source": [
    "n = [150, 200, 250, 300, 350, 400, 450, 500]\n",
    "it = 100\n",
    "seed_ratio = 0.1\n",
    "pi1 = 0.5\n",
    "pi2 = 1 - pi1\n",
    "pis = np.array([pi1, pi2])\n",
    "pi = pis\n",
    "\n",
    "p = 0.52\n",
    "q = 0.48\n",
    "\n",
    "B = np.array([[p**2, p*q], [p*q, q**2]])\n",
    "\n",
    "max_dim = 1\n",
    "\n",
    "mu1 = 100\n",
    "mu2 = 102\n",
    "scale1 = 9\n",
    "scale2 = 9\n",
    "\n",
    "means = np.array([[mu1, mu2], [mu2, mu1]])\n",
    "scales = np.array([[scale1, scale2], [scale2, scale1]])\n",
    "\n",
    "ptr_ecdf_ds = [[] for i in range(len(n))]\n",
    "up_ecdf_ds = [[] for i in range(len(n))]\n",
    "\n",
    "for i in tqdm(range(len(n))):\n",
    "    n1 = int(np.round(n[i]*seed_ratio*pi[0]))\n",
    "    n2 = int(np.round(n[i]*seed_ratio*(1 - pi[0])))\n",
    "    \n",
    "    ns  = n1 + n2\n",
    "\n",
    "    seeds1 = np.arange(0, n1)\n",
    "    seeds2 = np.arange(int(np.round(n[i]*pi[0])), int(np.round(n[i]*pi[0])) + n2)\n",
    "    all_seeds = np.concatenate((seeds1, seeds2))\n",
    "\n",
    "    labels1 = np.zeros(len(seeds1))\n",
    "    labels2 = np.ones(len(seeds2))\n",
    "    seed_labels = np.concatenate((labels1, labels2))\n",
    "\n",
    "    all_labels = np.concatenate((np.zeros(int(np.round(n[i]*pi[0]))), np.ones(int(np.round(n[i]*pi[1])))))\n",
    "    \n",
    "    for j in range(it):\n",
    "        A = adj_matrix(n[i], pis, B, True, dist = \"normal\", means = means, scales = scales, acorn = j)\n",
    "        \n",
    "        A_ptr = pass_to_ranks(A)\n",
    "        V_ptr, U_ptr = adj_spectral_embedding(A_ptr, max_dim = 2, acorn = j)\n",
    "        X_hat = V_ptr[:, :1]\n",
    "        ptr_class = gaussian_classification(X_hat, all_seeds, seed_labels)\n",
    "        \n",
    "        C = strip_weights(A)\n",
    "        V_C, U_C = adj_spectral_embedding(C, max_dim = 2, acorn = j)\n",
    "        X_hat_C = V_C[:, :1]\n",
    "        \n",
    "        up_class = updated_priors_classification(A, all_seeds, seed_labels, pis, max_dim = 1, method = \"KS\", X_hat = X_hat_C, acorn = j)\n",
    "        \n",
    "        ptr_ecdf_ds[i].append((np.sum(ptr_class == all_labels) - ns)/(n[i] - ns))\n",
    "        up_ecdf_ds[i].append((np.sum(up_class == all_labels) - ns)/(n[i] - ns))"
   ]
  },
  {
   "cell_type": "code",
   "execution_count": 7,
   "metadata": {
    "collapsed": true
   },
   "outputs": [],
   "source": [
    "import _pickle as pickle\n",
    "pickle.dump(up_ecdf_ds, open('up_ecdf_ds.pkl', 'wb'))\n",
    "pickle.dump(ptr_ecdf_ds, open('ptr_ecdf_ds.pkl', 'wb'))"
   ]
  },
  {
   "cell_type": "code",
   "execution_count": 29,
   "metadata": {},
   "outputs": [
    {
     "data": {
      "text/plain": [
       "(0, 1)"
      ]
     },
     "execution_count": 29,
     "metadata": {},
     "output_type": "execute_result"
    },
    {
     "data": {
      "image/png": "[encoded data removed]",
      "text/plain": [
       "<matplotlib.figure.Figure at 0x1c586a78d68>"
      ]
     },
     "metadata": {},
     "output_type": "display_data"
    }
   ],
   "source": [
    "ptr_means = np.array([np.mean(i) for i in ptr_ecdf_ds])\n",
    "up_means = np.array([np.mean(i) for i in up_ecdf_ds])\n",
    "\n",
    "ptr_std = np.array([np.std(i, ddof = 1) for i in ptr_ecdf_ds])\n",
    "up_std = np.array([np.std(i, ddof = 1) for i in up_ecdf_ds])\n",
    "\n",
    "fig, ax = plt.subplots(1,1)\n",
    "\n",
    "ax.plot(n, 1 - ptr_means, label = 'ptr', c = 'r')\n",
    "ax.plot(n, 1 - up_means, label = 'updated priors', c = 'b')\n",
    "ax.errorbar(n, 1 - ptr_means, yerr = 1.96*ptr_std/np.sqrt(it), fmt='o', c = 'r')\n",
    "ax.errorbar(n, 1 - up_means, yerr = 1.96*up_std/np.sqrt(it), fmt='o', c = 'b')\n",
    "ax.set_title('Classification Loss vs. N; Different Mean, Same Scale')\n",
    "ax.set_xlabel('N')\n",
    "ax.set_ylabel('Loss')\n",
    "ax.legend(loc = 'lower left')\n",
    "ax.set_ylim(0,1)\n",
    "\n",
    "#plt.savefig('ptrVSupdatedpriors_ds_ecdf.png')"
   ]
  },
  {
   "cell_type": "code",
   "execution_count": 9,
   "metadata": {},
   "outputs": [
    {
     "name": "stderr",
     "output_type": "stream",
     "text": [
      "100%|███████████████████████████████████████████████████████████████████████████████████| 8/8 [59:42<00:00, 447.79s/it]\n"
     ]
    }
   ],
   "source": [
    "n = [150, 200, 250, 300, 350, 400, 450, 500]\n",
    "it = 100\n",
    "seed_ratio = 0.1\n",
    "pi1 = 0.5\n",
    "pi2 = 1 - pi1\n",
    "pis = np.array([pi1, pi2])\n",
    "pi = pis\n",
    "\n",
    "p = 0.52\n",
    "q = 0.48\n",
    "\n",
    "B = np.array([[p**2, p*q], [p*q, q**2]])\n",
    "\n",
    "max_dim = 1\n",
    "\n",
    "mu1 = 100\n",
    "mu2 = 102\n",
    "scale1 = 4\n",
    "scale2 = 9\n",
    "\n",
    "means = np.array([[mu1, mu2], [mu2, mu1]])\n",
    "scales = np.array([[scale1, scale2], [scale2, scale1]])\n",
    "\n",
    "ptr_ecdf_dd = [[] for i in range(len(n))]\n",
    "up_ecdf_dd = [[] for i in range(len(n))]\n",
    "\n",
    "for i in tqdm(range(len(n))):\n",
    "    n1 = int(np.round(n[i]*seed_ratio*pi[0]))\n",
    "    n2 = int(np.round(n[i]*seed_ratio*(1 - pi[0])))\n",
    "    \n",
    "    ns  = n1 + n2\n",
    "\n",
    "    seeds1 = np.arange(0, n1)\n",
    "    seeds2 = np.arange(int(np.round(n[i]*pi[0])), int(np.round(n[i]*pi[0])) + n2)\n",
    "    all_seeds = np.concatenate((seeds1, seeds2))\n",
    "\n",
    "    labels1 = np.zeros(len(seeds1))\n",
    "    labels2 = np.ones(len(seeds2))\n",
    "    seed_labels = np.concatenate((labels1, labels2))\n",
    "\n",
    "    all_labels = np.concatenate((np.zeros(int(np.round(n[i]*pi[0]))), np.ones(int(np.round(n[i]*pi[1])))))\n",
    "    \n",
    "    for j in range(it):\n",
    "        A = adj_matrix(n[i], pis, B, True, dist = \"normal\", means = means, scales = scales, acorn = j)\n",
    "        \n",
    "        A_ptr = pass_to_ranks(A)\n",
    "        V_ptr, U_ptr = adj_spectral_embedding(A_ptr, max_dim = 2, acorn = j)\n",
    "        X_hat = V_ptr[:, :1]\n",
    "        ptr_class = gaussian_classification(X_hat, all_seeds, seed_labels)\n",
    "        \n",
    "        C = strip_weights(A)\n",
    "        V_C, U_C = adj_spectral_embedding(C, max_dim = 2, acorn = j)\n",
    "        X_hat_C = V_C[:, :1]\n",
    "        \n",
    "        up_class = updated_priors_classification(A, all_seeds, seed_labels, pis, max_dim = 1, method = \"KS\", X_hat = X_hat_C, acorn = j)\n",
    "        \n",
    "        ptr_ecdf_dd[i].append((np.sum(ptr_class == all_labels) - ns)/(n[i] - ns))\n",
    "        up_ecdf_dd[i].append((np.sum(up_class == all_labels) - ns)/(n[i] - ns))"
   ]
  },
  {
   "cell_type": "code",
   "execution_count": 10,
   "metadata": {
    "collapsed": true
   },
   "outputs": [],
   "source": [
    "import _pickle as pickle\n",
    "pickle.dump(up_ecdf_dd, open('up_ecdf_dd.pkl', 'wb'))\n",
    "pickle.dump(ptr_ecdf_dd, open('ptr_ecdf_dd.pkl', 'wb'))"
   ]
  },
  {
   "cell_type": "code",
   "execution_count": 28,
   "metadata": {},
   "outputs": [
    {
     "data": {
      "text/plain": [
       "(0, 1)"
      ]
     },
     "execution_count": 28,
     "metadata": {},
     "output_type": "execute_result"
    },
    {
     "data": {
      "image/png": "[encoded data removed]",
      "text/plain": [
       "<matplotlib.figure.Figure at 0x1c5864cfe10>"
      ]
     },
     "metadata": {},
     "output_type": "display_data"
    }
   ],
   "source": [
    "ptr_means = np.array([np.mean(i) for i in ptr_ecdf_dd])\n",
    "up_means = np.array([np.mean(i) for i in up_ecdf_dd])\n",
    "\n",
    "ptr_std = np.array([np.std(i, ddof = 1) for i in ptr_ecdf_dd])\n",
    "up_std = np.array([np.std(i, ddof = 1) for i in up_ecdf_dd])\n",
    "\n",
    "fig, ax = plt.subplots(1,1)\n",
    "\n",
    "ax.plot(n, 1 - ptr_means, label = 'ptr', c = 'r')\n",
    "ax.plot(n, 1 - up_means, label = 'updated priors', c = 'b')\n",
    "ax.errorbar(n, 1 - ptr_means, yerr = 1.96*ptr_std/np.sqrt(it), fmt='o', c = 'r')\n",
    "ax.errorbar(n, 1 - up_means, yerr = 1.96*up_std/np.sqrt(it), fmt='o', c = 'b')\n",
    "ax.set_title('Classification Loss vs. N; Different Mean, Different Scale')\n",
    "ax.set_xlabel('N')\n",
    "ax.set_ylabel('Loss')\n",
    "ax.legend(loc = 'lower left')\n",
    "ax.set_ylim(0,1)\n",
    "\n",
    "#plt.savefig('ptrVSupdatedpriors_dd_ecdf.png')"
   ]
  },
  {
   "cell_type": "code",
   "execution_count": 53,
   "metadata": {},
   "outputs": [
    {
     "name": "stderr",
     "output_type": "stream",
     "text": [
      "100%|██████████████████████████████████████████████████████████████████████████████████| 2/2 [36:08<00:00, 1084.15s/it]\n"
     ]
    }
   ],
   "source": [
    "n = [150, 200, 250, 300, 350, 400, 450, 500]\n",
    "#n = [1000, 2000]\n",
    "it = 10\n",
    "seed_ratio = 0.1\n",
    "pi1 = 0.5\n",
    "pi2 = 1 - pi1\n",
    "pis = np.array([pi1, pi2])\n",
    "pi = pis\n",
    "\n",
    "p = 0.52\n",
    "q = 0.48\n",
    "\n",
    "B = np.array([[p**2, p*q], [p*q, q**2]])\n",
    "\n",
    "max_dim = 1\n",
    "\n",
    "mu1 = 100\n",
    "mu2 = 100\n",
    "scale1 = 9\n",
    "scale2 = 9\n",
    "\n",
    "means = np.array([[mu1, mu2], [mu2, mu1]])\n",
    "scales = np.array([[scale1, scale2], [scale2, scale1]])\n",
    "\n",
    "ptr_ecdf_ss = [[] for i in range(len(n))]\n",
    "up_ecdf_ss = [[] for i in range(len(n))]\n",
    "\n",
    "for i in tqdm(range(len(n))):\n",
    "    n1 = int(np.round(n[i]*seed_ratio*pi[0]))\n",
    "    n2 = int(np.round(n[i]*seed_ratio*(1 - pi[0])))\n",
    "    \n",
    "    ns  = n1 + n2\n",
    "\n",
    "    seeds1 = np.arange(0, n1)\n",
    "    seeds2 = np.arange(int(np.round(n[i]*pi[0])), int(np.round(n[i]*pi[0])) + n2)\n",
    "    all_seeds = np.concatenate((seeds1, seeds2))\n",
    "\n",
    "    labels1 = np.zeros(len(seeds1))\n",
    "    labels2 = np.ones(len(seeds2))\n",
    "    seed_labels = np.concatenate((labels1, labels2))\n",
    "\n",
    "    all_labels = np.concatenate((np.zeros(int(np.round(n[i]*pi[0]))), np.ones(int(np.round(n[i]*pi[1])))))\n",
    "    \n",
    "    for j in range(it):\n",
    "        A = adj_matrix(n[i], pis, B, True, dist = \"normal\", means = means, scales = scales, acorn = j)\n",
    "        \n",
    "        A_ptr = pass_to_ranks(A)\n",
    "        V_ptr, U_ptr = adj_spectral_embedding(A_ptr, max_dim = 2, acorn = j)\n",
    "        X_hat = V_ptr[:, :1]\n",
    "        ptr_class = gaussian_classification(X_hat, all_seeds, seed_labels)\n",
    "        \n",
    "        C = strip_weights(A)\n",
    "        V_C, U_C = adj_spectral_embedding(C, max_dim = 2, acorn = j)\n",
    "        X_hat_C = V_C[:, :1]\n",
    "        \n",
    "        up_class = updated_priors_classification(A, all_seeds, seed_labels, pis, max_dim = 1, method = \"KS\", X_hat = X_hat_C, acorn = j)\n",
    "        \n",
    "        ptr_ecdf_ss[i].append((np.sum(ptr_class == all_labels) - ns)/(n[i] - ns))\n",
    "        up_ecdf_ss[i].append((np.sum(up_class == all_labels) - ns)/(n[i] - ns))"
   ]
  },
  {
   "cell_type": "code",
   "execution_count": 24,
   "metadata": {
    "collapsed": true
   },
   "outputs": [],
   "source": [
    "import _pickle as pickle\n",
    "#pickle.dump(up_ecdf_ss, open('up_ecdf_ss.pkl', 'wb'))\n",
    "#pickle.dump(ptr_ecdf_ss, open('ptr_ecdf_ss.pkl', 'wb'))\n",
    "#ptr_ecdf_ss = pickle.load(open('ptr_ecdf_ss.pkl', 'rb'))\n",
    "#up_ecdf_ss = pickle.load(open('up_ecdf_ss.pkl', 'rb'))"
   ]
  },
  {
   "cell_type": "code",
   "execution_count": 56,
   "metadata": {},
   "outputs": [
    {
     "data": {
      "text/plain": [
       "<matplotlib.legend.Legend at 0x1c5868d65f8>"
      ]
     },
     "execution_count": 56,
     "metadata": {},
     "output_type": "execute_result"
    },
    {
     "data": {
      "image/png": "[encoded data removed]",
      "text/plain": [
       "<matplotlib.figure.Figure at 0x1c587fd64e0>"
      ]
     },
     "metadata": {},
     "output_type": "display_data"
    }
   ],
   "source": [
    "ptr_means = np.array([np.mean(i) for i in ptr_ecdf_ss])\n",
    "up_means = np.array([np.mean(i) for i in up_ecdf_ss])\n",
    "\n",
    "ptr_std = np.array([np.std(i, ddof = 1) for i in ptr_ecdf_ss])\n",
    "up_std = np.array([np.std(i, ddof = 1) for i in up_ecdf_ss])\n",
    "\n",
    "fig, ax = plt.subplots(1,1)\n",
    "\n",
    "ax.plot(n, 1 - ptr_means, label = 'ptr', c = 'r')\n",
    "ax.plot(n, 1 - up_means, label = 'updated priors', c = 'b')\n",
    "ax.errorbar(n, 1 - ptr_means, yerr = 1.96*ptr_std/np.sqrt(it), fmt='o', c = 'r')\n",
    "ax.errorbar(n, 1 - up_means, yerr = 1.96*up_std/np.sqrt(it), fmt='o', c = 'b')\n",
    "ax.set_title('Classification Loss vs. N; Same Mean, Same Scale')\n",
    "ax.set_xlabel('N')\n",
    "ax.set_ylabel('Loss')\n",
    "ax.legend(loc = 'lower left')\n",
    "#ax.set_ylim(0, 1)\n",
    "\n",
    "#plt.savefig('ptrVSupdatedpriors_ss_ecdf.png')"
   ]
  },
  {
   "cell_type": "code",
   "execution_count": 16,
   "metadata": {},
   "outputs": [
    {
     "name": "stderr",
     "output_type": "stream",
     "text": [
      "100%|█████████████████████████████████████████████████████████████████████████████████| 8/8 [1:24:51<00:00, 636.40s/it]\n"
     ]
    }
   ],
   "source": [
    "n = [150, 200, 250, 300, 350, 400, 450, 500]\n",
    "it = 100\n",
    "seed_ratio = 0.1\n",
    "pi1 = 0.5\n",
    "pi2 = 1 - pi1\n",
    "pis = np.array([pi1, pi2])\n",
    "pi = pis\n",
    "\n",
    "p = 0.52\n",
    "q = 0.48\n",
    "\n",
    "B = np.array([[p**2, p*q], [p*q, q**2]])\n",
    "\n",
    "max_dim = 1\n",
    "\n",
    "mu1 = 100\n",
    "mu2 = 100\n",
    "scale1 = 4\n",
    "scale2 = 9\n",
    "\n",
    "means = np.array([[mu1, mu2], [mu2, mu1]])\n",
    "scales = np.array([[scale1, scale2], [scale2, scale1]])\n",
    "\n",
    "ptr_ecdf_sd = [[] for i in range(len(n))]\n",
    "up_ecdf_sd = [[] for i in range(len(n))]\n",
    "\n",
    "for i in tqdm(range(len(n))):\n",
    "    n1 = int(np.round(n[i]*seed_ratio*pi[0]))\n",
    "    n2 = int(np.round(n[i]*seed_ratio*(1 - pi[0])))\n",
    "    \n",
    "    ns  = n1 + n2\n",
    "\n",
    "    seeds1 = np.arange(0, n1)\n",
    "    seeds2 = np.arange(int(np.round(n[i]*pi[0])), int(np.round(n[i]*pi[0])) + n2)\n",
    "    all_seeds = np.concatenate((seeds1, seeds2))\n",
    "\n",
    "    labels1 = np.zeros(len(seeds1))\n",
    "    labels2 = np.ones(len(seeds2))\n",
    "    seed_labels = np.concatenate((labels1, labels2))\n",
    "\n",
    "    all_labels = np.concatenate((np.zeros(int(np.round(n[i]*pi[0]))), np.ones(int(np.round(n[i]*pi[1])))))\n",
    "    \n",
    "    for j in range(it):\n",
    "        A = adj_matrix(n[i], pis, B, True, dist = \"normal\", means = means, scales = scales, acorn = j)\n",
    "        \n",
    "        A_ptr = pass_to_ranks(A)\n",
    "        V_ptr, U_ptr = adj_spectral_embedding(A_ptr, max_dim = 2, acorn = j)\n",
    "        X_hat = V_ptr[:, :1]\n",
    "        ptr_class = gaussian_classification(X_hat, all_seeds, seed_labels)\n",
    "        \n",
    "        C = strip_weights(A)\n",
    "        V_C, U_C = adj_spectral_embedding(C, max_dim = 2, acorn = j)\n",
    "        X_hat_C = V_C[:, :1]\n",
    "        \n",
    "        up_class = updated_priors_classification(A, all_seeds, seed_labels, pis, max_dim = 1, method = \"KS\", X_hat = X_hat_C, acorn = j)\n",
    "        \n",
    "        ptr_ecdf_sd[i].append((np.sum(ptr_class == all_labels) - ns)/(n[i] - ns))\n",
    "        up_ecdf_sd[i].append((np.sum(up_class == all_labels) - ns)/(n[i] - ns))"
   ]
  },
  {
   "cell_type": "code",
   "execution_count": 17,
   "metadata": {
    "collapsed": true
   },
   "outputs": [],
   "source": [
    "import _pickle as pickle\n",
    "#pickle.dump(up_ecdf_sd, open('up_ecdf_sd.pkl', 'wb'))\n",
    "#pickle.dump(ptr_ecdf_sd, open('ptr_ecdf_sd.pkl', 'wb'))"
   ]
  },
  {
   "cell_type": "code",
   "execution_count": 33,
   "metadata": {},
   "outputs": [
    {
     "data": {
      "text/plain": [
       "(0, 1)"
      ]
     },
     "execution_count": 33,
     "metadata": {},
     "output_type": "execute_result"
    },
    {
     "data": {
      "image/png": "[encoded data removed]",
      "text/plain": [
       "<matplotlib.figure.Figure at 0x1c5867e7b70>"
      ]
     },
     "metadata": {},
     "output_type": "display_data"
    }
   ],
   "source": [
    "ptr_means = np.array([np.mean(i) for i in ptr_ecdf_sd])\n",
    "up_means = np.array([np.mean(i) for i in up_ecdf_sd])\n",
    "\n",
    "ptr_std = np.array([np.std(i, ddof = 1) for i in ptr_ecdf_sd])\n",
    "up_std = np.array([np.std(i, ddof = 1) for i in up_ecdf_sd])\n",
    "\n",
    "fig, ax = plt.subplots(1,1)\n",
    "\n",
    "ax.plot(n, 1 - ptr_means, label = 'ptr', c = 'r')\n",
    "ax.plot(n, 1 - up_means, label = 'updated priors', c = 'b')\n",
    "ax.errorbar(n, 1 - ptr_means, yerr = 1.96*ptr_std/np.sqrt(it), fmt='o', c = 'r')\n",
    "ax.errorbar(n, 1 - up_means, yerr = 1.96*up_std/np.sqrt(it), fmt='o', c = 'b')\n",
    "ax.set_title('Classification Loss vs. N; Same Mean, Different Scale')\n",
    "ax.set_xlabel('N')\n",
    "ax.set_ylabel('Loss')\n",
    "ax.legend(loc = 'lower left')\n",
    "ax.set_ylim(0,1)\n",
    "\n",
    "#plt.savefig('ptrVSupdatedpriors_sd_ecdf.png')"
   ]
  },
  {
   "cell_type": "code",
   "execution_count": 102,
   "metadata": {},
   "outputs": [
    {
     "name": "stderr",
     "output_type": "stream",
     "text": [
      "  0%|                                                                                            | 0/1 [00:00<?, ?it/s]\n"
     ]
    },
    {
     "ename": "KeyboardInterrupt",
     "evalue": "",
     "output_type": "error",
     "traceback": [
      "\u001b[1;31m---------------------------------------------------------------------------\u001b[0m",
      "\u001b[1;31mKeyboardInterrupt\u001b[0m                         Traceback (most recent call last)",
      "\u001b[1;32m<ipython-input-102-a7fb5c0a799b>\u001b[0m in \u001b[0;36m<module>\u001b[1;34m()\u001b[0m\n\u001b[0;32m     43\u001b[0m \u001b[1;33m\u001b[0m\u001b[0m\n\u001b[0;32m     44\u001b[0m     \u001b[1;32mfor\u001b[0m \u001b[0mj\u001b[0m \u001b[1;32min\u001b[0m \u001b[0mrange\u001b[0m\u001b[1;33m(\u001b[0m\u001b[0mit\u001b[0m\u001b[1;33m)\u001b[0m\u001b[1;33m:\u001b[0m\u001b[1;33m\u001b[0m\u001b[0m\n\u001b[1;32m---> 45\u001b[1;33m         \u001b[0mA\u001b[0m \u001b[1;33m=\u001b[0m \u001b[0madj_matrix\u001b[0m\u001b[1;33m(\u001b[0m\u001b[0mn\u001b[0m\u001b[1;33m[\u001b[0m\u001b[0mi\u001b[0m\u001b[1;33m]\u001b[0m\u001b[1;33m,\u001b[0m \u001b[0mpis\u001b[0m\u001b[1;33m,\u001b[0m \u001b[0mB\u001b[0m\u001b[1;33m,\u001b[0m \u001b[1;32mTrue\u001b[0m\u001b[1;33m,\u001b[0m \u001b[0mdist\u001b[0m \u001b[1;33m=\u001b[0m \u001b[1;34m\"normal\"\u001b[0m\u001b[1;33m,\u001b[0m \u001b[0mmeans\u001b[0m \u001b[1;33m=\u001b[0m \u001b[0mmeans\u001b[0m\u001b[1;33m,\u001b[0m \u001b[0mscales\u001b[0m \u001b[1;33m=\u001b[0m \u001b[0mscales\u001b[0m\u001b[1;33m,\u001b[0m \u001b[0macorn\u001b[0m \u001b[1;33m=\u001b[0m \u001b[0mj\u001b[0m\u001b[1;33m)\u001b[0m\u001b[1;33m\u001b[0m\u001b[0m\n\u001b[0m\u001b[0;32m     46\u001b[0m \u001b[1;33m\u001b[0m\u001b[0m\n\u001b[0;32m     47\u001b[0m         \u001b[0mA_ptr\u001b[0m \u001b[1;33m=\u001b[0m \u001b[0mpass_to_ranks\u001b[0m\u001b[1;33m(\u001b[0m\u001b[0mA\u001b[0m\u001b[1;33m)\u001b[0m\u001b[1;33m\u001b[0m\u001b[0m\n",
      "\u001b[1;32mc:\\users\\hayden\\desktop\\research\\graphstats\\graphstats\\graphstats\\sbm\\sbm.py\u001b[0m in \u001b[0;36madj_matrix\u001b[1;34m(n, pi, Lambda, weighted, dist, means, scales, acorn)\u001b[0m\n\u001b[0;32m     74\u001b[0m                                         \u001b[0mA\u001b[0m\u001b[1;33m[\u001b[0m\u001b[0mk\u001b[0m\u001b[1;33m,\u001b[0m \u001b[0mj\u001b[0m\u001b[1;33m]\u001b[0m \u001b[1;33m=\u001b[0m \u001b[0mA\u001b[0m\u001b[1;33m[\u001b[0m\u001b[0mk\u001b[0m\u001b[1;33m,\u001b[0m \u001b[0mj\u001b[0m\u001b[1;33m]\u001b[0m \u001b[1;33m*\u001b[0m \u001b[1;33m(\u001b[0m\u001b[0mnp\u001b[0m\u001b[1;33m.\u001b[0m\u001b[0mrandom\u001b[0m\u001b[1;33m.\u001b[0m\u001b[0mnormal\u001b[0m\u001b[1;33m(\u001b[0m\u001b[0mmeans\u001b[0m\u001b[1;33m[\u001b[0m\u001b[0mi\u001b[0m\u001b[1;33m,\u001b[0m \u001b[0mc\u001b[0m\u001b[1;33m]\u001b[0m\u001b[1;33m,\u001b[0m \u001b[0mscales\u001b[0m\u001b[1;33m)\u001b[0m\u001b[1;33m)\u001b[0m\u001b[1;33m\u001b[0m\u001b[0m\n\u001b[0;32m     75\u001b[0m                                 \u001b[1;32melse\u001b[0m\u001b[1;33m:\u001b[0m\u001b[1;33m\u001b[0m\u001b[0m\n\u001b[1;32m---> 76\u001b[1;33m                                         \u001b[0mA\u001b[0m\u001b[1;33m[\u001b[0m\u001b[0mk\u001b[0m\u001b[1;33m,\u001b[0m \u001b[0mj\u001b[0m\u001b[1;33m]\u001b[0m \u001b[1;33m=\u001b[0m \u001b[0mA\u001b[0m\u001b[1;33m[\u001b[0m\u001b[0mk\u001b[0m\u001b[1;33m,\u001b[0m \u001b[0mj\u001b[0m\u001b[1;33m]\u001b[0m \u001b[1;33m*\u001b[0m \u001b[1;33m(\u001b[0m\u001b[0mnp\u001b[0m\u001b[1;33m.\u001b[0m\u001b[0mrandom\u001b[0m\u001b[1;33m.\u001b[0m\u001b[0mnormal\u001b[0m\u001b[1;33m(\u001b[0m\u001b[0mmeans\u001b[0m\u001b[1;33m[\u001b[0m\u001b[0mi\u001b[0m\u001b[1;33m,\u001b[0m \u001b[0mc\u001b[0m\u001b[1;33m]\u001b[0m\u001b[1;33m,\u001b[0m \u001b[0mscales\u001b[0m\u001b[1;33m[\u001b[0m\u001b[0mi\u001b[0m\u001b[1;33m,\u001b[0m \u001b[0mc\u001b[0m\u001b[1;33m]\u001b[0m\u001b[1;33m)\u001b[0m\u001b[1;33m)\u001b[0m\u001b[1;33m\u001b[0m\u001b[0m\n\u001b[0m\u001b[0;32m     77\u001b[0m                     \u001b[0mA\u001b[0m\u001b[1;33m[\u001b[0m\u001b[0mj\u001b[0m\u001b[1;33m,\u001b[0m \u001b[0mk\u001b[0m\u001b[1;33m]\u001b[0m \u001b[1;33m=\u001b[0m \u001b[0mA\u001b[0m\u001b[1;33m[\u001b[0m\u001b[0mk\u001b[0m\u001b[1;33m,\u001b[0m \u001b[0mj\u001b[0m\u001b[1;33m]\u001b[0m \u001b[1;31m# A is symmetric\u001b[0m\u001b[1;33m\u001b[0m\u001b[0m\n\u001b[0;32m     78\u001b[0m                 \u001b[0mc\u001b[0m \u001b[1;33m+=\u001b[0m \u001b[1;36m1\u001b[0m\u001b[1;33m\u001b[0m\u001b[0m\n",
      "\u001b[1;31mKeyboardInterrupt\u001b[0m: "
     ]
    }
   ],
   "source": [
    "#n = [150, 200, 250, 300, 350, 400, 450, 500]\n",
    "n = [1000]\n",
    "it = 50\n",
    "seed_ratio = 0.1\n",
    "pi1 = 0.5\n",
    "pi2 = 1 - pi1\n",
    "pis = np.array([pi1, pi2])\n",
    "pi = pis\n",
    "\n",
    "p = 0.52\n",
    "q = 0.48\n",
    "\n",
    "B = np.array([[p**2, p*q], [p*q, q**2]])\n",
    "\n",
    "max_dim = 1\n",
    "\n",
    "mu1 = 100\n",
    "mu2 = 100\n",
    "scale1 = 4\n",
    "scale2 = 9\n",
    "\n",
    "means = np.array([[mu1, mu2], [mu2, mu1]])\n",
    "scales = np.array([[scale1, scale2], [scale2, scale1]])\n",
    "\n",
    "ptr = [[] for i in range(len(n))]\n",
    "gclass = [[] for i in range(len(n))]\n",
    "\n",
    "for i in tqdm(range(len(n))):\n",
    "    n1 = int(np.round(n[i]*seed_ratio*pi[0]))\n",
    "    n2 = int(np.round(n[i]*seed_ratio*(1 - pi[0])))\n",
    "    \n",
    "    ns  = n1 + n2\n",
    "\n",
    "    seeds1 = np.arange(0, n1)\n",
    "    seeds2 = np.arange(int(np.round(n[i]*pi[0])), int(np.round(n[i]*pi[0])) + n2)\n",
    "    all_seeds = np.concatenate((seeds1, seeds2))\n",
    "\n",
    "    labels1 = np.zeros(len(seeds1))\n",
    "    labels2 = np.ones(len(seeds2))\n",
    "    seed_labels = np.concatenate((labels1, labels2))\n",
    "\n",
    "    all_labels = np.concatenate((np.zeros(int(np.round(n[i]*pi[0]))), np.ones(int(np.round(n[i]*pi[1])))))\n",
    "    \n",
    "    for j in range(it):\n",
    "        A = adj_matrix(n[i], pis, B, True, dist = \"normal\", means = means, scales = scales, acorn = j)\n",
    "        \n",
    "        A_ptr = pass_to_ranks(A)\n",
    "        V_ptr, U_ptr = adj_spectral_embedding(A_ptr, max_dim = 2, acorn = j)\n",
    "        X_hat = V_ptr[:, :1]\n",
    "        ptr_class = gaussian_classification(X_hat, all_seeds, seed_labels)\n",
    "        \n",
    "        C = strip_weights(A)\n",
    "        V_C, U_C = adj_spectral_embedding(C, max_dim = 2, acorn = j)\n",
    "        X_hat_C = V_C[:, :1]\n",
    "        \n",
    "        gclass_class = gaussian_classification(X_hat_C, all_seeds, seed_labels)\n",
    "        \n",
    "        ptr[i].append((np.sum(ptr_class == all_labels) - ns)/(n[i] - ns))\n",
    "        gclass[i].append((np.sum(gclass_class == all_labels) - ns)/(n[i] - ns))"
   ]
  },
  {
   "cell_type": "code",
   "execution_count": 34,
   "metadata": {},
   "outputs": [
    {
     "data": {
      "text/plain": [
       "(0, 1)"
      ]
     },
     "execution_count": 34,
     "metadata": {},
     "output_type": "execute_result"
    },
    {
     "data": {
      "image/png": "[encoded data removed]",
      "text/plain": [
       "<matplotlib.figure.Figure at 0x1c58717ae48>"
      ]
     },
     "metadata": {},
     "output_type": "display_data"
    }
   ],
   "source": [
    "ptr_means = np.array([np.mean(i) for i in ptr])\n",
    "up_means = np.array([np.mean(i) for i in gclass])\n",
    "\n",
    "ptr_std = np.array([np.std(i, ddof = 1) for i in ptr])\n",
    "up_std = np.array([np.std(i, ddof = 1) for i in gclass])\n",
    "\n",
    "fig, ax = plt.subplots(1,1)\n",
    "\n",
    "ax.plot(n, 1 - ptr_means, label = 'ptr', c = 'r')\n",
    "ax.plot(n, 1 - up_means, label = 'updated priors', c = 'b')\n",
    "ax.errorbar(n, 1 - ptr_means, yerr = 1.96*ptr_std/np.sqrt(it), fmt='o', c = 'r')\n",
    "ax.errorbar(n, 1 - up_means, yerr = 1.96*up_std/np.sqrt(it), fmt='o', c = 'b')\n",
    "ax.set_title('Classification Loss vs. N; Same Mean, Different Scale')\n",
    "ax.set_xlabel('N')\n",
    "ax.set_ylabel('Loss')\n",
    "ax.legend(loc = 'lower left')\n",
    "ax.set_ylim(0,1)\n",
    "\n",
    "#plt.savefig('ptrVSupdatedpriors_sd_ecdf.png')"
   ]
  },
  {
   "cell_type": "code",
   "execution_count": 51,
   "metadata": {},
   "outputs": [
    {
     "data": {
      "text/plain": [
       "[<matplotlib.lines.Line2D at 0x1c587727908>]"
      ]
     },
     "execution_count": 51,
     "metadata": {},
     "output_type": "execute_result"
    },
    {
     "data": {
      "image/png": "[encoded data removed]",
      "text/plain": [
       "<matplotlib.figure.Figure at 0x1c587727940>"
      ]
     },
     "metadata": {},
     "output_type": "display_data"
    }
   ],
   "source": [
    "fig, ax = plt.subplots(1,1)\n",
    "xs = np.arange(0, 200, step = .1)\n",
    "\n",
    "ax.plot(xs, np.exp(-xs))"
   ]
  },
  {
   "cell_type": "code",
   "execution_count": 103,
   "metadata": {},
   "outputs": [],
   "source": [
    "mu1 = 100\n",
    "mu2 = 100\n",
    "scale1 = 4\n",
    "scale2 = 9\n",
    "\n",
    "means = np.array([[mu1, mu2], [mu2, mu1]])\n",
    "scales = np.array([[scale1, scale2], [scale2, scale1]])\n",
    "\n",
    "A = adj_matrix(1000, pis, B, True, dist = \"normal\", means = means, scales = scales, acorn = j)\n",
    "seed_weights = get_weights(A, all_seeds, seed_labels)\n",
    "unlabeled_weight = get_weights(A, all_seeds, seed_labels, 35)"
   ]
  },
  {
   "cell_type": "code",
   "execution_count": 104,
   "metadata": {},
   "outputs": [],
   "source": [
    "class1 = seed_weights[0][0]\n",
    "class2 = seed_weights[1][0]\n",
    "\n",
    "class1_ord = np.sort(class1)\n",
    "class2_ord = np.sort(class2)\n",
    "\n",
    "ecdf1 = np.arange(1, len(class1_ord) + 1)/len(class1_ord)\n",
    "ecdf2 = np.arange(1, len(class2_ord) + 1)/len(class2_ord)\n",
    "\n"
   ]
  },
  {
   "cell_type": "code",
   "execution_count": 105,
   "metadata": {},
   "outputs": [
    {
     "data": {
      "text/plain": [
       "(94.51805223716838, 0.002976190476190476, 0.001607717041800643)"
      ]
     },
     "execution_count": 105,
     "metadata": {},
     "output_type": "execute_result"
    }
   ],
   "source": [
    "unlabeled_ord = np.sort(unlabeled_weight[0])\n",
    "ecdfu = np.arange(1, len(unlabeled_ord) + 1)/len(unlabeled_ord)\n",
    "\n",
    "min_ = min(min(unlabeled_ord), min(ecdf1), min(ecdf2))\n",
    "max_ = max(max(unlabeled_ord), max(ecdf1), max(ecdf2))\n",
    "\n",
    "min(unlabeled_ord), min(ecdf1), min(ecdf2)"
   ]
  },
  {
   "cell_type": "code",
   "execution_count": 109,
   "metadata": {},
   "outputs": [
    {
     "data": {
      "image/png": "[encoded data removed]",
      "text/plain": [
       "<matplotlib.figure.Figure at 0x1c587acca58>"
      ]
     },
     "metadata": {},
     "output_type": "display_data"
    }
   ],
   "source": [
    "fig, ax = plt.subplots(1,1)\n",
    "ax.plot(class1_ord, ecdf1, label= 'block 1')\n",
    "ax.plot(class2_ord, ecdf2, label = 'block 2')\n",
    "ax.plot(unlabeled_ord, ecdfu, label = 'unlabeled')\n",
    "ax.legend(loc = 'upper left')\n",
    "ax.set_title('Empirical Cumulative Distribution Functions')\n",
    "ax.set_xlabel('edge weight')\n",
    "ax.set_ylabel('cdf(edge weight)')\n",
    "\n",
    "plt.savefig('ecdf_example.png')"
   ]
  },
  {
   "cell_type": "code",
   "execution_count": 94,
   "metadata": {},
   "outputs": [
    {
     "data": {
      "text/plain": [
       "array([5.95238095e-03, 9.00865388e+01, 9.01940634e+01, 9.15548467e+01,\n",
       "       9.16638719e+01, 9.28853421e+01, 9.30006162e+01, 9.33532975e+01,\n",
       "       9.39144108e+01, 9.43788760e+01, 9.48926664e+01, 9.57681435e+01,\n",
       "       9.61403482e+01, 9.63132373e+01, 9.66496361e+01, 9.67922954e+01,\n",
       "       9.69353867e+01, 9.69973893e+01, 9.72456778e+01, 9.73306057e+01,\n",
       "       9.74560737e+01, 9.77883913e+01, 9.78165006e+01, 9.81538256e+01,\n",
       "       9.85993799e+01, 9.87156324e+01, 9.92553147e+01, 9.94742996e+01,\n",
       "       9.97321395e+01, 9.98690818e+01, 1.00237911e+02, 1.00323836e+02,\n",
       "       1.00576677e+02, 1.00580274e+02, 1.00599544e+02, 1.00668992e+02,\n",
       "       1.00684286e+02, 1.00782028e+02, 1.00836256e+02, 1.01060942e+02,\n",
       "       1.01096594e+02, 1.01118405e+02, 1.01321646e+02, 1.01440906e+02,\n",
       "       1.01513102e+02, 1.01585006e+02, 1.01713084e+02, 1.01815058e+02,\n",
       "       1.01934993e+02, 1.02086473e+02, 1.02369818e+02, 1.02772124e+02,\n",
       "       1.02933860e+02, 1.03045287e+02, 1.03689827e+02, 1.03694136e+02,\n",
       "       1.03961439e+02, 1.04027817e+02, 1.04385267e+02, 1.04597805e+02,\n",
       "       1.05082529e+02, 1.05504271e+02, 1.06246591e+02, 1.06252677e+02,\n",
       "       1.06375383e+02, 1.06907598e+02, 1.07122520e+02, 1.07385118e+02,\n",
       "       1.08636229e+02, 1.08734405e+02, 1.09491700e+02, 1.09789311e+02,\n",
       "       1.10548628e+02, 1.11711298e+02])"
      ]
     },
     "execution_count": 94,
     "metadata": {},
     "output_type": "execute_result"
    }
   ],
   "source": [
    "np.insert(class1_ord, 0, min_)"
   ]
  },
  {
   "cell_type": "code",
   "execution_count": 116,
   "metadata": {},
   "outputs": [
    {
     "name": "stderr",
     "output_type": "stream",
     "text": [
      "100%|████████████████████████████████████████████████████████████████████████████████████| 8/8 [06:25<00:00, 48.22s/it]\n"
     ]
    }
   ],
   "source": [
    "n = [150, 200, 250, 300, 350, 400, 450, 500]\n",
    "#n = [1000, 2000]\n",
    "it = 10\n",
    "seed_ratio = 0.9\n",
    "pi1 = 0.5\n",
    "pi2 = 1 - pi1\n",
    "pis = np.array([pi1, pi2])\n",
    "pi = pis\n",
    "\n",
    "p = 0.52\n",
    "q = 0.48\n",
    "\n",
    "B = np.array([[p**2, p*q], [p*q, q**2]])\n",
    "\n",
    "max_dim = 1\n",
    "\n",
    "mu1 = 100\n",
    "mu2 = 100\n",
    "scale1 = 9\n",
    "scale2 = 9\n",
    "\n",
    "means = np.array([[mu1, mu2], [mu2, mu1]])\n",
    "scales = np.array([[scale1, scale2], [scale2, scale1]])\n",
    "\n",
    "ptr_ecdf_ss_2 = [[] for i in range(len(n))]\n",
    "up_ecdf_ss_2 = [[] for i in range(len(n))]\n",
    "\n",
    "for i in tqdm(range(len(n))):\n",
    "    n1 = int(np.round(n[i]*seed_ratio*pi[0]))\n",
    "    n2 = int(np.round(n[i]*seed_ratio*(1 - pi[0])))\n",
    "    \n",
    "    ns  = n1 + n2\n",
    "\n",
    "    seeds1 = np.arange(0, n1)\n",
    "    seeds2 = np.arange(int(np.round(n[i]*pi[0])), int(np.round(n[i]*pi[0])) + n2)\n",
    "    all_seeds = np.concatenate((seeds1, seeds2))\n",
    "\n",
    "    labels1 = np.zeros(len(seeds1))\n",
    "    labels2 = np.ones(len(seeds2))\n",
    "    seed_labels = np.concatenate((labels1, labels2))\n",
    "\n",
    "    all_labels = np.concatenate((np.zeros(int(np.round(n[i]*pi[0]))), np.ones(int(np.round(n[i]*pi[1])))))\n",
    "    \n",
    "    for j in range(it):\n",
    "        A = adj_matrix(n[i], pis, B, True, dist = \"normal\", means = means, scales = scales, acorn = j)\n",
    "        \n",
    "        A_ptr = pass_to_ranks(A)\n",
    "        V_ptr, U_ptr = adj_spectral_embedding(A_ptr, max_dim = 2, acorn = j)\n",
    "        X_hat = V_ptr[:, :1]\n",
    "        ptr_class = gaussian_classification(X_hat, all_seeds, seed_labels)\n",
    "        \n",
    "        C = strip_weights(A)\n",
    "        V_C, U_C = adj_spectral_embedding(C, max_dim = 2, acorn = j)\n",
    "        X_hat_C = V_C[:, :1]\n",
    "        \n",
    "        up_class = updated_priors_classification(A, all_seeds, seed_labels, pis, max_dim = 1, method = \"KS\", X_hat = X_hat_C, acorn = j)\n",
    "        \n",
    "        ptr_ecdf_ss_2[i].append((np.sum(ptr_class == all_labels) - ns)/(n[i] - ns))\n",
    "        up_ecdf_ss_2[i].append((np.sum(up_class == all_labels) - ns)/(n[i] - ns))"
   ]
  },
  {
   "cell_type": "code",
   "execution_count": 111,
   "metadata": {
    "collapsed": true
   },
   "outputs": [],
   "source": [
    "import _pickle as pickle\n",
    "pickle.dump(up_ecdf_ss_2, open('up_ecdf_ss_2.pkl', 'wb'))\n",
    "pickle.dump(ptr_ecdf_ss_2, open('ptr_ecdf_ss_2.pkl', 'wb'))"
   ]
  },
  {
   "cell_type": "code",
   "execution_count": 117,
   "metadata": {},
   "outputs": [
    {
     "data": {
      "image/png": "[encoded data removed]",
      "text/plain": [
       "<matplotlib.figure.Figure at 0x1c5888312e8>"
      ]
     },
     "metadata": {},
     "output_type": "display_data"
    }
   ],
   "source": [
    "ptr_means = np.array([np.mean(i) for i in ptr_ecdf_ss_2])\n",
    "up_means = np.array([np.mean(i) for i in up_ecdf_ss_2])\n",
    "\n",
    "ptr_std = np.array([np.std(i, ddof = 1) for i in ptr_ecdf_ss_2])\n",
    "up_std = np.array([np.std(i, ddof = 1) for i in up_ecdf_ss_2])\n",
    "\n",
    "fig, ax = plt.subplots(1,1)\n",
    "\n",
    "ax.plot(n, 1 - ptr_means, label = 'ptr', c = 'r')\n",
    "ax.plot(n, 1 - up_means, label = 'updated priors', c = 'b')\n",
    "ax.errorbar(n, 1 - ptr_means, yerr = 1.96*ptr_std/np.sqrt(it), fmt='o', c = 'r')\n",
    "ax.errorbar(n, 1 - up_means, yerr = 1.96*up_std/np.sqrt(it), fmt='o', c = 'b')\n",
    "ax.set_title('Classification Loss vs. N; Same Mean, Different Scale')\n",
    "ax.set_xlabel('N')\n",
    "ax.set_ylabel('Loss')\n",
    "ax.legend(loc = 'lower left')\n",
    "#ax.set_ylim(0,1)\n",
    "\n",
    "plt.savefig('ptrVSupdatedpriors_ss_ecdf_2.png')"
   ]
  },
  {
   "cell_type": "code",
   "execution_count": null,
   "metadata": {
    "collapsed": true
   },
   "outputs": [],
   "source": []
  }
 ],
 "metadata": {
  "kernelspec": {
   "display_name": "Python 3",
   "language": "python",
   "name": "python3"
  },
  "language_info": {
   "codemirror_mode": {
    "name": "ipython",
    "version": 3
   },
   "file_extension": ".py",
   "mimetype": "text/x-python",
   "name": "python",
   "nbconvert_exporter": "python",
   "pygments_lexer": "ipython3",
   "version": "3.6.1"
  }
 },
 "nbformat": 4,
 "nbformat_minor": 2
}
