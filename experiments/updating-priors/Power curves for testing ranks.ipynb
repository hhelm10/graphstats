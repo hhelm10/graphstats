{
 "cells": [
  {
   "cell_type": "code",
   "execution_count": 1,
   "metadata": {},
   "outputs": [],
   "source": [
    "import numpy as np\n",
    "import matplotlib.pyplot as plt\n",
    "from graphstats import *\n",
    "from scipy.stats import mannwhitneyu as mwu"
   ]
  },
  {
   "cell_type": "code",
   "execution_count": 2,
   "metadata": {},
   "outputs": [],
   "source": [
    "N = 200\n",
    "SEED_RATIO = 0.1\n",
    "MU = 100\n",
    "PI = np.array([0.5, 0.5])\n",
    "B = np.array([[0.52**2, 0.52*0.48], [0.52*0.48, 0.48**2]])\n",
    "SCALE = 4\n",
    "SCALES = np.array([[SCALE, SCALE], [SCALE, SCALE]])\n",
    "ALPHA = 0.10"
   ]
  },
  {
   "cell_type": "code",
   "execution_count": 3,
   "metadata": {},
   "outputs": [
    {
     "name": "stderr",
     "output_type": "stream",
     "text": [
      "100%|██████████| 60/60 [35:05<00:00, 35.86s/it]\n"
     ]
    }
   ],
   "source": [
    "reps = 300\n",
    "\n",
    "n1 = int(np.round(N*SEED_RATIO*PI[0]))\n",
    "n2 = int(np.round(N*SEED_RATIO*(1 - PI[0])))\n",
    "\n",
    "seeds1 = np.arange(0, n1)\n",
    "seeds2 = np.arange(int(np.round(N*PI[0])), int(np.round(N*PI[0])) + n2)\n",
    "all_seeds = np.concatenate((seeds1, seeds2))\n",
    "\n",
    "labels1 = np.zeros(len(seeds1))\n",
    "labels2 = np.ones(len(seeds2))\n",
    "seed_labels = np.concatenate((labels1, labels2))\n",
    "\n",
    "mu2s = np.arange(MU, MU + 3, step = 0.05)\n",
    "\n",
    "correct_rejections = np.zeros(len(mu2s))\n",
    "all_rejections = np.zeros(len(mu2s))\n",
    "\n",
    "for i, mu2 in enumerate(tqdm(mu2s)):\n",
    "    for j in range(reps):\n",
    "        means = np.array([[MU, mu2], [mu2, MU]])\n",
    "        A = adj_matrix(N, PI, B, True, dist = \"normal\", means = means, scales = SCALES, acorn = int(mu2**2 + i**2 + j**2))\n",
    "        weights = get_weights(A, all_seeds, seed_labels)\n",
    "        w11 = weights[0][0]\n",
    "        w12 = weights[0][1]\n",
    "        w22 = weights[1][1]\n",
    "        \n",
    "        T1, p1 = mwu(w11, w12)\n",
    "        T2, p2 = mwu(w12, w22)\n",
    "        \n",
    "        if p1 < ALPHA and p2 < ALPHA:\n",
    "            if np.mean(w11) < np.mean(w12) and np.mean(w22) < np.mean(w12) and MU < mu2:\n",
    "                correct_rejections[i] += 1\n",
    "                all_rejections[i] += 1\n",
    "            elif np.mean(w11) > np.mean(w12) and MU > mu2 and np.mean(w22) > np.mean(w12):\n",
    "                correct_rejections[i] += 1\n",
    "                all_rejections[i] += 1\n",
    "            else:\n",
    "                all_rejections[i] += 1"
   ]
  },
  {
   "cell_type": "code",
   "execution_count": 4,
   "metadata": {},
   "outputs": [],
   "source": [
    "correct_reject_ratio = correct_rejections/reps\n",
    "all_reject_ratio = all_rejections/reps"
   ]
  },
  {
   "cell_type": "code",
   "execution_count": 5,
   "metadata": {},
   "outputs": [
    {
     "data": {
      "text/plain": [
       "(array([0.        , 0.03      , 0.02      , 0.02      , 0.02666667,\n",
       "        0.02666667, 0.04666667, 0.03333333, 0.04333333, 0.04333333,\n",
       "        0.03666667, 0.04666667, 0.04333333, 0.06666667, 0.07333333,\n",
       "        0.09333333, 0.09666667, 0.08666667, 0.07333333, 0.11333333,\n",
       "        0.10333333, 0.09666667, 0.11333333, 0.11666667, 0.11333333,\n",
       "        0.16666667, 0.11333333, 0.12666667, 0.19333333, 0.18333333,\n",
       "        0.18333333, 0.19333333, 0.23      , 0.18666667, 0.23      ,\n",
       "        0.22666667, 0.21666667, 0.34666667, 0.30333333, 0.31666667,\n",
       "        0.34666667, 0.31666667, 0.33666667, 0.31333333, 0.41333333,\n",
       "        0.39      , 0.37333333, 0.42      , 0.43333333, 0.44666667,\n",
       "        0.42333333, 0.44666667, 0.48      , 0.50666667, 0.51666667,\n",
       "        0.53      , 0.52666667, 0.56666667, 0.56333333, 0.58666667]),\n",
       " array([0.04333333, 0.06      , 0.04333333, 0.03666667, 0.04333333,\n",
       "        0.04666667, 0.07666667, 0.05      , 0.06      , 0.05666667,\n",
       "        0.05      , 0.06      , 0.06      , 0.08333333, 0.09      ,\n",
       "        0.10666667, 0.10666667, 0.09666667, 0.08      , 0.12      ,\n",
       "        0.10333333, 0.10666667, 0.11666667, 0.12666667, 0.12      ,\n",
       "        0.16666667, 0.12      , 0.12666667, 0.19666667, 0.19666667,\n",
       "        0.18666667, 0.21      , 0.23333333, 0.20333333, 0.23333333,\n",
       "        0.23      , 0.22      , 0.34666667, 0.30666667, 0.32      ,\n",
       "        0.34666667, 0.31666667, 0.33666667, 0.32      , 0.41333333,\n",
       "        0.39      , 0.37333333, 0.42      , 0.43333333, 0.44666667,\n",
       "        0.42333333, 0.44666667, 0.48      , 0.50666667, 0.51666667,\n",
       "        0.53      , 0.52666667, 0.56666667, 0.56333333, 0.59      ]))"
      ]
     },
     "execution_count": 5,
     "metadata": {},
     "output_type": "execute_result"
    }
   ],
   "source": [
    "correct_reject_ratio, all_reject_ratio"
   ]
  },
  {
   "cell_type": "code",
   "execution_count": 7,
   "metadata": {},
   "outputs": [
    {
     "data": {
      "image/png": "[encoded data removed]",
      "text/plain": [
       "<Figure size 432x288 with 1 Axes>"
      ]
     },
     "metadata": {
      "needs_background": "light"
     },
     "output_type": "display_data"
    }
   ],
   "source": [
    "fig, ax = plt.subplots(1,1)\n",
    "ax.plot(mu2s - MU, correct_reject_ratio, label = \"Three decision test\")\n",
    "ax.plot(mu2s - MU, all_reject_ratio, label = \"Two decision test\")\n",
    "ax.set_xlabel('|mu1 - mu2|')\n",
    "ax.set_ylabel('Power')\n",
    "ax.set_title('Estimated Power vs. Difference in Means (alpha = 0.1)')\n",
    "ax.legend(loc = 'upper center')\n",
    "plt.savefig('estimated_power_half')"
   ]
  },
  {
   "cell_type": "code",
   "execution_count": null,
   "metadata": {},
   "outputs": [],
   "source": []
  }
 ],
 "metadata": {
  "kernelspec": {
   "display_name": "Python 3",
   "language": "python",
   "name": "python3"
  },
  "language_info": {
   "codemirror_mode": {
    "name": "ipython",
    "version": 3
   },
   "file_extension": ".py",
   "mimetype": "text/x-python",
   "name": "python",
   "nbconvert_exporter": "python",
   "pygments_lexer": "ipython3",
   "version": "3.6.7"
  }
 },
 "nbformat": 4,
 "nbformat_minor": 2
}
