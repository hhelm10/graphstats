{
 "cells": [
  {
   "cell_type": "code",
   "execution_count": 2,
   "metadata": {},
   "outputs": [],
   "source": [
    "import numpy as np\n",
    "import matplotlib.pyplot as plt\n",
    "from graphstats import *\n",
    "from scipy.stats import mannwhitneyu as mwuR\n",
    "from tqdm import tqdm_notebook as tqdm"
   ]
  },
  {
   "cell_type": "code",
   "execution_count": 3,
   "metadata": {},
   "outputs": [],
   "source": [
    "# List of number of nodes\n",
    "n = [150, 200, 250, 300, 350, 400, 450, 500]\n",
    "\n",
    "# Number of Monte Carlo simulations\n",
    "it = 100\n",
    "\n",
    "# The number of seeds = int(n*seed_ratio)\n",
    "seed_ratio = 0.1\n",
    "\n",
    "# Class 1 prior\n",
    "pi1 = 0.5\n",
    "\n",
    "# Class 2 prior\n",
    "pi2 = 1 - pi1\n",
    "pis = np.array([pi1, pi2])\n",
    "pi = pis\n",
    "\n",
    "# Setting up B matrix\n",
    "p = 0.52\n",
    "q = 0.48\n",
    "\n",
    "B = np.array([[p**2, p*q], [p*q, q**2]])\n",
    "\n",
    "# Hard coding the maximum embedding dimension\n",
    "max_dim = 1\n",
    "\n",
    "# Setting the edge weight distribution parameters\n",
    "mu1 = 100\n",
    "mu2 = 102\n",
    "scale1 = 9\n",
    "scale2 = 9\n",
    "means = np.array([[mu1, mu2], [mu2, mu1]])\n",
    "scales = np.array([[scale1, scale2], [scale2, scale1]])"
   ]
  },
  {
   "cell_type": "code",
   "execution_count": 15,
   "metadata": {},
   "outputs": [
    {
     "data": {
      "application/vnd.jupyter.widget-view+json": {
       "model_id": "08242c09cf3e4938ac981cd3f328719f",
       "version_major": 2,
       "version_minor": 0
      },
      "text/plain": [
       "HBox(children=(IntProgress(value=0, max=8), HTML(value='')))"
      ]
     },
     "metadata": {},
     "output_type": "display_data"
    },
    {
     "name": "stdout",
     "output_type": "stream",
     "text": [
      "\n"
     ]
    }
   ],
   "source": [
    "# List of number of nodes\n",
    "n = [150, 200, 250, 300, 350, 400, 450, 500]\n",
    "\n",
    "# Number of Monte Carlo simulations\n",
    "it = 100\n",
    "\n",
    "# The number of seeds = int(n*seed_ratio)\n",
    "seed_ratio = 0.1\n",
    "\n",
    "# Class 1 prior\n",
    "pi1 = 0.5\n",
    "\n",
    "# Class 2 prior\n",
    "pi2 = 1 - pi1\n",
    "pis = np.array([pi1, pi2])\n",
    "pi = pis\n",
    "\n",
    "# Setting up B matrix\n",
    "p = 0.52\n",
    "q = 0.48\n",
    "\n",
    "B = np.array([[p**2, p*q], [p*q, q**2]])\n",
    "\n",
    "# Hard coding the maximum embedding dimension\n",
    "max_dim = 1\n",
    "\n",
    "# Setting the edge weight distribution parameters\n",
    "mu1 = 100\n",
    "mu2 = 102\n",
    "scale1 = 9\n",
    "scale2 = 9\n",
    "means = np.array([[mu1, mu2], [mu2, mu1]])\n",
    "scales = np.array([[scale1, scale2], [scale2, scale1]])\n",
    "\n",
    "# Initalizing lists to store misclassification results\n",
    "# Naming convention \"a_b_c\"\n",
    "# a = The type of classification procedure (ptr = pass-to-ranks, up = updated priors)\n",
    "# b = The  (test = testing for a difference in the means)\n",
    "# c = The edge weight distribution setting (it is always \"mean_type\"\"std_type\")\n",
    "#     d = different, s = same; ds = different mean same scale; ss = same mean same scale\n",
    "ptr_test_ds = [[] for i in range(len(n))]\n",
    "up_test_ds = [[] for i in range(len(n))]\n",
    "\n",
    "# Loop over the number of nodes\n",
    "for i in tqdm(range(len(n))):\n",
    "    # ni = The number of training data for block i\n",
    "    n1 = int(np.round(n[i]*seed_ratio*pi[0]))\n",
    "    n2 = int(np.round(n[i]*seed_ratio*(1 - pi[0])))\n",
    "    \n",
    "    # Find the total number of training data\n",
    "    ns  = n1 + n2\n",
    "\n",
    "    # Array of indices corresponding to training data\n",
    "    seeds1 = np.arange(0, n1)\n",
    "    seeds2 = np.arange(int(np.round(n[i]*pi[0])), int(np.round(n[i]*pi[0])) + n2)\n",
    "    all_seeds = np.concatenate((seeds1, seeds2))\n",
    "\n",
    "    # Labels for the training data\n",
    "    labels1 = np.zeros(len(seeds1))\n",
    "    labels2 = np.ones(len(seeds2))\n",
    "    seed_labels = np.concatenate((labels1, labels2))\n",
    "    \n",
    "    # Ground truth\n",
    "    all_labels = np.concatenate((np.zeros(int(np.round(n[i]*pi[0]))), np.ones(int(np.round(n[i]*pi[1])))))\n",
    "    \n",
    "    # Loop over the number of Monte Carlo iterations\n",
    "    for j in range(it):\n",
    "        # Generate an adjacency matrix with n[i] nodes\n",
    "        # class priors = pis\n",
    "        # block adjacency probabilities given by B\n",
    "        # weighted = True\n",
    "        # weight distribution = normal/gaussian with means = means and scales = scales\n",
    "        A = adj_matrix(n[i], pis, B, True, dist = \"normal\", means = means, scales = scales, acorn = i*j + j + i)\n",
    "        \n",
    "        # Pass-to-ranks classification\n",
    "        A_ptr = pass_to_ranks(A)\n",
    "        V_ptr, U_ptr = adj_spectral_embedding(A_ptr, max_dim = 2, acorn = j)\n",
    "        X_hat = V_ptr[:, :1] \n",
    "        ptr_class = gaussian_classification(X_hat, all_seeds, seed_labels)\n",
    "        \n",
    "        # Updated priors classification\n",
    "        C = strip_weights(A)\n",
    "        V_C, U_C = adj_spectral_embedding(C, max_dim = 2, acorn = j)\n",
    "        X_hat_C = V_C[:, :1]\n",
    "        up_class = updated_priors_classification(X_hat_C, A, all_seeds, seed_labels, method = \"ranks\", add_smoothing = 1, test = True, acorn = j)\n",
    "        \n",
    "        # Missclassifcation rates for unlabeled nodes\n",
    "        ptr_test_ds[i].append((np.sum(ptr_class == all_labels) - ns)/(n[i] - ns))\n",
    "        up_test_ds[i].append((np.sum(up_class == all_labels) - ns)/(n[i] - ns))"
   ]
  },
  {
   "cell_type": "code",
   "execution_count": 19,
   "metadata": {},
   "outputs": [],
   "source": [
    "import _pickle as pickle\n",
    "# pickle.dump(ptr_test_ds, open('ptr_ds_DAS.pkl', 'wb'))\n",
    "# pickle.dump(up_test_ds, open('up_ds_DAS.pkl', 'wb'))\n",
    "up_test_ds = pickle.load(open('up_ds_DAS.pkl', 'rb'))\n",
    "ptr_test_ds = pickle.load(open('ptr_ds_DAS.pkl', 'rb'))"
   ]
  },
  {
   "cell_type": "code",
   "execution_count": 20,
   "metadata": {},
   "outputs": [
    {
     "data": {
      "image/png": "[encoded data removed]",
      "text/plain": [
       "<Figure size 432x288 with 1 Axes>"
      ]
     },
     "metadata": {
      "needs_background": "light"
     },
     "output_type": "display_data"
    }
   ],
   "source": [
    "ptr_ds_means = np.array([np.mean(i) for i in ptr_test_ds])\n",
    "up_ds_means = np.array([np.mean(i) for i in up_test_ds])\n",
    "\n",
    "ptr_ds_std = np.array([np.std(i, ddof = 1) for i in ptr_test_ds])\n",
    "up_ds_std = np.array([np.std(i, ddof = 1) for i in up_test_ds])\n",
    "\n",
    "fig, ax = plt.subplots(1,1)\n",
    "\n",
    "ax.plot(n, 1 - ptr_ds_means, label = 'ptr', c = 'r')\n",
    "ax.plot(n, 1 - up_ds_means, label = 'updated priors', c = 'b')\n",
    "ax.errorbar(n, 1 - ptr_ds_means, yerr = 1.96*ptr_ds_std/np.sqrt(it), fmt='o', c = 'r')\n",
    "ax.errorbar(n, 1 - up_ds_means, yerr = 1.96*up_ds_std/np.sqrt(it), fmt='o', c = 'b')\n",
    "ax.set_title('Misclassification rate vs. n; mu1 != mu2, s1 = s2')\n",
    "ax.set_xlabel('n')\n",
    "ax.set_ylabel('Loss')\n",
    "ax.legend(loc = 'lower left')\n",
    "\n",
    "plt.savefig('ds_DAS.png')"
   ]
  },
  {
   "cell_type": "code",
   "execution_count": 6,
   "metadata": {},
   "outputs": [
    {
     "data": {
      "application/vnd.jupyter.widget-view+json": {
       "model_id": "500e914a731d4859a4b20b42055ed10c",
       "version_major": 2,
       "version_minor": 0
      },
      "text/plain": [
       "HBox(children=(IntProgress(value=0, max=8), HTML(value='')))"
      ]
     },
     "metadata": {},
     "output_type": "display_data"
    },
    {
     "name": "stdout",
     "output_type": "stream",
     "text": [
      "\n"
     ]
    }
   ],
   "source": [
    "n = [150, 200, 250, 300, 350, 400, 450, 500]\n",
    "it = 100\n",
    "seed_ratio = 0.1\n",
    "pi1 = 0.5\n",
    "pi2 = 1 - pi1\n",
    "pis = np.array([pi1, pi2])\n",
    "pi = pis\n",
    "\n",
    "p = 0.52\n",
    "q = 0.48\n",
    "\n",
    "B = np.array([[p**2, p*q], [p*q, q**2]])\n",
    "\n",
    "max_dim = 1\n",
    "\n",
    "mu1 = 100\n",
    "mu2 = 102\n",
    "scale1 = 4\n",
    "scale2 = 9\n",
    "\n",
    "means = np.array([[mu1, mu2], [mu2, mu1]])\n",
    "scales = np.array([[scale1, scale2], [scale2, scale1]])\n",
    "\n",
    "ptr_test_dd = [[] for i in range(len(n))]\n",
    "up_test_dd = [[] for i in range(len(n))]\n",
    "\n",
    "for i in tqdm(range(len(n))):\n",
    "    n1 = int(np.round(n[i]*seed_ratio*pi[0]))\n",
    "    n2 = int(np.round(n[i]*seed_ratio*(1 - pi[0])))\n",
    "    \n",
    "    ns  = n1 + n2\n",
    "\n",
    "    seeds1 = np.arange(0, n1)\n",
    "    seeds2 = np.arange(int(np.round(n[i]*pi[0])), int(np.round(n[i]*pi[0])) + n2)\n",
    "    all_seeds = np.concatenate((seeds1, seeds2))\n",
    "\n",
    "    labels1 = np.zeros(len(seeds1))\n",
    "    labels2 = np.ones(len(seeds2))\n",
    "    seed_labels = np.concatenate((labels1, labels2))\n",
    "\n",
    "    all_labels = np.concatenate((np.zeros(int(np.round(n[i]*pi[0]))), np.ones(int(np.round(n[i]*pi[1])))))\n",
    "    \n",
    "    for j in range(it):\n",
    "        A = adj_matrix(n[i], pis, B, True, dist = \"normal\", means = means, scales = scales, acorn = j)\n",
    "        \n",
    "        A_ptr = pass_to_ranks(A)\n",
    "        V_ptr, U_ptr = adj_spectral_embedding(A_ptr, max_dim = 2, acorn = j)\n",
    "        X_hat = V_ptr[:, :1] \n",
    "        ptr_class = gaussian_classification(X_hat, all_seeds, seed_labels)\n",
    "        \n",
    "        C = strip_weights(A)\n",
    "        V_C, U_C = adj_spectral_embedding(C, max_dim = 2, acorn = j)\n",
    "        X_hat_C = V_C[:, :1] \n",
    "        \n",
    "        up_class = updated_priors_classification(A, all_seeds, seed_labels, pis, max_dim = 1, add_smoothing = 1, test = True, X_hat = X_hat_C, acorn = j)\n",
    "        \n",
    "        ptr_test_dd[i].append((np.sum(ptr_class == all_labels) - ns)/(n[i] - ns))\n",
    "        up_test_dd[i].append((np.sum(up_class == all_labels) - ns)/(n[i] - ns))"
   ]
  },
  {
   "cell_type": "code",
   "execution_count": 5,
   "metadata": {},
   "outputs": [],
   "source": [
    "import _pickle as pickle\n",
    "# pickle.dump(ptr_test_dd, open('ptr_dd_DAS.pkl', 'wb'))\n",
    "# pickle.dump(up_test_dd, open('up_dd_DAS.pkl', 'wb'))\n",
    "up_test_dd = pickle.load(open('up_dd_DAS.pkl', 'rb'))\n",
    "ptr_test_dd = pickle.load(open('ptr_dd_DAS.pkl', 'rb'))"
   ]
  },
  {
   "cell_type": "code",
   "execution_count": 11,
   "metadata": {},
   "outputs": [
    {
     "data": {
      "image/png": "[encoded data removed]",
      "text/plain": [
       "<Figure size 432x288 with 1 Axes>"
      ]
     },
     "metadata": {
      "needs_background": "light"
     },
     "output_type": "display_data"
    }
   ],
   "source": [
    "ptr_dd_means = np.array([np.mean(i) for i in ptr_test_dd])\n",
    "up_dd_means = np.array([np.mean(i) for i in up_test_dd])\n",
    "\n",
    "ptr_dd_std = np.array([np.std(i, ddof = 1) for i in ptr_test_dd])\n",
    "up_dd_std = np.array([np.std(i, ddof = 1) for i in up_test_dd])\n",
    "\n",
    "fig, ax = plt.subplots(1,1)\n",
    "\n",
    "ax.plot(n, 1 - ptr_dd_means, label = 'ptr', c = 'r')\n",
    "ax.plot(n, 1 - up_dd_means, label = 'updated priors', c = 'b')\n",
    "ax.errorbar(n, 1 - ptr_dd_means, yerr = 1.96*ptr_dd_std/np.sqrt(it), fmt='o', c = 'r')\n",
    "ax.errorbar(n, 1 - up_dd_means, yerr = 1.96*up_dd_std/np.sqrt(it), fmt='o', c = 'b')\n",
    "ax.set_title('Misclassification rate vs. n; mu1 != mu2, s1 != s2')\n",
    "ax.set_xlabel('n')\n",
    "ax.set_ylabel('Loss')\n",
    "ax.legend(loc = 'lower left')\n",
    "\n",
    "# plt.savefig('dd_DAS.png')"
   ]
  },
  {
   "cell_type": "code",
   "execution_count": 10,
   "metadata": {},
   "outputs": [
    {
     "data": {
      "application/vnd.jupyter.widget-view+json": {
       "model_id": "bf99f26c62b04d589c43e7e1b2564274",
       "version_major": 2,
       "version_minor": 0
      },
      "text/plain": [
       "HBox(children=(IntProgress(value=0, max=8), HTML(value='')))"
      ]
     },
     "metadata": {},
     "output_type": "display_data"
    },
    {
     "name": "stdout",
     "output_type": "stream",
     "text": [
      "\n"
     ]
    }
   ],
   "source": [
    "n = [150, 200, 250, 300, 350, 400, 450, 500]\n",
    "it = 100\n",
    "seed_ratio = 0.1\n",
    "pi1 = 0.5\n",
    "pi2 = 1 - pi1\n",
    "pis = np.array([pi1, pi2])\n",
    "pi = pis\n",
    "\n",
    "p = 0.52\n",
    "q = 0.48\n",
    "\n",
    "B = np.array([[p**2, p*q], [p*q, q**2]])\n",
    "\n",
    "max_dim = 1\n",
    "\n",
    "mu1 = 100\n",
    "mu2 = 100\n",
    "scale1 = 4\n",
    "scale2 = 9\n",
    "\n",
    "means = np.array([[mu1, mu2], [mu2, mu1]])\n",
    "scales = np.array([[scale1, scale2], [scale2, scale1]])\n",
    "\n",
    "ptr_test_sd = [[] for i in range(len(n))]\n",
    "up_test_sd = [[] for i in range(len(n))]\n",
    "\n",
    "for i in tqdm(range(len(n))):\n",
    "    n1 = int(np.round(n[i]*seed_ratio*pi[0]))\n",
    "    n2 = int(np.round(n[i]*seed_ratio*(1 - pi[0])))\n",
    "    \n",
    "    ns  = n1 + n2\n",
    "\n",
    "    seeds1 = np.arange(0, n1)\n",
    "    seeds2 = np.arange(int(np.round(n[i]*pi[0])), int(np.round(n[i]*pi[0])) + n2)\n",
    "    all_seeds = np.concatenate((seeds1, seeds2))\n",
    "\n",
    "    labels1 = np.zeros(len(seeds1))\n",
    "    labels2 = np.ones(len(seeds2))\n",
    "    seed_labels = np.concatenate((labels1, labels2))\n",
    "\n",
    "    all_labels = np.concatenate((np.zeros(int(np.round(n[i]*pi[0]))), np.ones(int(np.round(n[i]*pi[1])))))\n",
    "    \n",
    "    for j in range(it):\n",
    "        A = adj_matrix(n[i], pis, B, True, dist = \"normal\", means = means, scales = scales, acorn = j)\n",
    "        \n",
    "        A_ptr = pass_to_ranks(A)\n",
    "        V_ptr, U_ptr = adj_spectral_embedding(A_ptr, max_dim = 2, acorn = j)\n",
    "        X_hat = V_ptr[:, :1] \n",
    "        #X_hat = X_hat[:, None]\n",
    "        ptr_class = gaussian_classification(X_hat, all_seeds, seed_labels)\n",
    "        \n",
    "        C = strip_weights(A)\n",
    "        V_C, U_C = adj_spectral_embedding(C, max_dim = 2, acorn = j)\n",
    "        X_hat_C = V_C[:, :1] \n",
    "        #X_hat_C = X_hat_C[:, None]\n",
    "        \n",
    "        up_class = updated_priors_classification(A, all_seeds, seed_labels, pis, max_dim = 1, add_smoothing = 1, test = True, X_hat = X_hat_C, acorn = j)\n",
    "        \n",
    "        ptr_test_sd[i].append((np.sum(ptr_class == all_labels) - ns)/(n[i] - ns))\n",
    "        up_test_sd[i].append((np.sum(up_class == all_labels) - ns)/(n[i] - ns))"
   ]
  },
  {
   "cell_type": "code",
   "execution_count": 8,
   "metadata": {},
   "outputs": [],
   "source": [
    "import _pickle as pickle\n",
    "# pickle.dump(ptr_test_sd, open('ptr_sd_DAS.pkl', 'wb'))\n",
    "# pickle.dump(up_test_sd, open('up_sd_DAS.pkl', 'wb'))\n",
    "up_test_sd = pickle.load(open('up_sd_DAS.pkl', 'rb'))\n",
    "ptr_test_sd = pickle.load(open('ptr_sd_DAS.pkl', 'rb'))"
   ]
  },
  {
   "cell_type": "code",
   "execution_count": 10,
   "metadata": {},
   "outputs": [
    {
     "data": {
      "image/png": "[encoded data removed]",
      "text/plain": [
       "<Figure size 432x288 with 1 Axes>"
      ]
     },
     "metadata": {
      "needs_background": "light"
     },
     "output_type": "display_data"
    }
   ],
   "source": [
    "ptr_sd_means = np.array([np.mean(i) for i in ptr_test_sd])\n",
    "up_sd_means = np.array([np.mean(i) for i in up_test_sd])\n",
    "\n",
    "ptr_sd_std = np.array([np.std(i, ddof = 1) for i in ptr_test_sd])\n",
    "up_sd_std = np.array([np.std(i, ddof = 1) for i in up_test_sd])\n",
    "\n",
    "fig, ax = plt.subplots(1,1)\n",
    "\n",
    "ax.plot(n, 1 - ptr_sd_means, label = 'ptr', c = 'r')\n",
    "ax.plot(n, 1 - up_sd_means, label = 'updated priors', c = 'b')\n",
    "ax.errorbar(n, 1 - ptr_sd_means, yerr = 1.96*ptr_sd_std/np.sqrt(it), fmt='o', c = 'r')\n",
    "ax.errorbar(n, 1 - up_sd_means, yerr = 1.96*up_sd_std/np.sqrt(it), fmt='o', c = 'b')\n",
    "ax.set_title('Misclassification rate vs. n; mu1 = mu2, s1 != s2')\n",
    "ax.set_xlabel('n')\n",
    "ax.set_ylabel('Loss')\n",
    "ax.legend(loc = 'lower left')\n",
    "\n",
    "# plt.savefig('sd_DAS.png')"
   ]
  },
  {
   "cell_type": "code",
   "execution_count": null,
   "metadata": {},
   "outputs": [],
   "source": []
  },
  {
   "cell_type": "code",
   "execution_count": null,
   "metadata": {},
   "outputs": [],
   "source": []
  },
  {
   "cell_type": "code",
   "execution_count": 13,
   "metadata": {},
   "outputs": [
    {
     "data": {
      "application/vnd.jupyter.widget-view+json": {
       "model_id": "86231eb6b74344a692955ab85325b5b9",
       "version_major": 2,
       "version_minor": 0
      },
      "text/plain": [
       "HBox(children=(IntProgress(value=0, max=8), HTML(value='')))"
      ]
     },
     "metadata": {},
     "output_type": "display_data"
    },
    {
     "name": "stdout",
     "output_type": "stream",
     "text": [
      "\n"
     ]
    }
   ],
   "source": [
    "n = [150, 200, 250, 300, 350, 400, 450, 500]\n",
    "it = 100\n",
    "seed_ratio = 0.1\n",
    "pi1 = 0.5\n",
    "pi2 = 1 - pi1\n",
    "pis = np.array([pi1, pi2])\n",
    "pi = pis\n",
    "\n",
    "p = 0.52\n",
    "q = 0.48\n",
    "\n",
    "B = np.array([[p**2, p*q], [p*q, q**2]])\n",
    "\n",
    "max_dim = 1\n",
    "\n",
    "mu1 = 100\n",
    "mu2 = 100\n",
    "scale1 = 9\n",
    "scale2 = 9\n",
    "\n",
    "means = np.array([[mu1, mu2], [mu2, mu1]])\n",
    "scales = np.array([[scale1, scale2], [scale2, scale1]])\n",
    "\n",
    "ptr_test_ss = [[] for i in range(len(n))]\n",
    "up_test_ss = [[] for i in range(len(n))]\n",
    "\n",
    "for i in tqdm(range(len(n))):\n",
    "    n1 = int(np.round(n[i]*seed_ratio*pi[0]))\n",
    "    n2 = int(np.round(n[i]*seed_ratio*(1 - pi[0])))\n",
    "    \n",
    "    ns  = n1 + n2\n",
    "\n",
    "    seeds1 = np.arange(0, n1)\n",
    "    seeds2 = np.arange(int(np.round(n[i]*pi[0])), int(np.round(n[i]*pi[0])) + n2)\n",
    "    all_seeds = np.concatenate((seeds1, seeds2))\n",
    "\n",
    "    labels1 = np.zeros(len(seeds1))\n",
    "    labels2 = np.ones(len(seeds2))\n",
    "    seed_labels = np.concatenate((labels1, labels2))\n",
    "\n",
    "    all_labels = np.concatenate((np.zeros(int(np.round(n[i]*pi[0]))), np.ones(int(np.round(n[i]*pi[1])))))\n",
    "    \n",
    "    for j in range(it):\n",
    "        A = adj_matrix(n[i], pis, B, True, dist = \"normal\", means = means, scales = scales, acorn = j)\n",
    "        \n",
    "        A_ptr = pass_to_ranks(A)\n",
    "        V_ptr, U_ptr = adj_spectral_embedding(A_ptr, max_dim = 2, acorn = j)\n",
    "        X_hat = V_ptr[:, :1] \n",
    "        #X_hat = X_hat[:, None]\n",
    "        ptr_class = gaussian_classification(X_hat, all_seeds, seed_labels)\n",
    "        \n",
    "        C = strip_weights(A)\n",
    "        V_C, U_C = adj_spectral_embedding(C, max_dim = 2, acorn = j)\n",
    "        X_hat_C = V_C[:, :1]\n",
    "        \n",
    "        up_class = updated_priors_classification(A, all_seeds, seed_labels, pis, max_dim = 1, add_smoothing = 1, test = True, X_hat = X_hat_C, acorn = j)\n",
    "        \n",
    "        ptr_test_ss[i].append((np.sum(ptr_class == all_labels) - ns)/(n[i] - ns))\n",
    "        up_test_ss[i].append((np.sum(up_class == all_labels) - ns)/(n[i] - ns))"
   ]
  },
  {
   "cell_type": "code",
   "execution_count": 12,
   "metadata": {},
   "outputs": [],
   "source": [
    "import _pickle as pickle\n",
    "# pickle.dump(ptr_test_ss, open('ptr_ss_DAS.pkl', 'wb'))\n",
    "# pickle.dump(up_test_ss, open('up_ss_DAS.pkl', 'wb'))\n",
    "up_test_ss = pickle.load(open('up_ss_DAS.pkl', 'rb'))\n",
    "ptr_test_ss = pickle.load(open('ptr_ss_DAS.pkl', 'rb'))"
   ]
  },
  {
   "cell_type": "code",
   "execution_count": 13,
   "metadata": {},
   "outputs": [
    {
     "data": {
      "image/png": "[encoded data removed]",
      "text/plain": [
       "<Figure size 432x288 with 1 Axes>"
      ]
     },
     "metadata": {
      "needs_background": "light"
     },
     "output_type": "display_data"
    }
   ],
   "source": [
    "ptr_ss_means = np.array([np.mean(i) for i in ptr_test_ss])\n",
    "up_ss_means = np.array([np.mean(i) for i in up_test_ss])\n",
    "\n",
    "ptr_ss_std = np.array([np.std(i, ddof = 1) for i in ptr_test_ss])\n",
    "up_ss_std = np.array([np.std(i, ddof = 1) for i in up_test_ss])\n",
    "\n",
    "fig, ax = plt.subplots(1,1)\n",
    "\n",
    "ax.plot(n, 1 - ptr_ss_means, label = 'ptr', c = 'r')\n",
    "ax.plot(n, 1 - up_ss_means, label = 'updated priors', c = 'b')\n",
    "ax.errorbar(n, 1 - ptr_ss_means, yerr = 1.96*ptr_ss_std/np.sqrt(it), fmt='o', c = 'r')\n",
    "ax.errorbar(n, 1 - up_ss_means, yerr = 1.96*up_ss_std/np.sqrt(it), fmt='o', c = 'b')\n",
    "ax.set_title('Misclassification rate vs. n; mu1 = mu2, s1 = s2')\n",
    "ax.set_xlabel('n')\n",
    "ax.set_ylabel('Loss')\n",
    "ax.legend(loc = 'lower left')\n",
    "\n",
    "# plt.savefig('ss_DAS.png')"
   ]
  },
  {
   "cell_type": "code",
   "execution_count": null,
   "metadata": {
    "collapsed": true
   },
   "outputs": [],
   "source": []
  }
 ],
 "metadata": {
  "kernelspec": {
   "display_name": "Python 3",
   "language": "python",
   "name": "python3"
  },
  "language_info": {
   "codemirror_mode": {
    "name": "ipython",
    "version": 3
   },
   "file_extension": ".py",
   "mimetype": "text/x-python",
   "name": "python",
   "nbconvert_exporter": "python",
   "pygments_lexer": "ipython3",
   "version": "3.6.7"
  }
 },
 "nbformat": 4,
 "nbformat_minor": 2
}
