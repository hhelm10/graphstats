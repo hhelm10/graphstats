{
 "cells": [
  {
   "cell_type": "code",
   "execution_count": 1,
   "metadata": {},
   "outputs": [],
   "source": [
    "import numpy as np\n",
    "import matplotlib.pyplot as plt\n",
    "from scipy.stats import norm, beta\n",
    "import numpy.random as random\n",
    "from tqdm import tqdm\n",
    "import seaborn as sns\n",
    "\n",
    "sns.set()\n",
    "\n",
    "%matplotlib inline"
   ]
  },
  {
   "cell_type": "code",
   "execution_count": 4,
   "metadata": {},
   "outputs": [
    {
     "name": "stderr",
     "output_type": "stream",
     "text": [
      "100%|██████████| 160/160 [00:10<00:00, 15.40it/s]\n"
     ]
    }
   ],
   "source": [
    "pi = [0.5, 0.5]\n",
    "mu = 1\n",
    "\n",
    "Y = [-1, 1]\n",
    "\n",
    "xs = np.arange(-4, 4, step=0.05)\n",
    "mc = 100\n",
    "\n",
    "props = []\n",
    "for i, x in enumerate(tqdm(xs)):\n",
    "    class1_counts = 0\n",
    "    pdf1 = norm.pdf(x, -1, 1)\n",
    "    pdf2 = norm.pdf(x, 1, 1)\n",
    "    \n",
    "    for b in range(mc):\n",
    "        label = np.random.choice(Y, 1, p = [pdf1, pdf2]/np.sum([pdf1, pdf2]))\n",
    "        if label is -1:\n",
    "            z = np.random.beta(4, 6)\n",
    "        else:\n",
    "            z = np.random.beta(6, 4)\n",
    "            \n",
    "        beta1 = beta.pdf(z, 4, 6)\n",
    "        beta2 = beta.pdf(z, 6, 4)\n",
    "            \n",
    "        class1_counts += np.argmax(np.array([pdf1*beta1, pdf2*beta2]))\n",
    "        \n",
    "    props.append(class1_counts/mc)"
   ]
  },
  {
   "cell_type": "code",
   "execution_count": 6,
   "metadata": {},
   "outputs": [
    {
     "name": "stderr",
     "output_type": "stream",
     "text": [
      "100%|██████████| 160/160 [00:06<00:00, 24.92it/s]\n"
     ]
    }
   ],
   "source": [
    "mc1 = 100\n",
    "props1 = []\n",
    "for i, x in enumerate(tqdm(xs)):\n",
    "    class1_counts = 0\n",
    "    pdf1 = norm.pdf(x, -1, 1)\n",
    "    pdf2 = norm.pdf(x, 1, 1)\n",
    "    \n",
    "    for b in range(mc):\n",
    "        label = np.random.choice(Y, 1)\n",
    "        if label is -1:\n",
    "            z = np.random.normal(1,1)\n",
    "        else:\n",
    "            z = np.random.normal(1,1)\n",
    "            \n",
    "        beta1 = norm.pdf(z, 1, 1)\n",
    "        beta2 = norm.pdf(z, 1, 1)\n",
    "            \n",
    "        class1_counts += np.argmax(np.array([pdf1*beta1, pdf2*beta2]))\n",
    "        \n",
    "    props1.append(class1_counts/mc)"
   ]
  },
  {
   "cell_type": "code",
   "execution_count": 7,
   "metadata": {},
   "outputs": [
    {
     "data": {
      "image/png": "[encoded data removed]",
      "text/plain": [
       "<Figure size 432x288 with 1 Axes>"
      ]
     },
     "metadata": {
      "needs_background": "light"
     },
     "output_type": "display_data"
    }
   ],
   "source": [
    "fig, ax = plt.subplots(1,1)\n",
    "ax.plot(xs, norm.pdf(xs, -1, 1), label='class1')\n",
    "ax.plot(xs, norm.pdf(xs, 1, 1), label='class2')\n",
    "ax.plot(xs, props, label='bayes')\n",
    "ax.plot(xs, props1, label='LDA')\n",
    "ax.legend()\n",
    "plt.savefig('fuzzy_classifier.png')"
   ]
  },
  {
   "cell_type": "code",
   "execution_count": null,
   "metadata": {},
   "outputs": [],
   "source": []
  },
  {
   "cell_type": "code",
   "execution_count": null,
   "metadata": {},
   "outputs": [],
   "source": []
  }
 ],
 "metadata": {
  "kernelspec": {
   "display_name": "hh",
   "language": "python",
   "name": "hh"
  },
  "language_info": {
   "codemirror_mode": {
    "name": "ipython",
    "version": 3
   },
   "file_extension": ".py",
   "mimetype": "text/x-python",
   "name": "python",
   "nbconvert_exporter": "python",
   "pygments_lexer": "ipython3",
   "version": "3.6.7"
  }
 },
 "nbformat": 4,
 "nbformat_minor": 2
}
