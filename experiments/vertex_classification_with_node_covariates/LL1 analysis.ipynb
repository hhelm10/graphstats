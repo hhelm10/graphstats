{
 "cells": [
  {
   "cell_type": "code",
   "execution_count": 1,
   "metadata": {},
   "outputs": [
    {
     "ename": "FileNotFoundError",
     "evalue": "[Errno 2] No such file or directory: 'LL1_truth.pkl'",
     "output_type": "error",
     "traceback": [
      "\u001b[0;31m---------------------------------------------------------------------------\u001b[0m",
      "\u001b[0;31mFileNotFoundError\u001b[0m                         Traceback (most recent call last)",
      "\u001b[0;32m<ipython-input-1-0d6bd0c330b4>\u001b[0m in \u001b[0;36m<module>\u001b[0;34m\u001b[0m\n\u001b[1;32m      7\u001b[0m \u001b[0msns\u001b[0m\u001b[0;34m.\u001b[0m\u001b[0mset\u001b[0m\u001b[0;34m(\u001b[0m\u001b[0;34m)\u001b[0m\u001b[0;34m\u001b[0m\u001b[0;34m\u001b[0m\u001b[0m\n\u001b[1;32m      8\u001b[0m \u001b[0;32mimport\u001b[0m \u001b[0m_pickle\u001b[0m \u001b[0;32mas\u001b[0m \u001b[0mpickle\u001b[0m\u001b[0;34m\u001b[0m\u001b[0;34m\u001b[0m\u001b[0m\n\u001b[0;32m----> 9\u001b[0;31m \u001b[0mtruth\u001b[0m \u001b[0;34m=\u001b[0m \u001b[0mpickle\u001b[0m\u001b[0;34m.\u001b[0m\u001b[0mload\u001b[0m\u001b[0;34m(\u001b[0m\u001b[0mopen\u001b[0m\u001b[0;34m(\u001b[0m\u001b[0;34m'LL1_truth.pkl'\u001b[0m\u001b[0;34m,\u001b[0m \u001b[0;34m'rb'\u001b[0m\u001b[0;34m)\u001b[0m\u001b[0;34m)\u001b[0m\u001b[0;34m\u001b[0m\u001b[0;34m\u001b[0m\u001b[0m\n\u001b[0m\u001b[1;32m     10\u001b[0m \u001b[0mtrain\u001b[0m \u001b[0;34m=\u001b[0m \u001b[0mpickle\u001b[0m\u001b[0;34m.\u001b[0m\u001b[0mload\u001b[0m\u001b[0;34m(\u001b[0m\u001b[0mopen\u001b[0m\u001b[0;34m(\u001b[0m\u001b[0;34m'LL1_train.pkl'\u001b[0m\u001b[0;34m,\u001b[0m \u001b[0;34m'rb'\u001b[0m\u001b[0;34m)\u001b[0m\u001b[0;34m)\u001b[0m\u001b[0;34m\u001b[0m\u001b[0;34m\u001b[0m\u001b[0m\n\u001b[1;32m     11\u001b[0m \u001b[0mtest\u001b[0m \u001b[0;34m=\u001b[0m \u001b[0mpickle\u001b[0m\u001b[0;34m.\u001b[0m\u001b[0mload\u001b[0m\u001b[0;34m(\u001b[0m\u001b[0mopen\u001b[0m\u001b[0;34m(\u001b[0m\u001b[0;34m'LL1_test.pkl'\u001b[0m\u001b[0;34m,\u001b[0m \u001b[0;34m'rb'\u001b[0m\u001b[0;34m)\u001b[0m\u001b[0;34m)\u001b[0m\u001b[0;34m\u001b[0m\u001b[0;34m\u001b[0m\u001b[0m\n",
      "\u001b[0;31mFileNotFoundError\u001b[0m: [Errno 2] No such file or directory: 'LL1_truth.pkl'"
     ]
    }
   ],
   "source": [
    "# Status - As of 6/10/2019 HHKNN > KNN > HHRF > RF > QDA\n",
    "# Having trouble getting RF to perform well.\n",
    "\n",
    "from covariates_gclass import *\n",
    "import seaborn as sns\n",
    "import networkx as nx\n",
    "sns.set()\n",
    "import _pickle as pickle\n",
    "truth = pickle.load(open('LL1_truth.pkl', 'rb'))\n",
    "train = pickle.load(open('LL1_train.pkl', 'rb'))\n",
    "test = pickle.load(open('LL1_test.pkl', 'rb'))\n",
    "truth['learningData'].head()"
   ]
  },
  {
   "cell_type": "code",
   "execution_count": null,
   "metadata": {},
   "outputs": [],
   "source": [
    "true_labels = truth['learningData']['classLabel'].values.astype(int)\n",
    "G = train['0']\n",
    "n = len(G)\n",
    "truth"
   ]
  },
  {
   "cell_type": "code",
   "execution_count": null,
   "metadata": {},
   "outputs": [],
   "source": [
    "true_labels"
   ]
  },
  {
   "cell_type": "code",
   "execution_count": null,
   "metadata": {},
   "outputs": [],
   "source": [
    "def classify(X, Z, normal_params, fitted_model, m = None):\n",
    "    \"\"\"\n",
    "    Classifies vertices.\n",
    "\n",
    "    X - n x p; Normally distributed random variables.\n",
    "    Z - n x d; Not normally distributed random variables.\n",
    "    fitted_model - A sklearn model that can return posterior estimates.\n",
    "    m - number of training data used to train fitted_model.\n",
    "    \"\"\"\n",
    "\n",
    "    n, p = X.shape\n",
    "    m, d = Z.shape\n",
    "    \n",
    "    K = len(normal_params)\n",
    "    \n",
    "    if n != m:\n",
    "        raise ValueError('different number of samples for X, Z')\n",
    "    \n",
    "    if p == 1:\n",
    "        norm_pdf = norm.pdf\n",
    "        X = X.reshape((1, -1))[0]\n",
    "    else:\n",
    "        norm_pdf = mvn.pdf\n",
    "        \n",
    "    posteriors = fitted_model.predict_proba(Z)\n",
    "    \n",
    "    predictions=-1*np.zeros(n)\n",
    "\n",
    "    for i in range(n):\n",
    "        if m is None:\n",
    "            smoothed_posterior = posteriors[i]\n",
    "        else:\n",
    "            posterior_plus = posteriors[i] + np.ones(K)/m\n",
    "            smoothed_posterior = posterior_plus / np.sum(posterior_plus)\n",
    "        temp_pdfs = np.array([norm_pdf(X[i], normal_params[j][0], normal_params[j][1]) for j in range(K)])\n",
    "        posterior_pdf_prod = temp_pdfs * smoothed_posterior\n",
    "        predictions[i] = int(np.argmax(posterior_pdf_prod))\n",
    "        \n",
    "    return predictions"
   ]
  },
  {
   "cell_type": "code",
   "execution_count": null,
   "metadata": {},
   "outputs": [],
   "source": [
    "train['learningData']"
   ]
  },
  {
   "cell_type": "code",
   "execution_count": null,
   "metadata": {},
   "outputs": [],
   "source": [
    "true_labels = truth['learningData']['classLabel'].values.astype(int)\n",
    "G = train['0']\n",
    "n = len(G)\n",
    "\n",
    "A = nx.to_numpy_array(G)\n",
    "train_labels = train['learningData']['classLabel'].values.astype(int)\n",
    "train_idx = train['learningData']['d3mIndex'].values.astype(int)\n",
    "\n",
    "unique_labels, n_seeds = np.unique(train_labels, return_counts=True)\n",
    "K = len(unique_labels)\n",
    "train_idx_split = [np.where(train_labels == i)[0] for i in unique_labels]\n",
    "class_train_idx = [train_idx[tis] for tis in train_idx_split]\n",
    "\n",
    "# train_idx = np.concatenate((class_train_idx)).astype(int)\n",
    "test_idx = [k for k in range(n) if k not in train_idx]\n",
    "labels = true_labels[test_idx]\n",
    "\n",
    "MORE_ATTR = True\n",
    "attr_number = 1\n",
    "attrs = []\n",
    "while MORE_ATTR:\n",
    "    attr = 'attr'\n",
    "    temp_attr = list(nx.get_node_attributes(G, 'attr' + str(attr_number)).values())\n",
    "    if len(temp_attr) == 0:\n",
    "        MORE_ATTR = False\n",
    "    else:\n",
    "        attrs.append(temp_attr)\n",
    "        attr_number += 1\n",
    "attrs = np.array(attrs).T\n",
    "# for i in range(attrs.shape[1]):\n",
    "#     attrs[:, i] = attrs[:, i]/max(attrs[:, i])"
   ]
  },
  {
   "cell_type": "code",
   "execution_count": null,
   "metadata": {},
   "outputs": [],
   "source": [
    "train_labels[0]"
   ]
  },
  {
   "cell_type": "code",
   "execution_count": null,
   "metadata": {},
   "outputs": [],
   "source": [
    "train_idx[0]"
   ]
  },
  {
   "cell_type": "code",
   "execution_count": null,
   "metadata": {},
   "outputs": [],
   "source": [
    "#- Total number of seeds\n",
    "m = np.sum(n_seeds)\n",
    "\n",
    "#- estimate class probabilities\n",
    "pi_hats = n_seeds / m\n",
    "\n",
    "ase_obj = ASE(n_components=3, n_elbows=2)\n",
    "X = ase_obj.fit_transform(A)\n",
    "\n",
    "Z = attrs\n",
    "\n",
    "XZ = np.concatenate((X, Z), axis=1)\n",
    "\n",
    "#- Store mvn samples corresponding to seeds\n",
    "seeds_norm = X[train_idx]\n",
    "\n",
    "cov = np.cov(X[train_idx], rowvar=False)\n",
    "\n",
    "#- Estimate normal parameters using seeds\n",
    "mu1, cov1 = estimate_normal_parameters(X[class_train_idx[0]])\n",
    "params1 = [mu1, cov]\n",
    "\n",
    "mu2, cov2 = estimate_normal_parameters(X[class_train_idx[1]])\n",
    "params2 = [mu2, cov]\n",
    "\n",
    "mu3, cov3 = estimate_normal_parameters(X[class_train_idx[2]])\n",
    "params3 = [mu3, cov]\n",
    "\n",
    "#- Convenient way to store\n",
    "params=[params1, params2, params3]\n",
    "\n",
    "#- Store uniform samples corresponding to seeds\n",
    "seeds_beta = Z[train_idx]\n",
    "\n",
    "#- Using conditional indendence assumption (RF, KNN used for posterior estimates)\n",
    "# if errors is None:\n",
    "errors = [[] for _ in range(5)]\n",
    "\n",
    "for _ in range(100):\n",
    "\n",
    "    temp_pred = QDA(X[test_idx], pi_hats, params)\n",
    "    qda_preds = temp_pred\n",
    "    temp_error = np.sum(temp_pred == true_labels[test_idx])/len(test_idx)\n",
    "    errors[0].append(temp_error)\n",
    "\n",
    "    rf1 = RF(n_estimators=100, max_depth=int(np.round(np.log(seeds_beta.shape[0]))))\n",
    "    rf1.fit(seeds_beta, true_labels[train_idx])\n",
    "\n",
    "    knn1 = KNN(n_neighbors=int(np.round(np.log(seeds_beta.shape[0]))))\n",
    "    knn1.fit(seeds_beta, true_labels[train_idx])\n",
    "\n",
    "    smooth = True\n",
    "\n",
    "    if smooth:\n",
    "        temp_pred = classify(X[test_idx], Z[test_idx], params, rf1, m = m)\n",
    "        temp_error = np.sum(temp_pred == true_labels[test_idx])/len(test_idx)\n",
    "        errors[1].append(temp_error)\n",
    "\n",
    "        temp_pred = classify(X[test_idx], Z[test_idx], params, knn1, m = m)\n",
    "        temp_error = np.sum(temp_pred == true_labels[test_idx])/len(test_idx)\n",
    "        errors[2].append(temp_error)\n",
    "    else:\n",
    "        temp_pred = classify(X[test_idx], Z[test_idx], params, rf1)\n",
    "        temp_error = np.sum(temp_pred == true_labels[test_idx])/len(test_idx)\n",
    "        errors[1].append(temp_error)\n",
    "\n",
    "        temp_pred = classify(X[test_idx], Z[test_idx], params, knn1)\n",
    "        temp_error = np.sum(temp_pred == true_labels[test_idx])/len(test_idx)\n",
    "        errors[2].append(temp_error)\n",
    "\n",
    "    #- Not using conditional independence assumption (RF, KNN used for classification)\n",
    "    XZseeds = np.concatenate((seeds_norm, seeds_beta), axis=1)\n",
    "\n",
    "    rf2 = RF(n_estimators=100, max_depth=int(np.round(np.log(m))))\n",
    "    rf2.fit(XZseeds, true_labels[train_idx])\n",
    "    temp_pred = rf2.predict(XZ[test_idx])\n",
    "    temp_error = np.sum(temp_pred == true_labels[test_idx])/len(test_idx)\n",
    "    errors[3].append(temp_error)\n",
    "\n",
    "    knn2 = KNN(n_neighbors=int(np.round(np.log(m))))\n",
    "    knn2.fit(XZseeds, true_labels[train_idx])\n",
    "\n",
    "    temp_pred = knn2.predict(XZ[test_idx])\n",
    "    temp_error = np.sum(temp_pred == true_labels[test_idx])/len(test_idx)\n",
    "    errors[4].append(temp_error)"
   ]
  },
  {
   "cell_type": "code",
   "execution_count": null,
   "metadata": {},
   "outputs": [],
   "source": [
    "np.concatenate(errors)\n",
    "algorithms = ['qda', 'spa-rf', 'spa-knn', 'rf', 'knn']\n",
    "algos = np.concatenate([100*[algo] for algo in algorithms])\n",
    "\n",
    "# Usual boxplot\n",
    "import pandas as pd\n",
    "data = np.concatenate(errors)\n",
    "df = pd.DataFrame(np.concatenate((np.array(data).reshape(-1, 1), np.array(algos).reshape(-1, 1)), axis=1))\n",
    "df1 = pd.DataFrame(np.concatenate((np.array(data[100:]).reshape(-1, 1), np.array(algos[100:]).reshape(-1, 1)), axis=1))\n",
    "df.columns = ['accuracy', 'algorithm']\n",
    "df1.columns = ['accuracy', 'algorithm']\n",
    "df['accuracy'] = pd.to_numeric(df['accuracy'])\n",
    "df1['accuracy'] = pd.to_numeric(df1['accuracy'])\n",
    "\n",
    "ax = sns.violinplot(x='algorithm', y='accuracy', data=df)\n",
    "# ax.axhline(y = 0.9875, label = 'EXLine', c = 'r', alpha=0.5)\n",
    "# ax.axhline(y=0.85125, label = 'current best ta1 pipeline', c = 'k', alpha=0.5)\n",
    "plt.savefig('all_algos_LL1_overleaf.png')\n",
    "\n",
    "ax = sns.violinplot(x='algorithm', y='accuracy', data=df1)\n",
    "# ax.axhline(y = 0.9875, label = 'EXLine', c = 'r', alpha=0.5)\n",
    "# ax.axhline(y=0.85125, label = 'current best ta1 pipeline', c = 'k', alpha=0.5)\n",
    "plt.savefig('no_QDA_LL1_overleaf.png')"
   ]
  },
  {
   "cell_type": "code",
   "execution_count": 57,
   "metadata": {},
   "outputs": [
    {
     "data": {
      "image/png": "[encoded data removed]",
      "text/plain": [
       "<Figure size 432x288 with 1 Axes>"
      ]
     },
     "metadata": {},
     "output_type": "display_data"
    }
   ],
   "source": [
    "ax = sns.boxplot(x=df.columns, data=df)\n",
    " \n",
    "# Add jitter with the swarmplot function.\n",
    "# ax = sns.swarmplot(x='species', y='sepal_length', data=df, color=\"grey\")"
   ]
  },
  {
   "cell_type": "code",
   "execution_count": 90,
   "metadata": {},
   "outputs": [
    {
     "data": {
      "text/plain": [
       "numpy.ndarray"
      ]
     },
     "execution_count": 90,
     "metadata": {},
     "output_type": "execute_result"
    }
   ],
   "source": [
    "df1 = sns.load_dataset('iris')"
   ]
  },
  {
   "cell_type": "code",
   "execution_count": 16,
   "metadata": {},
   "outputs": [
    {
     "data": {
      "text/plain": [
       "array([2, 0, 0, 1, 2, 1, 2, 0, 2, 2, 0, 1, 1, 2, 1, 0, 2, 2, 1, 1, 2, 2,\n",
       "       1, 2, 0, 1, 1, 2, 1, 1, 2, 1, 2, 1, 2, 1, 1, 2, 2, 0, 1, 1, 2, 1,\n",
       "       1, 1, 1, 1, 0, 0, 2, 2, 2, 1, 2, 1, 0, 1, 2, 2, 2, 0, 2, 2, 1, 0,\n",
       "       1, 2, 1, 0, 2, 1, 2, 2, 2, 0, 2, 2, 1, 2])"
      ]
     },
     "execution_count": 16,
     "metadata": {},
     "output_type": "execute_result"
    }
   ],
   "source": [
    "true_labels[test_idx]"
   ]
  },
  {
   "cell_type": "code",
   "execution_count": 75,
   "metadata": {},
   "outputs": [
    {
     "data": {
      "text/plain": [
       "<matplotlib.collections.PathCollection at 0x7fd02794d518>"
      ]
     },
     "execution_count": 75,
     "metadata": {},
     "output_type": "execute_result"
    },
    {
     "data": {
      "image/png": "[encoded data removed]",
      "text/plain": [
       "<Figure size 432x288 with 1 Axes>"
      ]
     },
     "metadata": {
      "needs_background": "light"
     },
     "output_type": "display_data"
    }
   ],
   "source": [
    "fig, ax = plt.subplots(1,1)\n",
    "ax.scatter(X[test_idx, 0], X[test_idx, 1], c = qda_preds)"
   ]
  },
  {
   "cell_type": "code",
   "execution_count": 54,
   "metadata": {},
   "outputs": [
    {
     "data": {
      "text/plain": [
       "<matplotlib.collections.PathCollection at 0x7fd027997550>"
      ]
     },
     "execution_count": 54,
     "metadata": {},
     "output_type": "execute_result"
    },
    {
     "data": {
      "image/png": "[encoded data removed]",
      "text/plain": [
       "<Figure size 432x288 with 1 Axes>"
      ]
     },
     "metadata": {
      "needs_background": "light"
     },
     "output_type": "display_data"
    }
   ],
   "source": [
    "fig, ax = plt.subplots(1,1)\n",
    "ax.scatter(X[train_idx, 0], X[train_idx, 1], c = true_labels[train_idx])"
   ]
  },
  {
   "cell_type": "code",
   "execution_count": 71,
   "metadata": {},
   "outputs": [
    {
     "data": {
      "text/plain": [
       "array([[ 5.20875739e-02,  1.37910629e-02, -1.25109528e-02, ...,\n",
       "         1.17546535e-03,  5.95967446e-05, -7.13742760e-26],\n",
       "       [ 1.37910629e-02,  1.66694308e-01,  8.52944110e-03, ...,\n",
       "        -1.66603381e-04,  4.27604905e-05,  1.68496662e-26],\n",
       "       [-1.25109528e-02,  8.52944110e-03,  6.35593428e-02, ...,\n",
       "        -8.67626170e-04, -1.60199882e-04,  1.06231935e-25],\n",
       "       ...,\n",
       "       [ 1.17546535e-03, -1.66603381e-04, -8.67626170e-04, ...,\n",
       "         1.48475515e-04, -5.35820368e-06, -7.34991244e-27],\n",
       "       [ 5.95967446e-05,  4.27604905e-05, -1.60199882e-04, ...,\n",
       "        -5.35820368e-06,  1.02505349e-05, -4.15149747e-27],\n",
       "       [-7.13742760e-26,  1.68496662e-26,  1.06231935e-25, ...,\n",
       "        -7.34991244e-27, -4.15149747e-27,  2.52006496e-48]])"
      ]
     },
     "execution_count": 71,
     "metadata": {},
     "output_type": "execute_result"
    }
   ],
   "source": [
    "cov"
   ]
  }
 ],
 "metadata": {
  "kernelspec": {
   "display_name": "hh",
   "language": "python",
   "name": "hh"
  },
  "language_info": {
   "codemirror_mode": {
    "name": "ipython",
    "version": 3
   },
   "file_extension": ".py",
   "mimetype": "text/x-python",
   "name": "python",
   "nbconvert_exporter": "python",
   "pygments_lexer": "ipython3",
   "version": "3.6.7"
  }
 },
 "nbformat": 4,
 "nbformat_minor": 2
}
