{
 "cells": [
  {
   "cell_type": "code",
   "execution_count": 6,
   "metadata": {},
   "outputs": [
    {
     "ename": "ModuleNotFoundError",
     "evalue": "No module named 'graspy'",
     "output_type": "error",
     "traceback": [
      "\u001b[0;31m---------------------------------------------------------------------------\u001b[0m",
      "\u001b[0;31mModuleNotFoundError\u001b[0m                       Traceback (most recent call last)",
      "\u001b[0;32m<ipython-input-6-d5e751d8947b>\u001b[0m in \u001b[0;36m<module>\u001b[0;34m\u001b[0m\n\u001b[1;32m      1\u001b[0m \u001b[0;32mimport\u001b[0m \u001b[0mnumpy\u001b[0m \u001b[0;32mas\u001b[0m \u001b[0mnp\u001b[0m\u001b[0;34m\u001b[0m\u001b[0;34m\u001b[0m\u001b[0m\n\u001b[1;32m      2\u001b[0m \u001b[0;32mimport\u001b[0m \u001b[0mmatplotlib\u001b[0m\u001b[0;34m.\u001b[0m\u001b[0mpyplot\u001b[0m \u001b[0;32mas\u001b[0m \u001b[0mplt\u001b[0m\u001b[0;34m\u001b[0m\u001b[0;34m\u001b[0m\u001b[0m\n\u001b[0;32m----> 3\u001b[0;31m \u001b[0;32mimport\u001b[0m \u001b[0mgraspy\u001b[0m\u001b[0;34m\u001b[0m\u001b[0;34m\u001b[0m\u001b[0m\n\u001b[0m\u001b[1;32m      4\u001b[0m \u001b[0;32mfrom\u001b[0m \u001b[0msklearn\u001b[0m\u001b[0;34m.\u001b[0m\u001b[0mensemble\u001b[0m \u001b[0;32mimport\u001b[0m \u001b[0mRandomForestClassifier\u001b[0m \u001b[0;32mas\u001b[0m \u001b[0mRF\u001b[0m\u001b[0;34m\u001b[0m\u001b[0;34m\u001b[0m\u001b[0m\n\u001b[1;32m      5\u001b[0m \u001b[0;32mfrom\u001b[0m \u001b[0msklearn\u001b[0m\u001b[0;34m.\u001b[0m\u001b[0mneighbors\u001b[0m \u001b[0;32mimport\u001b[0m \u001b[0mKNeighborsClassifier\u001b[0m \u001b[0;32mas\u001b[0m \u001b[0mKNN\u001b[0m\u001b[0;34m\u001b[0m\u001b[0;34m\u001b[0m\u001b[0m\n",
      "\u001b[0;31mModuleNotFoundError\u001b[0m: No module named 'graspy'"
     ]
    }
   ],
   "source": [
    "import numpy as np\n",
    "import matplotlib.pyplot as plt\n",
    "import graspy\n",
    "from sklearn.ensemble import RandomForestClassifier as RF\n",
    "from sklearn.neighbors import KNeighborsClassifier as KNN\n",
    "from scipy.stats import multivariate_normal as mvn, beta, norm\n",
    "from tqdm import tqdm_notebook as tqdm\n",
    "from graspy.embed import AdjacencySpectralEmbed\n",
    "\n",
    "%matplotlib inline"
   ]
  },
  {
   "cell_type": "code",
   "execution_count": 7,
   "metadata": {},
   "outputs": [
    {
     "name": "stdout",
     "output_type": "stream",
     "text": [
      "Collecting graspy\n",
      "Collecting networkx>=2.1 (from graspy)\n",
      "Requirement already satisfied: numpy>=1.8.1 in /mnt/c/Users/hhelm/virtualenvs/hh/lib/python3.6/site-packages (from graspy) (1.16.2)\n",
      "Collecting scipy>=1.1.0 (from graspy)\n",
      "  Using cached https://files.pythonhosted.org/packages/7f/5f/c48860704092933bf1c4c1574a8de1ffd16bf4fde8bab190d747598844b2/scipy-1.2.1-cp36-cp36m-manylinux1_x86_64.whl\n",
      "Collecting scikit-learn>=0.19.1 (from graspy)\n",
      "  Using cached https://files.pythonhosted.org/packages/5e/82/c0de5839d613b82bddd088599ac0bbfbbbcbd8ca470680658352d2c435bd/scikit_learn-0.20.3-cp36-cp36m-manylinux1_x86_64.whl\n",
      "Collecting seaborn>=0.9.0 (from graspy)\n",
      "  Using cached https://files.pythonhosted.org/packages/a8/76/220ba4420459d9c4c9c9587c6ce607bf56c25b3d3d2de62056efe482dadc/seaborn-0.9.0-py3-none-any.whl\n",
      "Requirement already satisfied: decorator>=4.3.0 in /mnt/c/Users/hhelm/virtualenvs/hh/lib/python3.6/site-packages (from networkx>=2.1->graspy) (4.4.0)\n",
      "Collecting pandas>=0.15.2 (from seaborn>=0.9.0->graspy)\n",
      "  Using cached https://files.pythonhosted.org/packages/19/74/e50234bc82c553fecdbd566d8650801e3fe2d6d8c8d940638e3d8a7c5522/pandas-0.24.2-cp36-cp36m-manylinux1_x86_64.whl\n",
      "Requirement already satisfied: matplotlib>=1.4.3 in /mnt/c/Users/hhelm/virtualenvs/hh/lib/python3.6/site-packages (from seaborn>=0.9.0->graspy) (3.0.3)\n",
      "Requirement already satisfied: python-dateutil>=2.5.0 in /mnt/c/Users/hhelm/virtualenvs/hh/lib/python3.6/site-packages (from pandas>=0.15.2->seaborn>=0.9.0->graspy) (2.8.0)\n",
      "Collecting pytz>=2011k (from pandas>=0.15.2->seaborn>=0.9.0->graspy)\n",
      "  Using cached https://files.pythonhosted.org/packages/3d/73/fe30c2daaaa0713420d0382b16fbb761409f532c56bdcc514bf7b6262bb6/pytz-2019.1-py2.py3-none-any.whl\n",
      "Requirement already satisfied: kiwisolver>=1.0.1 in /mnt/c/Users/hhelm/virtualenvs/hh/lib/python3.6/site-packages (from matplotlib>=1.4.3->seaborn>=0.9.0->graspy) (1.0.1)\n",
      "Requirement already satisfied: pyparsing!=2.0.4,!=2.1.2,!=2.1.6,>=2.0.1 in /mnt/c/Users/hhelm/virtualenvs/hh/lib/python3.6/site-packages (from matplotlib>=1.4.3->seaborn>=0.9.0->graspy) (2.4.0)\n",
      "Requirement already satisfied: cycler>=0.10 in /mnt/c/Users/hhelm/virtualenvs/hh/lib/python3.6/site-packages (from matplotlib>=1.4.3->seaborn>=0.9.0->graspy) (0.10.0)\n",
      "Requirement already satisfied: six>=1.5 in /mnt/c/Users/hhelm/virtualenvs/hh/lib/python3.6/site-packages (from python-dateutil>=2.5.0->pandas>=0.15.2->seaborn>=0.9.0->graspy) (1.12.0)\n",
      "Requirement already satisfied: setuptools in /mnt/c/Users/hhelm/virtualenvs/hh/lib/python3.6/site-packages (from kiwisolver>=1.0.1->matplotlib>=1.4.3->seaborn>=0.9.0->graspy) (41.0.0)\n",
      "Installing collected packages: networkx, scipy, scikit-learn, pytz, pandas, seaborn, graspy\n",
      "Successfully installed graspy-0.0.2 networkx-2.2 pandas-0.24.2 pytz-2019.1 scikit-learn-0.20.3 scipy-1.2.1 seaborn-0.9.0\n"
     ]
    }
   ],
   "source": [
    "import sys\n",
    "!{sys.executable} -m pip install graspy"
   ]
  }
 ],
 "metadata": {
  "kernelspec": {
   "display_name": "hh",
   "language": "python",
   "name": "hh"
  },
  "language_info": {
   "codemirror_mode": {
    "name": "ipython",
    "version": 3
   },
   "file_extension": ".py",
   "mimetype": "text/x-python",
   "name": "python",
   "nbconvert_exporter": "python",
   "pygments_lexer": "ipython3",
   "version": "3.6.7"
  }
 },
 "nbformat": 4,
 "nbformat_minor": 2
}
