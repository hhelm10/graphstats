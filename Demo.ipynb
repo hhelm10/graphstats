{
 "cells": [
  {
   "cell_type": "code",
   "execution_count": 26,
   "metadata": {},
   "outputs": [
    {
     "data": {
      "text/plain": [
       "['GaussianClustering',\n",
       " 'GaussianMixture',\n",
       " 'Graph',\n",
       " 'NonParametricClustering',\n",
       " 'OutOfCoreAdjacencySpectralEmbedding',\n",
       " 'SpectralGraphClustering',\n",
       " 'TruncatedSVD',\n",
       " 'VertexNominationSeededGraphMatching',\n",
       " '__builtins__',\n",
       " '__cached__',\n",
       " '__doc__',\n",
       " '__file__',\n",
       " '__loader__',\n",
       " '__name__',\n",
       " '__package__',\n",
       " '__path__',\n",
       " '__spec__',\n",
       " 'absolute_import',\n",
       " 'adj_spectral_embedding',\n",
       " 'ase',\n",
       " 'dimselect',\n",
       " 'gclass',\n",
       " 'gclust',\n",
       " 'lap_spectral_embedding',\n",
       " 'largest_connected_component',\n",
       " 'lcc',\n",
       " 'lse',\n",
       " 'networkx',\n",
       " 'nonpar',\n",
       " 'norm',\n",
       " 'np',\n",
       " 'num_clust',\n",
       " 'numclust',\n",
       " 'omni',\n",
       " 'oocase',\n",
       " 'pass_to_ranks',\n",
       " 'profile_likelihood',\n",
       " 'ptr',\n",
       " 'rankdata',\n",
       " 'sgc',\n",
       " 'vnsgm']"
      ]
     },
     "execution_count": 26,
     "metadata": {},
     "output_type": "execute_result"
    }
   ],
   "source": [
    "from graphstats import *\n",
    "\n",
    "import numpy as np\n",
    "import networkx\n",
    "import matplotlib.pyplot as plt\n",
    "from mpl_toolkits.mplot3d import Axes3D\n",
    "\n",
    "import _pickle as pickle\n",
    "dir(graphstats)"
   ]
  },
  {
   "cell_type": "code",
   "execution_count": 2,
   "metadata": {},
   "outputs": [
    {
     "name": "stdout",
     "output_type": "stream",
     "text": [
      "All nodes: 50\n",
      "Connected nodes: 48\n"
     ]
    }
   ],
   "source": [
    "DS = pickle.load(open('datasets/DS01876.pkl', 'rb')) \n",
    "G_DS = DS['0']\n",
    "G_DS = graphstats.largest_connected_component(G_DS)\n",
    "\n",
    "G1_DS = G_DS.subgraph(np.arange(50))\n",
    "\n",
    "print(\"All nodes: \" + str(len(G1_DS)))\n",
    "\n",
    "G1_DS = graphstats.largest_connected_component(G1_DS)\n",
    "print(\"Connected nodes: \" + str(len(G1_DS)))"
   ]
  },
  {
   "cell_type": "code",
   "execution_count": 3,
   "metadata": {},
   "outputs": [
    {
     "data": {
      "text/plain": [
       "array([[0.        , 0.37103916, 0.        , ..., 0.        , 0.        ,\n",
       "        0.        ],\n",
       "       [0.37103916, 0.        , 0.        , ..., 0.        , 0.        ,\n",
       "        0.        ],\n",
       "       [0.        , 0.        , 0.        , ..., 0.        , 0.        ,\n",
       "        0.        ],\n",
       "       ...,\n",
       "       [0.        , 0.        , 0.        , ..., 0.        , 0.0584565 ,\n",
       "        0.        ],\n",
       "       [0.        , 0.        , 0.        , ..., 0.0584565 , 0.        ,\n",
       "        0.        ],\n",
       "       [0.        , 0.        , 0.        , ..., 0.        , 0.        ,\n",
       "        0.        ]])"
      ]
     },
     "execution_count": 3,
     "metadata": {},
     "output_type": "execute_result"
    }
   ],
   "source": [
    "ptrDS = graphstats.pass_to_ranks(G_DS)\n",
    "ptrDS"
   ]
  },
  {
   "cell_type": "code",
   "execution_count": 4,
   "metadata": {},
   "outputs": [
    {
     "data": {
      "text/plain": [
       "(array([[ 2.23777356e-06,  2.46852620e-07],\n",
       "        [ 8.64081171e-04,  6.27288087e-05],\n",
       "        [ 1.35011143e-04, -4.75426731e-05],\n",
       "        ...,\n",
       "        [ 1.90733504e-12, -1.60477042e-11],\n",
       "        [ 7.78150008e-16, -9.97028107e-15],\n",
       "        [ 3.95733265e-07, -3.19739011e-06]]),\n",
       " array([143.27078591,  94.08433421]))"
      ]
     },
     "execution_count": 4,
     "metadata": {},
     "output_type": "execute_result"
    }
   ],
   "source": [
    "A2 = graphstats.adj_spectral_embedding(ptrDS)\n",
    "A2"
   ]
  },
  {
   "cell_type": "code",
   "execution_count": 5,
   "metadata": {},
   "outputs": [
    {
     "data": {
      "text/plain": [
       "(array([[ 2.23777502e-06,  2.47512816e-07, -5.12320249e-06, ...,\n",
       "         -7.97445115e-05, -1.24621385e-05,  3.60085178e-05],\n",
       "        [ 8.64081282e-04,  6.27799437e-05, -1.09178534e-03, ...,\n",
       "         -8.85447133e-03, -1.32496305e-03,  3.08768422e-03],\n",
       "        [ 1.35011481e-04, -4.74884406e-05, -1.17824948e-04, ...,\n",
       "         -1.11290740e-03,  2.66449530e-03,  1.35412573e-02],\n",
       "        ...,\n",
       "        [ 1.90737437e-12, -1.60471257e-11, -3.43077434e-11, ...,\n",
       "          2.57183682e-10,  1.33985782e-10,  2.91185793e-10],\n",
       "        [ 7.78225478e-16, -9.96973944e-15, -2.53714195e-14, ...,\n",
       "          3.69951577e-13,  2.16330026e-13,  4.58341446e-13],\n",
       "        [ 3.95739832e-07, -3.19702530e-06, -5.00653364e-06, ...,\n",
       "          1.66556320e-05,  2.31608580e-05,  2.45184921e-05]]),\n",
       " array([143.27078591,  94.08433421,  79.07211094,  76.36829945,\n",
       "         54.3047676 ,  52.52949605,  48.86104599,  41.64536504,\n",
       "         37.50702579,  35.2721677 ]))"
      ]
     },
     "execution_count": 5,
     "metadata": {},
     "output_type": "execute_result"
    }
   ],
   "source": [
    "A10 = graphstats.adj_spectral_embedding(ptrDS, max_dim = 10, eig_scale = 0.5)\n",
    "A10"
   ]
  },
  {
   "cell_type": "code",
   "execution_count": 6,
   "metadata": {},
   "outputs": [
    {
     "data": {
      "text/plain": [
       "(array([[ 1.86955222e-07,  2.55175534e-08, -5.76142424e-07, ...,\n",
       "         -1.23571257e-05, -2.03486808e-06,  6.06302236e-06],\n",
       "        [ 7.21897895e-05,  6.47235402e-06, -1.22779424e-04, ...,\n",
       "         -1.37207958e-03, -2.16345295e-04,  5.19896391e-04],\n",
       "        [ 1.12795528e-05, -4.89586294e-06, -1.32502963e-05, ...,\n",
       "         -1.72454962e-04,  4.35069507e-04,  2.28004236e-03],\n",
       "        ...,\n",
       "        [ 1.59351854e-13, -1.65439266e-12, -3.85816225e-12, ...,\n",
       "          3.98529131e-11,  2.18777373e-11,  4.90291209e-11],\n",
       "        [ 6.50169546e-17, -1.02783914e-15, -2.85320581e-15, ...,\n",
       "          5.73273078e-14,  3.53232365e-14,  7.71743632e-14],\n",
       "        [ 3.30621387e-08, -3.29600160e-07, -5.63022139e-07, ...,\n",
       "          2.58093924e-06,  3.78179803e-06,  4.12836115e-06]]),\n",
       " array([143.27078591,  94.08433421,  79.07211094,  76.36829945,\n",
       "         54.3047676 ,  52.52949605,  48.86104599,  41.64536504,\n",
       "         37.50702579,  35.2721677 ]))"
      ]
     },
     "execution_count": 6,
     "metadata": {},
     "output_type": "execute_result"
    }
   ],
   "source": [
    "A10_scale0 = graphstats.adj_spectral_embedding(ptrDS, max_dim = 10, eig_scale = 0)\n",
    "A10_scale0"
   ]
  },
  {
   "cell_type": "code",
   "execution_count": 24,
   "metadata": {},
   "outputs": [
    {
     "name": "stdout",
     "output_type": "stream",
     "text": [
      "[4 7]\n"
     ]
    },
    {
     "data": {
      "text/plain": [
       "(1759, 7)"
      ]
     },
     "execution_count": 24,
     "metadata": {},
     "output_type": "execute_result"
    }
   ],
   "source": [
    "elbows = graphstats.profile_likelihood(A10[1], n_elbows = 2, threshold = 0)\n",
    "print(elbows)\n",
    "\n",
    "A10_elb2 = A10[0][:, :elbows[1]].copy()\n",
    "A10_elb2.shape"
   ]
  },
  {
   "cell_type": "code",
   "execution_count": 31,
   "metadata": {},
   "outputs": [
    {
     "data": {
      "text/plain": [
       "1759"
      ]
     },
     "execution_count": 31,
     "metadata": {},
     "output_type": "execute_result"
    }
   ],
   "source": [
    "len(A10_elb2[:,0])"
   ]
  },
  {
   "cell_type": "code",
   "execution_count": 32,
   "metadata": {},
   "outputs": [
    {
     "name": "stderr",
     "output_type": "stream",
     "text": [
      "C:\\Anaconda3\\lib\\site-packages\\matplotlib\\collections.py:877: RuntimeWarning: invalid value encountered in sqrt\n",
      "  scale = np.sqrt(self._sizes) * dpi / 72.0 * self._factor\n"
     ]
    },
    {
     "ename": "AttributeError",
     "evalue": "Unknown property projection",
     "output_type": "error",
     "traceback": [
      "\u001b[1;31m---------------------------------------------------------------------------\u001b[0m",
      "\u001b[1;31mAttributeError\u001b[0m                            Traceback (most recent call last)",
      "\u001b[1;32m<ipython-input-32-236aeb99136e>\u001b[0m in \u001b[0;36m<module>\u001b[1;34m()\u001b[0m\n\u001b[0;32m      1\u001b[0m \u001b[0mfig\u001b[0m\u001b[1;33m,\u001b[0m \u001b[0max\u001b[0m \u001b[1;33m=\u001b[0m \u001b[0mplt\u001b[0m\u001b[1;33m.\u001b[0m\u001b[0msubplots\u001b[0m\u001b[1;33m(\u001b[0m\u001b[1;36m1\u001b[0m\u001b[1;33m,\u001b[0m\u001b[1;36m1\u001b[0m\u001b[1;33m,\u001b[0m\u001b[0mfigsize\u001b[0m \u001b[1;33m=\u001b[0m \u001b[1;33m(\u001b[0m\u001b[1;36m8\u001b[0m\u001b[1;33m,\u001b[0m\u001b[1;36m6\u001b[0m\u001b[1;33m)\u001b[0m\u001b[1;33m)\u001b[0m\u001b[1;33m\u001b[0m\u001b[0m\n\u001b[1;32m----> 2\u001b[1;33m \u001b[0max\u001b[0m\u001b[1;33m.\u001b[0m\u001b[0mscatter\u001b[0m\u001b[1;33m(\u001b[0m\u001b[0mA10_elb2\u001b[0m\u001b[1;33m[\u001b[0m\u001b[1;33m:\u001b[0m\u001b[1;33m,\u001b[0m\u001b[1;36m0\u001b[0m\u001b[1;33m]\u001b[0m\u001b[1;33m,\u001b[0m \u001b[0mA10_elb2\u001b[0m\u001b[1;33m[\u001b[0m\u001b[1;33m:\u001b[0m\u001b[1;33m,\u001b[0m\u001b[1;36m1\u001b[0m\u001b[1;33m]\u001b[0m\u001b[1;33m,\u001b[0m \u001b[0mA10_elb2\u001b[0m\u001b[1;33m[\u001b[0m\u001b[1;33m:\u001b[0m\u001b[1;33m,\u001b[0m\u001b[1;36m2\u001b[0m\u001b[1;33m]\u001b[0m\u001b[1;33m,\u001b[0m \u001b[0mprojection\u001b[0m \u001b[1;33m=\u001b[0m \u001b[1;34m'3d'\u001b[0m\u001b[1;33m)\u001b[0m\u001b[1;33m\u001b[0m\u001b[0m\n\u001b[0m",
      "\u001b[1;32mC:\\Anaconda3\\lib\\site-packages\\matplotlib\\__init__.py\u001b[0m in \u001b[0;36minner\u001b[1;34m(ax, *args, **kwargs)\u001b[0m\n\u001b[0;32m   1895\u001b[0m                     warnings.warn(msg % (label_namer, func.__name__),\n\u001b[0;32m   1896\u001b[0m                                   RuntimeWarning, stacklevel=2)\n\u001b[1;32m-> 1897\u001b[1;33m             \u001b[1;32mreturn\u001b[0m \u001b[0mfunc\u001b[0m\u001b[1;33m(\u001b[0m\u001b[0max\u001b[0m\u001b[1;33m,\u001b[0m \u001b[1;33m*\u001b[0m\u001b[0margs\u001b[0m\u001b[1;33m,\u001b[0m \u001b[1;33m**\u001b[0m\u001b[0mkwargs\u001b[0m\u001b[1;33m)\u001b[0m\u001b[1;33m\u001b[0m\u001b[0m\n\u001b[0m\u001b[0;32m   1898\u001b[0m         \u001b[0mpre_doc\u001b[0m \u001b[1;33m=\u001b[0m \u001b[0minner\u001b[0m\u001b[1;33m.\u001b[0m\u001b[0m__doc__\u001b[0m\u001b[1;33m\u001b[0m\u001b[0m\n\u001b[0;32m   1899\u001b[0m         \u001b[1;32mif\u001b[0m \u001b[0mpre_doc\u001b[0m \u001b[1;32mis\u001b[0m \u001b[1;32mNone\u001b[0m\u001b[1;33m:\u001b[0m\u001b[1;33m\u001b[0m\u001b[0m\n",
      "\u001b[1;32mC:\\Anaconda3\\lib\\site-packages\\matplotlib\\axes\\_axes.py\u001b[0m in \u001b[0;36mscatter\u001b[1;34m(self, x, y, s, c, marker, cmap, norm, vmin, vmax, alpha, linewidths, verts, edgecolors, **kwargs)\u001b[0m\n\u001b[0;32m   4035\u001b[0m                 )\n\u001b[0;32m   4036\u001b[0m         \u001b[0mcollection\u001b[0m\u001b[1;33m.\u001b[0m\u001b[0mset_transform\u001b[0m\u001b[1;33m(\u001b[0m\u001b[0mmtransforms\u001b[0m\u001b[1;33m.\u001b[0m\u001b[0mIdentityTransform\u001b[0m\u001b[1;33m(\u001b[0m\u001b[1;33m)\u001b[0m\u001b[1;33m)\u001b[0m\u001b[1;33m\u001b[0m\u001b[0m\n\u001b[1;32m-> 4037\u001b[1;33m         \u001b[0mcollection\u001b[0m\u001b[1;33m.\u001b[0m\u001b[0mupdate\u001b[0m\u001b[1;33m(\u001b[0m\u001b[0mkwargs\u001b[0m\u001b[1;33m)\u001b[0m\u001b[1;33m\u001b[0m\u001b[0m\n\u001b[0m\u001b[0;32m   4038\u001b[0m \u001b[1;33m\u001b[0m\u001b[0m\n\u001b[0;32m   4039\u001b[0m         \u001b[1;32mif\u001b[0m \u001b[0mcolors\u001b[0m \u001b[1;32mis\u001b[0m \u001b[1;32mNone\u001b[0m\u001b[1;33m:\u001b[0m\u001b[1;33m\u001b[0m\u001b[0m\n",
      "\u001b[1;32mC:\\Anaconda3\\lib\\site-packages\\matplotlib\\artist.py\u001b[0m in \u001b[0;36mupdate\u001b[1;34m(self, props)\u001b[0m\n\u001b[0;32m    883\u001b[0m         \u001b[1;32mtry\u001b[0m\u001b[1;33m:\u001b[0m\u001b[1;33m\u001b[0m\u001b[0m\n\u001b[0;32m    884\u001b[0m             ret = [_update_property(self, k, v)\n\u001b[1;32m--> 885\u001b[1;33m                    for k, v in props.items()]\n\u001b[0m\u001b[0;32m    886\u001b[0m         \u001b[1;32mfinally\u001b[0m\u001b[1;33m:\u001b[0m\u001b[1;33m\u001b[0m\u001b[0m\n\u001b[0;32m    887\u001b[0m             \u001b[0mself\u001b[0m\u001b[1;33m.\u001b[0m\u001b[0meventson\u001b[0m \u001b[1;33m=\u001b[0m \u001b[0mstore\u001b[0m\u001b[1;33m\u001b[0m\u001b[0m\n",
      "\u001b[1;32mC:\\Anaconda3\\lib\\site-packages\\matplotlib\\artist.py\u001b[0m in \u001b[0;36m<listcomp>\u001b[1;34m(.0)\u001b[0m\n\u001b[0;32m    883\u001b[0m         \u001b[1;32mtry\u001b[0m\u001b[1;33m:\u001b[0m\u001b[1;33m\u001b[0m\u001b[0m\n\u001b[0;32m    884\u001b[0m             ret = [_update_property(self, k, v)\n\u001b[1;32m--> 885\u001b[1;33m                    for k, v in props.items()]\n\u001b[0m\u001b[0;32m    886\u001b[0m         \u001b[1;32mfinally\u001b[0m\u001b[1;33m:\u001b[0m\u001b[1;33m\u001b[0m\u001b[0m\n\u001b[0;32m    887\u001b[0m             \u001b[0mself\u001b[0m\u001b[1;33m.\u001b[0m\u001b[0meventson\u001b[0m \u001b[1;33m=\u001b[0m \u001b[0mstore\u001b[0m\u001b[1;33m\u001b[0m\u001b[0m\n",
      "\u001b[1;32mC:\\Anaconda3\\lib\\site-packages\\matplotlib\\artist.py\u001b[0m in \u001b[0;36m_update_property\u001b[1;34m(self, k, v)\u001b[0m\n\u001b[0;32m    876\u001b[0m                 \u001b[0mfunc\u001b[0m \u001b[1;33m=\u001b[0m \u001b[0mgetattr\u001b[0m\u001b[1;33m(\u001b[0m\u001b[0mself\u001b[0m\u001b[1;33m,\u001b[0m \u001b[1;34m'set_'\u001b[0m \u001b[1;33m+\u001b[0m \u001b[0mk\u001b[0m\u001b[1;33m,\u001b[0m \u001b[1;32mNone\u001b[0m\u001b[1;33m)\u001b[0m\u001b[1;33m\u001b[0m\u001b[0m\n\u001b[0;32m    877\u001b[0m                 \u001b[1;32mif\u001b[0m \u001b[0mfunc\u001b[0m \u001b[1;32mis\u001b[0m \u001b[1;32mNone\u001b[0m \u001b[1;32mor\u001b[0m \u001b[1;32mnot\u001b[0m \u001b[0msix\u001b[0m\u001b[1;33m.\u001b[0m\u001b[0mcallable\u001b[0m\u001b[1;33m(\u001b[0m\u001b[0mfunc\u001b[0m\u001b[1;33m)\u001b[0m\u001b[1;33m:\u001b[0m\u001b[1;33m\u001b[0m\u001b[0m\n\u001b[1;32m--> 878\u001b[1;33m                     \u001b[1;32mraise\u001b[0m \u001b[0mAttributeError\u001b[0m\u001b[1;33m(\u001b[0m\u001b[1;34m'Unknown property %s'\u001b[0m \u001b[1;33m%\u001b[0m \u001b[0mk\u001b[0m\u001b[1;33m)\u001b[0m\u001b[1;33m\u001b[0m\u001b[0m\n\u001b[0m\u001b[0;32m    879\u001b[0m                 \u001b[1;32mreturn\u001b[0m \u001b[0mfunc\u001b[0m\u001b[1;33m(\u001b[0m\u001b[0mv\u001b[0m\u001b[1;33m)\u001b[0m\u001b[1;33m\u001b[0m\u001b[0m\n\u001b[0;32m    880\u001b[0m \u001b[1;33m\u001b[0m\u001b[0m\n",
      "\u001b[1;31mAttributeError\u001b[0m: Unknown property projection"
     ]
    },
    {
     "data": {
      "image/png": "[encoded data removed]",
      "text/plain": [
       "<matplotlib.figure.Figure at 0x245e2233e80>"
      ]
     },
     "metadata": {},
     "output_type": "display_data"
    }
   ],
   "source": [
    "fig, ax = plt.subplots(1,1,figsize = (8,6))\n",
    "ax.scatter(A10_elb2[:,0], A10_elb2[:,1], A10_elb2[:,2], projection = '3d')"
   ]
  },
  {
   "cell_type": "code",
   "execution_count": null,
   "metadata": {
    "collapsed": true
   },
   "outputs": [],
   "source": []
  }
 ],
 "metadata": {
  "kernelspec": {
   "display_name": "Python 3",
   "language": "python",
   "name": "python3"
  },
  "language_info": {
   "codemirror_mode": {
    "name": "ipython",
    "version": 3
   },
   "file_extension": ".py",
   "mimetype": "text/x-python",
   "name": "python",
   "nbconvert_exporter": "python",
   "pygments_lexer": "ipython3",
   "version": "3.6.1"
  }
 },
 "nbformat": 4,
 "nbformat_minor": 2
}
