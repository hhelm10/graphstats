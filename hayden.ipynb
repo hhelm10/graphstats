{
 "cells": [
  {
   "cell_type": "code",
   "execution_count": 109,
   "metadata": {},
   "outputs": [
    {
     "name": "stdout",
     "output_type": "stream",
     "text": [
      "Populating the interactive namespace from numpy and matplotlib\n"
     ]
    },
    {
     "name": "stderr",
     "output_type": "stream",
     "text": [
      "C:\\Anaconda3\\lib\\site-packages\\IPython\\core\\magics\\pylab.py:161: UserWarning: pylab import has clobbered these variables: ['e', 'test']\n",
      "`%matplotlib` prevents importing * from pylab and numpy\n",
      "  \"\\n`%matplotlib` prevents importing * from pylab and numpy\"\n"
     ]
    }
   ],
   "source": [
    "%pylab inline\n",
    "from itertools import permutations, combinations_with_replacement"
   ]
  },
  {
   "cell_type": "code",
   "execution_count": 110,
   "metadata": {
    "collapsed": true
   },
   "outputs": [],
   "source": [
    "def choose(n, k):\n",
    "    num = math.factorial(n)\n",
    "    den = math.factorial(k)*math.factorial(n - k)\n",
    "    return num/den"
   ]
  },
  {
   "cell_type": "code",
   "execution_count": 111,
   "metadata": {},
   "outputs": [],
   "source": [
    "L_max = 0\n",
    "m = 5\n",
    "n = 8\n",
    "#n_k = [round((m + n)*0.75)]\n",
    "\n",
    "for p in permutations(arange(m, n + m), n):\n",
    "    V = [p[int(sum(n_k[:i])):int(sum(n_k[:i + 1]))] for i in range(K)]"
   ]
  },
  {
   "cell_type": "code",
   "execution_count": 112,
   "metadata": {},
   "outputs": [
    {
     "data": {
      "text/plain": [
       "[(12, 11), (10, 9), (8, 7), (6, 5)]"
      ]
     },
     "execution_count": 112,
     "metadata": {},
     "output_type": "execute_result"
    }
   ],
   "source": [
    "V"
   ]
  },
  {
   "cell_type": "code",
   "execution_count": 113,
   "metadata": {},
   "outputs": [],
   "source": [
    "def gen_pi(K = 4, v = 20, acorn = 1234):\n",
    "    np.random.seed(1234)\n",
    "    #Taken from Bijan\n",
    "    \n",
    "    while True:\n",
    "        pi_0 = np.random.uniform(size=K) # Generate K Uniform(0,1) random variables\n",
    "        pisum = np.sum(pi_0) # Calculate the sum of the K generated Uniform(0,1) random variables\n",
    "        pi = [i/pisum for i in pi_0] # Normalize so that sum(pi) = 1\n",
    "        Nv = [int(round(i*v)) for i in pi] # Round so that each block has an integer-valued amount of vertices\n",
    "        if not 0 in Nv and np.sum(Nv)==v: # Make sure no block has 0 vertices and the sum of all vertices is correct\n",
    "            break\n",
    "    return pi, Nv # returns the vertex assignment distribution and the number of vertices in each block"
   ]
  },
  {
   "cell_type": "code",
   "execution_count": 114,
   "metadata": {},
   "outputs": [],
   "source": [
    "def gen_Lambda(K, acorn=1234):\n",
    "    np.random.seed(acorn)\n",
    "    Lambda = zeros(shape = (K, K)) # K x K matrix to store adjacency probabilities\n",
    "    for i in range(K): # for each block\n",
    "        for j in range(i, K): # for each combination (with replacement)\n",
    "            Lambda[i, j] = np.random.uniform() # generate a Uniform(0,1) random variable\n",
    "            Lambda[j, i] = Lambda[i, j] # Lambda is symmetric\n",
    "                   \n",
    "    return Lambda # returns a K x K, symmetric matrix where Lambda[i,j] in (0, 1)"
   ]
  },
  {
   "cell_type": "code",
   "execution_count": 115,
   "metadata": {},
   "outputs": [],
   "source": [
    "def adj_matrix(n, pi, Lambda, acorn = 1234):\n",
    "    np.random.seed(acorn)\n",
    "    n = int(n) # Just in case!\n",
    "    A = np.zeros(shape = (n, n)) # n x n adjcacency matrix\n",
    "    K = len(pi) # extract the number of blocks in the SBM\n",
    "    \n",
    "    i = 0 # start at block indexed with 0\n",
    "    while i < K: # while the block number is less than the total number of blocks\n",
    "        for k in range(int(round(n*(sum(pi[:i])))), int(round(n*(sum(pi[:i + 1]))))): # for all vertices in block i\n",
    "            c = i # start at block i\n",
    "            while c < K: # while the block number is less than the total number of blocks\n",
    "                for j in range(int(round(n*(sum(pi[:c])))), int(round(n*(sum(pi[:c + 1]))))): # for all vertices in block c\n",
    "                    A[k, j] = np.random.binomial(1, Lambda[i, c]) # generates and assigns an edge based on block membership\n",
    "                    A[j, k] = A[k, j] # A is symmetric\n",
    "                c += 1\n",
    "            A[k,k] = 0 # A is hollow\n",
    "        i += 1\n",
    "        \n",
    "    return A # returns an n x n, symmetric and hollow matrix where A[i,j] in {0, 1}"
   ]
  },
  {
   "cell_type": "code",
   "execution_count": null,
   "metadata": {
    "collapsed": true
   },
   "outputs": [],
   "source": [
    "def gen_seeds(Nv, seed_ratio, acorn = 1234):\n",
    "    np.random.seed(acorn)\n",
    "    \n",
    "    K = len(Nv)\n",
    "    \n",
    "    num_seeds = [int(round(seed_ratio*Nv)) for i in range(K)]\n",
    "    seeds = [[] for i in m]\n",
    "    for i in range(K):\n",
    "        for j in range(num_seeds[i]):\n",
    "            index = np.random.randint(j)\n",
    "            "
   ]
  },
  {
   "cell_type": "code",
   "execution_count": 93,
   "metadata": {},
   "outputs": [
    {
     "data": {
      "text/plain": [
       "(array([[0.5507979 , 0.70814782, 0.29090474, 0.51082761],\n",
       "        [0.70814782, 0.89294695, 0.89629309, 0.12558531],\n",
       "        [0.29090474, 0.89629309, 0.20724288, 0.0514672 ],\n",
       "        [0.51082761, 0.12558531, 0.0514672 , 0.44080984]]),\n",
       " array([[0., 0., 1., 1., 0., 0., 0., 0., 0., 1., 1., 1.],\n",
       "        [0., 0., 0., 1., 1., 1., 0., 0., 0., 0., 1., 1.],\n",
       "        [1., 0., 0., 1., 1., 0., 1., 0., 1., 0., 1., 1.],\n",
       "        [1., 1., 1., 0., 1., 1., 1., 1., 1., 0., 0., 0.],\n",
       "        [0., 1., 1., 1., 0., 1., 1., 1., 1., 0., 0., 0.],\n",
       "        [0., 1., 0., 1., 1., 0., 1., 1., 1., 0., 0., 0.],\n",
       "        [0., 0., 1., 1., 1., 1., 0., 0., 0., 0., 0., 1.],\n",
       "        [0., 0., 0., 1., 1., 1., 0., 0., 0., 0., 0., 0.],\n",
       "        [0., 0., 1., 1., 1., 1., 0., 0., 0., 0., 0., 0.],\n",
       "        [1., 0., 0., 0., 0., 0., 0., 0., 0., 0., 1., 0.],\n",
       "        [1., 1., 1., 0., 0., 0., 0., 0., 0., 1., 0., 1.],\n",
       "        [1., 1., 1., 0., 0., 0., 1., 0., 0., 0., 1., 0.]]))"
      ]
     },
     "execution_count": 93,
     "metadata": {},
     "output_type": "execute_result"
    }
   ],
   "source": [
    "n = 12\n",
    "pi = [0.25, 0.25, 0.25, 0.25]\n",
    "L = gen_Lambda(4, acorn = 3)\n",
    "               \n",
    "A = adj_matrix(n, pi, L, acorn = 3)\n",
    "L, A"
   ]
  },
  {
   "cell_type": "code",
   "execution_count": 116,
   "metadata": {
    "collapsed": true
   },
   "outputs": [],
   "source": [
    "def e(A, V):\n",
    "    K = len(V)\n",
    "    e = np.zeros(shape = (choose(K, 2) + K, choose(K, 2) + K)) # create an ((K choose 2) + K) x ((K choose 2) + K)\n",
    "        # to store e[k,l]\n",
    "        \n",
    "    e_test = np.zeros(shape = (choose(len(V), 2) + K, choose(len(V), 2) + K))\n",
    "            \n",
    "    for i in range(K):\n",
    "        for j in range(i, K):\n",
    "            for v in range(V[i]):\n",
    "                for s in range(V[j]):\n",
    "                    e[i,j] += A[v, s] \n",
    "                    \n",
    "    for p in combinations_with_replacement(K, 2):\n",
    "        for v in range(V[i]):\n",
    "                for s in range(V[j]):\n",
    "                    e_test[i,j] += A[v, s]\n",
    "    return e, e_test"
   ]
  },
  {
   "cell_type": "code",
   "execution_count": null,
   "metadata": {
    "collapsed": true
   },
   "outputs": [],
   "source": [
    "\n",
    "\n",
    "\n",
    "\n",
    "def likelihood_n(V, e, c, p):\n",
    "    "
   ]
  }
 ],
 "metadata": {
  "kernelspec": {
   "display_name": "Python 3",
   "language": "python",
   "name": "python3"
  },
  "language_info": {
   "codemirror_mode": {
    "name": "ipython",
    "version": 3
   },
   "file_extension": ".py",
   "mimetype": "text/x-python",
   "name": "python",
   "nbconvert_exporter": "python",
   "pygments_lexer": "ipython3",
   "version": "3.6.1"
  }
 },
 "nbformat": 4,
 "nbformat_minor": 2
}
