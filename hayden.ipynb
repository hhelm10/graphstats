{
 "cells": [
  {
   "cell_type": "code",
   "execution_count": 1,
   "metadata": {},
   "outputs": [
    {
     "name": "stdout",
     "output_type": "stream",
     "text": [
      "Populating the interactive namespace from numpy and matplotlib\n"
     ]
    }
   ],
   "source": [
    "%pylab inline\n",
    "from itertools import permutations, combinations_with_replacement"
   ]
  },
  {
   "cell_type": "code",
   "execution_count": 2,
   "metadata": {
    "collapsed": true
   },
   "outputs": [],
   "source": [
    "def choose(n, k):\n",
    "    if n < k:\n",
    "        return 0\n",
    "    \n",
    "    else:\n",
    "        num = math.factorial(n)\n",
    "        den = math.factorial(k)*math.factorial(n - k)\n",
    "    return int(num/den)"
   ]
  },
  {
   "cell_type": "code",
   "execution_count": 3,
   "metadata": {
    "collapsed": true
   },
   "outputs": [],
   "source": [
    "def gen_pi(K = 4, v = 20, acorn = 1234):\n",
    "    np.random.seed(acorn)\n",
    "    #Taken from Bijan\n",
    "    \n",
    "    while True:\n",
    "        pi_0 = np.random.uniform(size=K) # Generate K Uniform(0,1) random variables\n",
    "        pisum = np.sum(pi_0) # Calculate the sum of the K generated Uniform(0,1) random variables\n",
    "        pi = [i/pisum for i in pi_0] # Normalize so that sum(pi) = 1\n",
    "        Nv = [int(round(i*v)) for i in pi] # Round so that each block has an integer-valued amount of vertices\n",
    "        if not 0 in Nv and np.sum(Nv)==v: # Make sure no block has 0 vertices and the sum of all vertices is correct\n",
    "            break\n",
    "    return pi, Nv # returns the vertex assignment distribution and the number of vertices in each block"
   ]
  },
  {
   "cell_type": "code",
   "execution_count": 4,
   "metadata": {
    "collapsed": true
   },
   "outputs": [],
   "source": [
    "def gen_Lambda(K, acorn=1234, ones_ = False):\n",
    "    if ones_ == True:\n",
    "        return np.ones(shape = (K, K))\n",
    "    \n",
    "    np.random.seed(acorn)\n",
    "    Lambda = zeros(shape = (K, K)) # K x K matrix to store adjacency probabilities\n",
    "    for i in range(K): # for each block\n",
    "        for j in range(i, K): # for each combination (with replacement)\n",
    "            Lambda[i, j] = np.random.uniform() # generate a Uniform(0,1) random variable\n",
    "            Lambda[j, i] = Lambda[i, j] # Lambda is symmetric\n",
    "                   \n",
    "    return Lambda # returns a K x K, symmetric matrix where Lambda[i,j] in (0, 1)"
   ]
  },
  {
   "cell_type": "code",
   "execution_count": 5,
   "metadata": {
    "collapsed": true
   },
   "outputs": [],
   "source": [
    "def adj_matrix(n, pi, Lambda, acorn = 1234):\n",
    "    np.random.seed(acorn)\n",
    "    n = int(n) # Just in case!\n",
    "    A = np.zeros(shape = (n, n)) # n x n adjcacency matrix\n",
    "    K = len(pi) # extract the number of blocks in the SBM\n",
    "    \n",
    "    i = 0 # start at block indexed with 0\n",
    "    while i < K: # while the block number is less than the total number of blocks\n",
    "        for k in range(int(round(n*(sum(pi[:i])))), int(round(n*(sum(pi[:i + 1]))))): # for all vertices in block i\n",
    "            c = i # start at block i\n",
    "            while c < K: # while the block number is less than the total number of blocks\n",
    "                for j in range(int(round(n*(sum(pi[:c])))), int(round(n*(sum(pi[:c + 1]))))): # for all vertices in block c\n",
    "                    A[k, j] = np.random.binomial(1, Lambda[i, c]) # generates and assigns an edge based on block membership\n",
    "                    A[j, k] = A[k, j] # A is symmetric\n",
    "                c += 1\n",
    "            A[k,k] = 0 # A is hollow\n",
    "        i += 1\n",
    "        \n",
    "    return A # returns an n x n, symmetric and hollow matrix where A[i,j] in {0, 1}"
   ]
  },
  {
   "cell_type": "code",
   "execution_count": 6,
   "metadata": {
    "collapsed": true
   },
   "outputs": [],
   "source": [
    "def gen_seeds(Nv, seed_ratio, acorn = 1234):\n",
    "    np.random.seed(acorn)\n",
    "    \n",
    "    K = len(Nv)\n",
    "    \n",
    "    num_seeds = [int(round(seed_ratio*Nv)) for i in range(K)]\n",
    "    seeds = [[] for i in m]\n",
    "    for i in range(K):\n",
    "        for j in range(num_seeds[i]):\n",
    "            index = np.random.randint(j)"
   ]
  },
  {
   "cell_type": "code",
   "execution_count": 7,
   "metadata": {
    "collapsed": true
   },
   "outputs": [],
   "source": [
    "def gen_e(A, perm, seeds):\n",
    "    K = len(perm)\n",
    "    e = np.zeros(shape = (K, K)) # create an ((K choose 2) + K) x ((K choose 2) + K)\n",
    "        # to store e[k,l]\n",
    "    \n",
    "    #V = seeds[0] + perm[0]\n",
    "    V = [seeds[i] + perm[i] for i in range(K)]\n",
    "    #print(V)\n",
    "        \n",
    "    #e_test = np.zeros(shape = (choose(len(V), 2) + K, choose(len(V), 2) + K))\n",
    "    \n",
    "    for i in range(K):\n",
    "        for j in range(i + 1, K):\n",
    "            #print(V)\n",
    "            for v in V[i]:\n",
    "                for s in V[j]:\n",
    "                    e[i,j] += A[v, s]\n",
    "    \n",
    "    for i in range(K):\n",
    "        for j in range(len(V[i])):\n",
    "            for k in range(j + 1, len(V[i])):\n",
    "                e[i, i] += A[j, k]\n",
    "        \n",
    "    return e #, e_test"
   ]
  },
  {
   "cell_type": "code",
   "execution_count": 8,
   "metadata": {
    "collapsed": true
   },
   "outputs": [],
   "source": [
    "def gen_c(Nv, e):\n",
    "    K = len(Nv) # number of blocks\n",
    "    c = np.zeros(shape = (K, K)) # create an ((K choose 2) + K) x ((K choose 2) + K)\n",
    "    #print(Nv)\n",
    "    \n",
    "    for i in range(K): # for each block..\n",
    "        for j in range(i, K): # for every other block..\n",
    "            if i == j: # diagonal entries\n",
    "                c[i,j] = choose(Nv[i], 2) - e[i,i] # Max possible edges minus realized edges\n",
    "            else:\n",
    "                c[i,j] = (Nv[i] * Nv[j]) - e[i,j] # Max possible edges minus realized edges\n",
    "            \n",
    "    return c"
   ]
  },
  {
   "cell_type": "code",
   "execution_count": 40,
   "metadata": {
    "collapsed": true
   },
   "outputs": [],
   "source": [
    "def gen_likelihood(V, L, e, c):\n",
    "    prod = 1\n",
    "    for i in range(K):\n",
    "        for j in range(i, K):\n",
    "            prod = prod * (L[i,j]**e[i,j] * (1 - L[i,j])**c[i,j])\n",
    "            \n",
    "    return prod"
   ]
  },
  {
   "cell_type": "code",
   "execution_count": 81,
   "metadata": {},
   "outputs": [],
   "source": [
    "def gen_nomination_list(likelihoods, unlabeled):\n",
    "    #print(likelihoods)\n",
    "    nums = likelihoods[:-1]\n",
    "    nums = np.reshape(nums, (len(nums), ))\n",
    "    #print(nums)\n",
    "    nom_list =[]\n",
    "    i = 0\n",
    "    while i < len(likelihoods[:-1]):\n",
    "        #print(nums)\n",
    "        #print('\\n')\n",
    "        if len(nums) == 1:\n",
    "            nom_list.append(unlabeled[argmin(nums)])\n",
    "        else:\n",
    "            argmax_ = np.argmax(nums)\n",
    "            nom_list.append(unlabeled[argmax_])\n",
    "            nums = delete(nums, argmax_)\n",
    "            unlabeled = delete(unlabeled, argmax_)\n",
    "            \n",
    "        i += 1\n",
    "        \n",
    "    return nom_list"
   ]
  },
  {
   "cell_type": "code",
   "execution_count": 79,
   "metadata": {},
   "outputs": [
    {
     "name": "stdout",
     "output_type": "stream",
     "text": [
      "[[0.5507979  0.70814782 0.29090474 0.51082761]\n",
      " [0.70814782 0.89294695 0.89629309 0.12558531]\n",
      " [0.29090474 0.89629309 0.20724288 0.0514672 ]\n",
      " [0.51082761 0.12558531 0.0514672  0.44080984]]\n"
     ]
    }
   ],
   "source": [
    "K = 3 # number of blocks \n",
    "v = 11 # number of vertices\n",
    "v_list = list(np.arange(v))\n",
    "labeled_ratio = 0.25 # ratio of labeled vertices\n",
    "m = int(round(labeled_ratio*v)) # number of labeled vertices\n",
    "n = int(v - m) # number of unlabeled vertices\n",
    "\n",
    "pi, Nv = gen_pi(K, v, acorn = 123) # generate vertex distribution, total number of vertices in each block\n",
    "mv = [int(round(labeled_ratio*Nv[i])) for i in range(K)] # generate the number of labeled vertices in each block\n",
    "seeds = [[] for i in range(K)] # generate a list to store seed indices\n",
    "\n",
    "nv = [int(round((1 - labeled_ratio)*Nv[i])) for i in range(K)] # generate the number of unlabeled vertices in each block\n",
    "L = gen_Lambda(4, acorn = 3, ones_ = False) # generate adjacency probability matrix\n",
    "print(L)"
   ]
  },
  {
   "cell_type": "code",
   "execution_count": null,
   "metadata": {
    "collapsed": true
   },
   "outputs": [],
   "source": [
    "A = adj_matrix(v, pi, L, acorn = 100) # generate adjacency matrix\n",
    "print(A)"
   ]
  },
  {
   "cell_type": "code",
   "execution_count": 51,
   "metadata": {},
   "outputs": [
    {
     "name": "stdout",
     "output_type": "stream",
     "text": [
      "[[0. 1. 0. 1. 1. 1. 1. 0. 1. 0. 1.]\n",
      " [1. 0. 1. 1. 1. 1. 1. 0. 1. 0. 1.]\n",
      " [0. 1. 0. 0. 0. 1. 0. 1. 1. 0. 0.]\n",
      " [1. 1. 0. 0. 1. 1. 1. 0. 1. 0. 0.]\n",
      " [1. 1. 0. 1. 0. 1. 0. 0. 1. 0. 0.]\n",
      " [1. 1. 1. 1. 1. 0. 1. 1. 1. 1. 1.]\n",
      " [1. 1. 0. 1. 0. 1. 0. 1. 1. 1. 1.]\n",
      " [0. 0. 1. 0. 0. 1. 1. 0. 1. 0. 1.]\n",
      " [1. 1. 1. 1. 1. 1. 1. 1. 0. 1. 1.]\n",
      " [0. 0. 0. 0. 0. 1. 1. 0. 1. 0. 1.]\n",
      " [1. 1. 0. 0. 0. 1. 1. 1. 1. 1. 0.]]\n"
     ]
    }
   ],
   "source": [
    "\"\"\" Use when permutation matrix has identity in top left \"\"\"\n",
    "#count = 0 # first seed is indexed at 0\n",
    "#for i in range(K): # for all blocks.. \n",
    "#    for k in range(mv[i]): # for the number of seeds in each block..\n",
    "#        seeds[i].append(count) # append the count to the list of seeds\n",
    "#        count += 1 # update \n",
    "        \n",
    "\"\"\" Use when adjacency matrix is not permuted \"\"\"\n",
    "for i in range(K): # for all blocks.. \n",
    "    for k in range(mv[i]): # for the number of seeds in each block..\n",
    "        seeds[i].append(int(i + k + sum(Nv[:i]))) # append the count to the list of seeds\n",
    "\n",
    "all_seeds = []\n",
    "for i in range(K):\n",
    "    for j in range(len(seeds[i])):\n",
    "        all_seeds.append(seeds[i][j])\n",
    "\n",
    "unlabeled = [item for item in v_list if item not in all_seeds]"
   ]
  },
  {
   "cell_type": "code",
   "execution_count": 87,
   "metadata": {},
   "outputs": [
    {
     "name": "stdout",
     "output_type": "stream",
     "text": [
      "[9.24623210e-17 6.80463949e-17 9.28110359e-17 1.56905700e-18\n",
      " 3.05088931e-17 1.56905700e-18 5.40499040e-17 5.40499040e-17\n",
      " 1.97533283e-16]\n"
     ]
    }
   ],
   "source": [
    "block_of_interest_index = 2\n",
    "likelihoods = np.zeros(len(unlabeled) + 1) # +1 to store denominator \n",
    "\n",
    "for p in permutations(unlabeled, n): # find maximally likely permutation\n",
    "    V = [list(p[int(sum(nv[:i])):int(sum(nv[:i + 1]))]) for i in range(K)]\n",
    "    e = gen_e(A, V, seeds)\n",
    "    c = gen_c(Nv, e)\n",
    "    likeli = gen_likelihood(V, L, e, c)\n",
    "    likelihoods[-1] += likeli # update denominator\n",
    "    for i in V[block_of_interest_index]: # update vertices that were in the block of interest\n",
    "        arg = unlabeled.index(i) # find the vertex's position in the likelihood array \n",
    "        likelihoods[arg] += likeli # update the correct vertex's likelihood\n",
    "print(likelihoods)"
   ]
  },
  {
   "cell_type": "code",
   "execution_count": 88,
   "metadata": {},
   "outputs": [
    {
     "name": "stdout",
     "output_type": "stream",
     "text": [
      "[4, 2, 3, 9, 10, 6, 5, 8]\n"
     ]
    }
   ],
   "source": [
    "nom_list = gen_nomination_list(likelihoods, unlabeled)\n",
    "print(nom_list)"
   ]
  }
 ],
 "metadata": {
  "kernelspec": {
   "display_name": "Python 3",
   "language": "python",
   "name": "python3"
  },
  "language_info": {
   "codemirror_mode": {
    "name": "ipython",
    "version": 3
   },
   "file_extension": ".py",
   "mimetype": "text/x-python",
   "name": "python",
   "nbconvert_exporter": "python",
   "pygments_lexer": "ipython3",
   "version": "3.6.1"
  },
  "toc": {
   "nav_menu": {},
   "number_sections": true,
   "sideBar": true,
   "skip_h1_title": false,
   "toc_cell": false,
   "toc_position": {},
   "toc_section_display": "block",
   "toc_window_display": false
  }
 },
 "nbformat": 4,
 "nbformat_minor": 2
}
