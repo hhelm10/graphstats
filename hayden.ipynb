{
 "cells": [
  {
   "cell_type": "code",
   "execution_count": 1,
   "metadata": {},
   "outputs": [
    {
     "name": "stdout",
     "output_type": "stream",
     "text": [
      "Populating the interactive namespace from numpy and matplotlib\n"
     ]
    }
   ],
   "source": [
    "%pylab inline\n",
    "from itertools import permutations, combinations_with_replacement"
   ]
  },
  {
   "cell_type": "code",
   "execution_count": 87,
   "metadata": {
    "collapsed": true
   },
   "outputs": [],
   "source": [
    "def choose(n, k):\n",
    "    if n < k:\n",
    "        return 0\n",
    "    \n",
    "    else:\n",
    "        num = math.factorial(n)\n",
    "        den = math.factorial(k)*math.factorial(n - k)\n",
    "    return int(num/den)"
   ]
  },
  {
   "cell_type": "code",
   "execution_count": 77,
   "metadata": {
    "collapsed": true
   },
   "outputs": [],
   "source": [
    "def gen_pi(K = 4, v = 20, acorn = 1234):\n",
    "    np.random.seed(acorn)\n",
    "    #Taken from Bijan\n",
    "    \n",
    "    while True:\n",
    "        pi_0 = np.random.uniform(size=K) # Generate K Uniform(0,1) random variables\n",
    "        pisum = np.sum(pi_0) # Calculate the sum of the K generated Uniform(0,1) random variables\n",
    "        pi = [i/pisum for i in pi_0] # Normalize so that sum(pi) = 1\n",
    "        Nv = [int(round(i*v)) for i in pi] # Round so that each block has an integer-valued amount of vertices\n",
    "        if not 0 in Nv and np.sum(Nv)==v: # Make sure no block has 0 vertices and the sum of all vertices is correct\n",
    "            break\n",
    "    return pi, Nv # returns the vertex assignment distribution and the number of vertices in each block"
   ]
  },
  {
   "cell_type": "code",
   "execution_count": 17,
   "metadata": {
    "collapsed": true
   },
   "outputs": [],
   "source": [
    "def gen_Lambda(K, acorn=1234, ones_ = False):\n",
    "    if ones_ == True:\n",
    "        return np.ones(shape = (K, K))\n",
    "    \n",
    "    np.random.seed(acorn)\n",
    "    Lambda = zeros(shape = (K, K)) # K x K matrix to store adjacency probabilities\n",
    "    for i in range(K): # for each block\n",
    "        for j in range(i, K): # for each combination (with replacement)\n",
    "            Lambda[i, j] = np.random.uniform() # generate a Uniform(0,1) random variable\n",
    "            Lambda[j, i] = Lambda[i, j] # Lambda is symmetric\n",
    "                   \n",
    "    return Lambda # returns a K x K, symmetric matrix where Lambda[i,j] in (0, 1)"
   ]
  },
  {
   "cell_type": "code",
   "execution_count": 18,
   "metadata": {
    "collapsed": true
   },
   "outputs": [],
   "source": [
    "def adj_matrix(n, pi, Lambda, acorn = 1234):\n",
    "    np.random.seed(acorn)\n",
    "    n = int(n) # Just in case!\n",
    "    A = np.zeros(shape = (n, n)) # n x n adjcacency matrix\n",
    "    K = len(pi) # extract the number of blocks in the SBM\n",
    "    \n",
    "    i = 0 # start at block indexed with 0\n",
    "    while i < K: # while the block number is less than the total number of blocks\n",
    "        for k in range(int(round(n*(sum(pi[:i])))), int(round(n*(sum(pi[:i + 1]))))): # for all vertices in block i\n",
    "            c = i # start at block i\n",
    "            while c < K: # while the block number is less than the total number of blocks\n",
    "                for j in range(int(round(n*(sum(pi[:c])))), int(round(n*(sum(pi[:c + 1]))))): # for all vertices in block c\n",
    "                    A[k, j] = np.random.binomial(1, Lambda[i, c]) # generates and assigns an edge based on block membership\n",
    "                    A[j, k] = A[k, j] # A is symmetric\n",
    "                c += 1\n",
    "            A[k,k] = 0 # A is hollow\n",
    "        i += 1\n",
    "        \n",
    "    return A # returns an n x n, symmetric and hollow matrix where A[i,j] in {0, 1}"
   ]
  },
  {
   "cell_type": "code",
   "execution_count": 19,
   "metadata": {
    "collapsed": true
   },
   "outputs": [],
   "source": [
    "def gen_seeds(Nv, seed_ratio, acorn = 1234):\n",
    "    np.random.seed(acorn)\n",
    "    \n",
    "    K = len(Nv)\n",
    "    \n",
    "    num_seeds = [int(round(seed_ratio*Nv)) for i in range(K)]\n",
    "    seeds = [[] for i in m]\n",
    "    for i in range(K):\n",
    "        for j in range(num_seeds[i]):\n",
    "            index = np.random.randint(j)\n",
    "            "
   ]
  },
  {
   "cell_type": "code",
   "execution_count": 98,
   "metadata": {},
   "outputs": [
    {
     "name": "stdout",
     "output_type": "stream",
     "text": [
      "[[0. 1. 1. 1. 1. 1. 1. 1. 1.]\n",
      " [1. 0. 1. 1. 1. 1. 1. 1. 1.]\n",
      " [1. 1. 0. 1. 1. 1. 1. 1. 1.]\n",
      " [1. 1. 1. 0. 1. 1. 1. 1. 1.]\n",
      " [1. 1. 1. 1. 0. 1. 1. 1. 1.]\n",
      " [1. 1. 1. 1. 1. 0. 1. 1. 1.]\n",
      " [1. 1. 1. 1. 1. 1. 0. 1. 1.]\n",
      " [1. 1. 1. 1. 1. 1. 1. 0. 1.]\n",
      " [1. 1. 1. 1. 1. 1. 1. 1. 0.]]\n",
      "[5, 2, 2]\n",
      "[[6. 8. 4.]\n",
      " [0. 1. 2.]\n",
      " [0. 0. 0.]]\n",
      "[[4. 2. 6.]\n",
      " [0. 0. 2.]\n",
      " [0. 0. 1.]]\n"
     ]
    }
   ],
   "source": [
    "K = 3\n",
    "v = 9\n",
    "labeled_ratio = 0.25\n",
    "m = int(round(labeled_ratio*v))\n",
    "n = int(v - m)\n",
    "\n",
    "pi, Nv = gen_pi(K, v, acorn = 123)\n",
    "mv = [int(round(labeled_ratio*Nv[i])) for i in range(K)]\n",
    "nv = [int(round((1- labeled_ratio)*Nv[i])) for i in range(K)]\n",
    "L = gen_Lambda(4, acorn = 3, ones_ = True)\n",
    "               \n",
    "A = adj_matrix(v, pi, L, acorn = 100)\n",
    "print(A)\n",
    "print(Nv)\n",
    "\n",
    "for p in permutations(arange(m, n + m), n):\n",
    "    V = [p[int(sum(nv[:i])):int(sum(nv[:i + 1]))] for i in range(K)]\n",
    "    #for i in range(len(Nv)):\n",
    "    #    print(Nv[:i], Nv[:i + 1])\n",
    "    #    print(sum(Nv[:i]), sum(Nv[:i + 1]))\n",
    "    #    print(p[int(sum(Nv[:i])):int(sum(Nv[:i + 1]))])\n",
    "    #print(V)\n",
    "    e = gen_e(A, V)\n",
    "    c = gen_c(Nv, e)\n",
    "    break\n",
    "    \n",
    "print(e)\n",
    "print(c)\n"
   ]
  },
  {
   "cell_type": "code",
   "execution_count": 85,
   "metadata": {},
   "outputs": [
    {
     "data": {
      "text/plain": [
       "((5, 6, 7, 8), 9)"
      ]
     },
     "execution_count": 85,
     "metadata": {},
     "output_type": "execute_result"
    }
   ],
   "source": [
    "p[5:9], len(p)"
   ]
  },
  {
   "cell_type": "code",
   "execution_count": 97,
   "metadata": {},
   "outputs": [],
   "source": [
    "def gen_e(A, perm):\n",
    "    K = len(perm)\n",
    "    e = np.zeros(shape = (K, K)) # create an ((K choose 2) + K) x ((K choose 2) + K)\n",
    "        # to store e[k,l]\n",
    "        \n",
    "    #e_test = np.zeros(shape = (choose(len(V), 2) + K, choose(len(V), 2) + K))\n",
    "            \n",
    "    for i in range(K):\n",
    "        for j in range(i + 1, K):\n",
    "            for v in perm[i]:\n",
    "                for s in perm[j]:\n",
    "                    e[i,j] += A[v, s]\n",
    "    \n",
    "    for i in range(K):\n",
    "        for j in range(len(V[i])):\n",
    "            for k in range(j + 1, len(V[i])):\n",
    "                e[i, i] += A[j, k]\n",
    "            \n",
    "    \n",
    "    return e #, e_test"
   ]
  },
  {
   "cell_type": "code",
   "execution_count": null,
   "metadata": {
    "collapsed": true
   },
   "outputs": [],
   "source": [
    "\n",
    "\n",
    "for p in permutations(arange(m, n + m), n):\n",
    "    V = [p[int(sum(n_k[:i])):int(sum(n_k[:i + 1]))] for i in range(K)]\n",
    "    \n",
    "    "
   ]
  },
  {
   "cell_type": "code",
   "execution_count": 51,
   "metadata": {
    "collapsed": true
   },
   "outputs": [],
   "source": [
    "def gen_c(Nv, e):\n",
    "    K = len(Nv) # number of blocks\n",
    "    c = np.zeros(shape = (K, K)) # create an ((K choose 2) + K) x ((K choose 2) + K)\n",
    "    \n",
    "    for i in range(K): # for each block..\n",
    "        for j in range(i, K): # for every other block..\n",
    "            if i == j: # diagonal entries\n",
    "                c[i,j] = choose(Nv[i], 2) - e[i,i] # Max possible edges minus realized edges\n",
    "            else:\n",
    "                c[i,j] = (Nv[i] * Nv[j]) - e[i,j] # Max possible edges minus realized edges\n",
    "            \n",
    "    return c"
   ]
  },
  {
   "cell_type": "code",
   "execution_count": null,
   "metadata": {
    "collapsed": true
   },
   "outputs": [],
   "source": [
    "\n",
    "\n",
    "\n",
    "\n",
    "#def likelihood_n(V, e, c, p):\n",
    "    "
   ]
  }
 ],
 "metadata": {
  "kernelspec": {
   "display_name": "Python 3",
   "language": "python",
   "name": "python3"
  },
  "language_info": {
   "codemirror_mode": {
    "name": "ipython",
    "version": 3
   },
   "file_extension": ".py",
   "mimetype": "text/x-python",
   "name": "python",
   "nbconvert_exporter": "python",
   "pygments_lexer": "ipython3",
   "version": "3.6.1"
  }
 },
 "nbformat": 4,
 "nbformat_minor": 2
}
