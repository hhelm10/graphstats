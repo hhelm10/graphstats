{
 "cells": [
  {
   "cell_type": "code",
   "execution_count": 346,
   "metadata": {
    "collapsed": true
   },
   "outputs": [],
   "source": [
    "import numpy as np\n",
    "import matplotlib.pyplot as plt\n",
    "from itertools import permutations, combinations, islice\n",
    "from itertools import islice"
   ]
  },
  {
   "cell_type": "code",
   "execution_count": 370,
   "metadata": {},
   "outputs": [
    {
     "name": "stdout",
     "output_type": "stream",
     "text": [
      "[0.3031310728495155, 0.13498230146693121, 0.16327936724543918, 0.39860725843811395] = 0.9999999999999998\n",
      "[6, 3, 3, 8]\n"
     ]
    }
   ],
   "source": [
    "def gen_pi(n = 4, v = 20):\n",
    "    while True:\n",
    "        pi_0 = np.random.uniform(size=n)\n",
    "        pisum = np.sum(pi_0)\n",
    "        pi = [i/pisum for i in pi_0]\n",
    "        Nv = [int(round(i*v)) for i in pi]\n",
    "        if not 0 in Nv and np.sum(Nv)==v:\n",
    "            break\n",
    "    return pi, Nv\n",
    "\n",
    "pi, Nv = gen_pi(4)\n",
    "print(pi, '=', np.sum(pi))\n",
    "print(Nv)"
   ]
  },
  {
   "cell_type": "code",
   "execution_count": 371,
   "metadata": {},
   "outputs": [
    {
     "name": "stdout",
     "output_type": "stream",
     "text": [
      "[[0.94766363 0.01491104 0.66105803 0.22935952]\n",
      " [0.20172588 0.06677707 0.21321127 0.78630652]\n",
      " [0.71497726 0.59940808 0.48944716 0.87367782]\n",
      " [0.07675084 0.45816586 0.27610564 0.34000449]]\n"
     ]
    }
   ],
   "source": [
    "def gen_blockprob(n = 4):\n",
    "    blockprob = np.zeros((n,n))\n",
    "    for i in range(n):\n",
    "        for j in range(i,n):\n",
    "            blockprob[i,j] = np.random.uniform()\n",
    "            blockprob[j,i] = np.random.uniform()\n",
    "    return blockprob\n",
    "\n",
    "blockprob = gen_blockprob(4)\n",
    "print(blockprob)"
   ]
  },
  {
   "cell_type": "code",
   "execution_count": 377,
   "metadata": {},
   "outputs": [
    {
     "name": "stdout",
     "output_type": "stream",
     "text": [
      "[[0. 1. 1. 1. 1. 1. 0. 0. 0. 1. 1. 1. 0. 0. 0. 1. 1. 0. 0. 1.]\n",
      " [1. 0. 1. 0. 1. 1. 1. 0. 0. 1. 0. 1. 0. 0. 0. 0. 0. 1. 1. 1.]\n",
      " [1. 1. 0. 1. 1. 1. 0. 0. 0. 0. 1. 1. 0. 1. 0. 0. 0. 0. 0. 0.]\n",
      " [1. 0. 1. 0. 1. 1. 0. 0. 0. 1. 1. 1. 0. 0. 0. 1. 1. 0. 0. 0.]\n",
      " [1. 1. 1. 1. 0. 1. 0. 0. 0. 1. 1. 0. 1. 0. 1. 0. 0. 0. 0. 1.]\n",
      " [1. 1. 1. 1. 1. 0. 0. 0. 0. 0. 0. 0. 0. 0. 0. 0. 0. 0. 0. 0.]\n",
      " [0. 1. 0. 0. 0. 0. 0. 0. 0. 0. 1. 0. 1. 1. 1. 0. 1. 0. 0. 1.]\n",
      " [0. 0. 0. 0. 0. 0. 0. 0. 0. 0. 0. 0. 0. 1. 1. 1. 0. 1. 0. 1.]\n",
      " [0. 0. 0. 0. 0. 0. 0. 0. 0. 0. 1. 0. 1. 1. 1. 1. 1. 1. 1. 0.]\n",
      " [1. 1. 0. 1. 1. 0. 0. 0. 0. 0. 1. 1. 0. 1. 1. 1. 0. 1. 1. 1.]\n",
      " [1. 0. 1. 1. 1. 0. 1. 0. 1. 1. 0. 0. 1. 1. 1. 1. 1. 1. 0. 1.]\n",
      " [1. 1. 1. 1. 0. 0. 0. 0. 0. 1. 0. 0. 1. 1. 1. 1. 1. 1. 1. 1.]\n",
      " [0. 0. 0. 0. 1. 0. 1. 0. 1. 0. 1. 1. 0. 1. 1. 0. 1. 0. 0. 1.]\n",
      " [0. 0. 1. 0. 0. 0. 1. 1. 1. 1. 1. 1. 1. 0. 0. 1. 0. 0. 1. 0.]\n",
      " [0. 0. 0. 0. 1. 0. 1. 1. 1. 1. 1. 1. 1. 0. 0. 0. 1. 0. 0. 0.]\n",
      " [1. 0. 0. 1. 0. 0. 0. 1. 1. 1. 1. 1. 0. 1. 0. 0. 1. 1. 0. 1.]\n",
      " [1. 0. 0. 1. 0. 0. 1. 0. 1. 0. 1. 1. 1. 0. 1. 1. 0. 0. 0. 1.]\n",
      " [0. 1. 0. 0. 0. 0. 0. 1. 1. 1. 1. 1. 0. 0. 0. 1. 0. 0. 1. 0.]\n",
      " [0. 1. 0. 0. 0. 0. 0. 0. 1. 1. 0. 1. 0. 1. 0. 0. 0. 1. 0. 1.]\n",
      " [1. 1. 0. 0. 1. 0. 1. 1. 0. 1. 1. 1. 1. 0. 0. 1. 1. 0. 1. 0.]]\n",
      "(20, 20)\n"
     ]
    }
   ],
   "source": [
    "def gen_adj(pi, Nv, blockprob):\n",
    "    v = np.sum(Nv)\n",
    "    adj = np.zeros((v,v))\n",
    "    \n",
    "    def ind_to_block(i):\n",
    "        block = -1\n",
    "        while i >= 0:\n",
    "            block += 1\n",
    "            i -= Nv[block]\n",
    "        return block\n",
    "\n",
    "    for i in range(v):\n",
    "        for j in range(i,v):\n",
    "            val = np.random.binomial(1, blockprob[ind_to_block(i), ind_to_block(j)])\n",
    "            adj[i,j] = val\n",
    "            adj[j,i] = val\n",
    "    np.fill_diagonal(adj,0)\n",
    "    return adj\n",
    "\n",
    "adj = gen_adj(pi, Nv, blockprob)\n",
    "print(adj)\n",
    "print(adj.shape)"
   ]
  },
  {
   "cell_type": "code",
   "execution_count": 396,
   "metadata": {
    "collapsed": true
   },
   "outputs": [],
   "source": [
    "def likelihood(Nv):\n",
    "    def ind_to_block(i):\n",
    "        block = -1\n",
    "        while i >= 0:\n",
    "            block += 1\n",
    "            i -= Nv[block]\n",
    "        return block\n",
    "    #def gen_e():\n",
    "        #gen a kxk matrix e\n",
    "    numerator_sum = 0\n",
    "    denominator_sum = 0\n",
    "    numerator_perms = []\n",
    "    n = int(np.sum(Nv))\n",
    "    counter = 0\n",
    "    for i in permutations(range(n),n):\n",
    "        print(i)\n",
    "        V = [i[int(sum(Nv[:j])):int(sum(Nv[:j+1]))] for j in range(len(Nv))]\n",
    "        print(V)\n",
    "        counter += 1\n",
    "        if counter > 5:\n",
    "            break\n",
    "    #use v and ind_to_block to generate e\n",
    "    #then use e and lambda to find the likelihood with a nested multiplication"
   ]
  },
  {
   "cell_type": "code",
   "execution_count": 397,
   "metadata": {},
   "outputs": [
    {
     "name": "stdout",
     "output_type": "stream",
     "text": [
      "(0, 1, 2, 3, 4, 5, 6)\n",
      "[(0, 1, 2, 3), (4, 5), (6,)]\n",
      "(0, 1, 2, 3, 4, 6, 5)\n",
      "[(0, 1, 2, 3), (4, 6), (5,)]\n",
      "(0, 1, 2, 3, 5, 4, 6)\n",
      "[(0, 1, 2, 3), (5, 4), (6,)]\n",
      "(0, 1, 2, 3, 5, 6, 4)\n",
      "[(0, 1, 2, 3), (5, 6), (4,)]\n",
      "(0, 1, 2, 3, 6, 4, 5)\n",
      "[(0, 1, 2, 3), (6, 4), (5,)]\n",
      "(0, 1, 2, 3, 6, 5, 4)\n",
      "[(0, 1, 2, 3), (6, 5), (4,)]\n"
     ]
    }
   ],
   "source": [
    "likelihood([4,2,1])"
   ]
  },
  {
   "cell_type": "code",
   "execution_count": 141,
   "metadata": {
    "collapsed": true
   },
   "outputs": [],
   "source": [
    "def split_by_lengths(seq, num):\n",
    "    it = iter(seq)\n",
    "    out =  [x for x in (list(islice(it, n)) for n in num) if x]\n",
    "    remain = list(it)\n",
    "    return out if not remain else out + [remain]"
   ]
  },
  {
   "cell_type": "code",
   "execution_count": 144,
   "metadata": {},
   "outputs": [
    {
     "data": {
      "text/plain": [
       "[[0, 1, 2, 3], [4, 5], [6]]"
      ]
     },
     "execution_count": 144,
     "metadata": {},
     "output_type": "execute_result"
    }
   ],
   "source": [
    "split_by_lengths([0,1,2,3,4,5,6], [4,2,1])"
   ]
  },
  {
   "cell_type": "code",
   "execution_count": null,
   "metadata": {
    "collapsed": true
   },
   "outputs": [],
   "source": []
  }
 ],
 "metadata": {
  "kernelspec": {
   "display_name": "Python 3",
   "language": "python",
   "name": "python3"
  },
  "language_info": {
   "codemirror_mode": {
    "name": "ipython",
    "version": 3
   },
   "file_extension": ".py",
   "mimetype": "text/x-python",
   "name": "python",
   "nbconvert_exporter": "python",
   "pygments_lexer": "ipython3",
   "version": "3.6.1"
  },
  "toc": {
   "nav_menu": {},
   "number_sections": true,
   "sideBar": true,
   "skip_h1_title": false,
   "toc_cell": false,
   "toc_position": {},
   "toc_section_display": "block",
   "toc_window_display": false
  }
 },
 "nbformat": 4,
 "nbformat_minor": 2
}
