{
 "cells": [
  {
   "cell_type": "code",
   "execution_count": 1,
   "metadata": {},
   "outputs": [],
   "source": [
    "import numpy as np\n",
    "import matplotlib.pyplot as plt\n",
    "from itertools import permutations, combinations, combinations_with_replacement, islice\n",
    "from itertools import islice"
   ]
  },
  {
   "cell_type": "code",
   "execution_count": 2,
   "metadata": {},
   "outputs": [
    {
     "name": "stdout",
     "output_type": "stream",
     "text": [
      "[0.36698675334869435, 0.28619658483078236, 0.3077152813399075, 0.03910138048061589] = 1.0000000000000002\n",
      "[7, 6, 6, 1]\n"
     ]
    }
   ],
   "source": [
    "def gen_pi(n = 4, v = 20):\n",
    "    while True:\n",
    "        pi_0 = np.random.uniform(size=n)\n",
    "        pisum = np.sum(pi_0)\n",
    "        pi = [i/pisum for i in pi_0]\n",
    "        Nv = [int(round(i*v)) for i in pi]\n",
    "        if not 0 in Nv and np.sum(Nv)==v:\n",
    "            break\n",
    "    return pi, Nv\n",
    "\n",
    "pi, Nv = gen_pi(4)\n",
    "print(pi, '=', np.sum(pi))\n",
    "print(Nv)"
   ]
  },
  {
   "cell_type": "code",
   "execution_count": 3,
   "metadata": {},
   "outputs": [
    {
     "name": "stdout",
     "output_type": "stream",
     "text": [
      "[[0.90663773 0.1267139  0.34836903 0.71626187]\n",
      " [0.43956529 0.7615279  0.4730221  0.62153505]\n",
      " [0.78211068 0.30829512 0.77297593 0.77792221]\n",
      " [0.77451605 0.94247903 0.61122934 0.99775156]]\n"
     ]
    }
   ],
   "source": [
    "def gen_blockprob(n = 4):\n",
    "    blockprob = np.zeros((n,n))\n",
    "    for i in range(n):\n",
    "        for j in range(i,n):\n",
    "            blockprob[i,j] = np.random.uniform()\n",
    "            blockprob[j,i] = np.random.uniform()\n",
    "    return blockprob\n",
    "\n",
    "blockprob = gen_blockprob(4)\n",
    "print(blockprob)"
   ]
  },
  {
   "cell_type": "code",
   "execution_count": 4,
   "metadata": {},
   "outputs": [
    {
     "name": "stdout",
     "output_type": "stream",
     "text": [
      "[[0. 1. 1. 1. 1. 1. 1. 0. 0. 0. 0. 0. 0. 0. 1. 1. 0. 0. 0. 1.]\n",
      " [1. 0. 1. 1. 1. 1. 1. 0. 0. 1. 0. 0. 0. 0. 1. 0. 1. 0. 0. 1.]\n",
      " [1. 1. 0. 1. 1. 1. 1. 0. 0. 0. 0. 0. 1. 1. 0. 0. 0. 0. 0. 1.]\n",
      " [1. 1. 1. 0. 1. 1. 1. 0. 0. 0. 0. 0. 0. 0. 1. 0. 0. 0. 0. 0.]\n",
      " [1. 1. 1. 1. 0. 1. 1. 0. 0. 0. 0. 0. 0. 0. 0. 0. 0. 1. 0. 1.]\n",
      " [1. 1. 1. 1. 1. 0. 1. 0. 0. 0. 0. 0. 0. 0. 1. 0. 0. 0. 1. 1.]\n",
      " [1. 1. 1. 1. 1. 1. 0. 0. 0. 0. 0. 1. 0. 0. 0. 0. 0. 1. 0. 1.]\n",
      " [0. 0. 0. 0. 0. 0. 0. 0. 1. 1. 1. 1. 0. 0. 1. 0. 0. 0. 0. 1.]\n",
      " [0. 0. 0. 0. 0. 0. 0. 1. 0. 1. 0. 0. 1. 1. 0. 0. 1. 0. 0. 0.]\n",
      " [0. 1. 0. 0. 0. 0. 0. 1. 1. 0. 1. 1. 1. 0. 1. 1. 0. 0. 1. 1.]\n",
      " [0. 0. 0. 0. 0. 0. 0. 1. 0. 1. 0. 1. 1. 1. 1. 0. 0. 1. 0. 1.]\n",
      " [0. 0. 0. 0. 0. 0. 1. 1. 0. 1. 1. 0. 1. 1. 1. 1. 1. 1. 1. 1.]\n",
      " [0. 0. 1. 0. 0. 0. 0. 0. 1. 1. 1. 1. 0. 0. 0. 0. 1. 0. 0. 1.]\n",
      " [0. 0. 1. 0. 0. 0. 0. 0. 1. 0. 1. 1. 0. 0. 1. 1. 0. 1. 1. 1.]\n",
      " [1. 1. 0. 1. 0. 1. 0. 1. 0. 1. 1. 1. 0. 1. 0. 1. 1. 1. 1. 1.]\n",
      " [1. 0. 0. 0. 0. 0. 0. 0. 0. 1. 0. 1. 0. 1. 1. 0. 1. 1. 1. 1.]\n",
      " [0. 1. 0. 0. 0. 0. 0. 0. 1. 0. 0. 1. 1. 0. 1. 1. 0. 1. 0. 1.]\n",
      " [0. 0. 0. 0. 1. 0. 1. 0. 0. 0. 1. 1. 0. 1. 1. 1. 1. 0. 1. 1.]\n",
      " [0. 0. 0. 0. 0. 1. 0. 0. 0. 1. 0. 1. 0. 1. 1. 1. 0. 1. 0. 1.]\n",
      " [1. 1. 1. 0. 1. 1. 1. 1. 0. 1. 1. 1. 1. 1. 1. 1. 1. 1. 1. 0.]]\n",
      "(20, 20)\n"
     ]
    }
   ],
   "source": [
    "def gen_adj(pi, Nv, blockprob):\n",
    "    v = np.sum(Nv)\n",
    "    adj = np.zeros((v,v))\n",
    "    \n",
    "    def ind_to_block(i):\n",
    "        block = -1\n",
    "        while i >= 0:\n",
    "            block += 1\n",
    "            i -= Nv[block]\n",
    "        return block\n",
    "\n",
    "    for i in range(v):\n",
    "        for j in range(i,v):\n",
    "            val = np.random.binomial(1, blockprob[ind_to_block(i), ind_to_block(j)])\n",
    "            adj[i,j] = val\n",
    "            adj[j,i] = val\n",
    "    np.fill_diagonal(adj,0)\n",
    "    return adj\n",
    "\n",
    "adj = gen_adj(pi, Nv, blockprob)\n",
    "print(adj)\n",
    "print(adj.shape)"
   ]
  },
  {
   "cell_type": "code",
   "execution_count": 7,
   "metadata": {},
   "outputs": [],
   "source": [
    "adj = np.ones((int(np.sum(Nv)),int(np.sum(Nv))))\n",
    "np.fill_diagonal(adj,0)"
   ]
  },
  {
   "cell_type": "code",
   "execution_count": 16,
   "metadata": {},
   "outputs": [],
   "source": [
    "import math\n",
    "def choose(n, k): #hayden.ipynb\n",
    "    if n<k:\n",
    "        return 0\n",
    "    else:\n",
    "        num = math.factorial(n)\n",
    "        den = math.factorial(k)*math.factorial(n - k)\n",
    "        return num/den"
   ]
  },
  {
   "cell_type": "code",
   "execution_count": 18,
   "metadata": {},
   "outputs": [],
   "source": [
    "def gen_e(adj, perm):\n",
    "    k = len(perm)\n",
    "    e = np.zeros((k,k))\n",
    "    for i in range(k):\n",
    "        for j in range(i, k):\n",
    "            for v in perm[i]:\n",
    "                for s in perm[j]:\n",
    "                    e[i,j] += adj[v, s]\n",
    "                    e[j,i] += adj[v, s]\n",
    "                    if i==j:\n",
    "                        e[i,j] -= adj[v,s]\n",
    "    return e"
   ]
  },
  {
   "cell_type": "code",
   "execution_count": 22,
   "metadata": {},
   "outputs": [],
   "source": [
    "def gen_c(Nv, e):\n",
    "    k = len(Nv)\n",
    "    c = np.zeros((k,k))\n",
    "    for i in range(k):\n",
    "        for j in range(i, k):\n",
    "            if i==j:\n",
    "                c[i,j] = choose(Nv[i],2) - e[i,j]\n",
    "            else:\n",
    "                c[i,j] = (Nv[i]*Nv[j]) - e[i,j]\n",
    "                c[j,i] = (Nv[i]*Nv[j]) - e[i,j]\n",
    "    return c"
   ]
  },
  {
   "cell_type": "code",
   "execution_count": 23,
   "metadata": {},
   "outputs": [],
   "source": [
    "def likelihood(Nv):\n",
    "    numerator_sum = 0\n",
    "    denominator_sum = 0\n",
    "    numerator_perms = []\n",
    "    n = int(np.sum(Nv))\n",
    "    counter = 0\n",
    "    for i in permutations(range(n),n):\n",
    "        print(i)\n",
    "        perm = [i[int(sum(Nv[:j])):int(sum(Nv[:j+1]))] for j in range(len(Nv))]\n",
    "        print(perm)\n",
    "        e = gen_e(adj, perm)\n",
    "        print(e)\n",
    "        c = gen_c(Nv, e)\n",
    "        print(c)\n",
    "        counter += 1\n",
    "        if counter>5:\n",
    "            break\n",
    "    #use v and ind_to_block to generate e\n",
    "    #then use e and lambda to find the likelihood with a nested multiplication"
   ]
  },
  {
   "cell_type": "code",
   "execution_count": 24,
   "metadata": {
    "scrolled": false
   },
   "outputs": [
    {
     "name": "stdout",
     "output_type": "stream",
     "text": [
      "[[0. 1. 1. 1. 1. 1. 1. 1. 1. 1. 1. 1. 1. 1. 1. 1. 1. 1. 1. 1.]\n",
      " [1. 0. 1. 1. 1. 1. 1. 1. 1. 1. 1. 1. 1. 1. 1. 1. 1. 1. 1. 1.]\n",
      " [1. 1. 0. 1. 1. 1. 1. 1. 1. 1. 1. 1. 1. 1. 1. 1. 1. 1. 1. 1.]\n",
      " [1. 1. 1. 0. 1. 1. 1. 1. 1. 1. 1. 1. 1. 1. 1. 1. 1. 1. 1. 1.]\n",
      " [1. 1. 1. 1. 0. 1. 1. 1. 1. 1. 1. 1. 1. 1. 1. 1. 1. 1. 1. 1.]\n",
      " [1. 1. 1. 1. 1. 0. 1. 1. 1. 1. 1. 1. 1. 1. 1. 1. 1. 1. 1. 1.]\n",
      " [1. 1. 1. 1. 1. 1. 0. 1. 1. 1. 1. 1. 1. 1. 1. 1. 1. 1. 1. 1.]\n",
      " [1. 1. 1. 1. 1. 1. 1. 0. 1. 1. 1. 1. 1. 1. 1. 1. 1. 1. 1. 1.]\n",
      " [1. 1. 1. 1. 1. 1. 1. 1. 0. 1. 1. 1. 1. 1. 1. 1. 1. 1. 1. 1.]\n",
      " [1. 1. 1. 1. 1. 1. 1. 1. 1. 0. 1. 1. 1. 1. 1. 1. 1. 1. 1. 1.]\n",
      " [1. 1. 1. 1. 1. 1. 1. 1. 1. 1. 0. 1. 1. 1. 1. 1. 1. 1. 1. 1.]\n",
      " [1. 1. 1. 1. 1. 1. 1. 1. 1. 1. 1. 0. 1. 1. 1. 1. 1. 1. 1. 1.]\n",
      " [1. 1. 1. 1. 1. 1. 1. 1. 1. 1. 1. 1. 0. 1. 1. 1. 1. 1. 1. 1.]\n",
      " [1. 1. 1. 1. 1. 1. 1. 1. 1. 1. 1. 1. 1. 0. 1. 1. 1. 1. 1. 1.]\n",
      " [1. 1. 1. 1. 1. 1. 1. 1. 1. 1. 1. 1. 1. 1. 0. 1. 1. 1. 1. 1.]\n",
      " [1. 1. 1. 1. 1. 1. 1. 1. 1. 1. 1. 1. 1. 1. 1. 0. 1. 1. 1. 1.]\n",
      " [1. 1. 1. 1. 1. 1. 1. 1. 1. 1. 1. 1. 1. 1. 1. 1. 0. 1. 1. 1.]\n",
      " [1. 1. 1. 1. 1. 1. 1. 1. 1. 1. 1. 1. 1. 1. 1. 1. 1. 0. 1. 1.]\n",
      " [1. 1. 1. 1. 1. 1. 1. 1. 1. 1. 1. 1. 1. 1. 1. 1. 1. 1. 0. 1.]\n",
      " [1. 1. 1. 1. 1. 1. 1. 1. 1. 1. 1. 1. 1. 1. 1. 1. 1. 1. 1. 0.]]\n",
      "(0, 1, 2, 3, 4, 5, 6, 7, 8, 9, 10, 11, 12, 13, 14, 15, 16, 17, 18, 19)\n",
      "[(0, 1, 2, 3, 4, 5, 6), (7, 8, 9, 10, 11, 12), (13, 14, 15, 16, 17, 18), (19,)]\n",
      "[[42. 42. 42.  7.]\n",
      " [42. 30. 36.  6.]\n",
      " [42. 36. 30.  6.]\n",
      " [ 7.  6.  6.  0.]]\n",
      "[[-21.   0.   0.   0.]\n",
      " [  0. -15.   0.   0.]\n",
      " [  0.   0. -15.   0.]\n",
      " [  0.   0.   0.   0.]]\n",
      "(0, 1, 2, 3, 4, 5, 6, 7, 8, 9, 10, 11, 12, 13, 14, 15, 16, 17, 19, 18)\n",
      "[(0, 1, 2, 3, 4, 5, 6), (7, 8, 9, 10, 11, 12), (13, 14, 15, 16, 17, 19), (18,)]\n",
      "[[42. 42. 42.  7.]\n",
      " [42. 30. 36.  6.]\n",
      " [42. 36. 30.  6.]\n",
      " [ 7.  6.  6.  0.]]\n",
      "[[-21.   0.   0.   0.]\n",
      " [  0. -15.   0.   0.]\n",
      " [  0.   0. -15.   0.]\n",
      " [  0.   0.   0.   0.]]\n",
      "(0, 1, 2, 3, 4, 5, 6, 7, 8, 9, 10, 11, 12, 13, 14, 15, 16, 18, 17, 19)\n",
      "[(0, 1, 2, 3, 4, 5, 6), (7, 8, 9, 10, 11, 12), (13, 14, 15, 16, 18, 17), (19,)]\n",
      "[[42. 42. 42.  7.]\n",
      " [42. 30. 36.  6.]\n",
      " [42. 36. 30.  6.]\n",
      " [ 7.  6.  6.  0.]]\n",
      "[[-21.   0.   0.   0.]\n",
      " [  0. -15.   0.   0.]\n",
      " [  0.   0. -15.   0.]\n",
      " [  0.   0.   0.   0.]]\n",
      "(0, 1, 2, 3, 4, 5, 6, 7, 8, 9, 10, 11, 12, 13, 14, 15, 16, 18, 19, 17)\n",
      "[(0, 1, 2, 3, 4, 5, 6), (7, 8, 9, 10, 11, 12), (13, 14, 15, 16, 18, 19), (17,)]\n",
      "[[42. 42. 42.  7.]\n",
      " [42. 30. 36.  6.]\n",
      " [42. 36. 30.  6.]\n",
      " [ 7.  6.  6.  0.]]\n",
      "[[-21.   0.   0.   0.]\n",
      " [  0. -15.   0.   0.]\n",
      " [  0.   0. -15.   0.]\n",
      " [  0.   0.   0.   0.]]\n",
      "(0, 1, 2, 3, 4, 5, 6, 7, 8, 9, 10, 11, 12, 13, 14, 15, 16, 19, 17, 18)\n",
      "[(0, 1, 2, 3, 4, 5, 6), (7, 8, 9, 10, 11, 12), (13, 14, 15, 16, 19, 17), (18,)]\n",
      "[[42. 42. 42.  7.]\n",
      " [42. 30. 36.  6.]\n",
      " [42. 36. 30.  6.]\n",
      " [ 7.  6.  6.  0.]]\n",
      "[[-21.   0.   0.   0.]\n",
      " [  0. -15.   0.   0.]\n",
      " [  0.   0. -15.   0.]\n",
      " [  0.   0.   0.   0.]]\n",
      "(0, 1, 2, 3, 4, 5, 6, 7, 8, 9, 10, 11, 12, 13, 14, 15, 16, 19, 18, 17)\n",
      "[(0, 1, 2, 3, 4, 5, 6), (7, 8, 9, 10, 11, 12), (13, 14, 15, 16, 19, 18), (17,)]\n",
      "[[42. 42. 42.  7.]\n",
      " [42. 30. 36.  6.]\n",
      " [42. 36. 30.  6.]\n",
      " [ 7.  6.  6.  0.]]\n",
      "[[-21.   0.   0.   0.]\n",
      " [  0. -15.   0.   0.]\n",
      " [  0.   0. -15.   0.]\n",
      " [  0.   0.   0.   0.]]\n"
     ]
    }
   ],
   "source": [
    "print(adj)\n",
    "likelihood(Nv)"
   ]
  },
  {
   "cell_type": "code",
   "execution_count": null,
   "metadata": {},
   "outputs": [],
   "source": [
    "def split_by_lengths(seq, num):\n",
    "    it = iter(seq)\n",
    "    out =  [x for x in (list(islice(it, n)) for n in num) if x]\n",
    "    remain = list(it)\n",
    "    return out if not remain else out + [remain]"
   ]
  },
  {
   "cell_type": "code",
   "execution_count": 144,
   "metadata": {},
   "outputs": [
    {
     "data": {
      "text/plain": [
       "[[0, 1, 2, 3], [4, 5], [6]]"
      ]
     },
     "execution_count": 144,
     "metadata": {},
     "output_type": "execute_result"
    }
   ],
   "source": [
    "split_by_lengths([0,1,2,3,4,5,6], [4,2,1])"
   ]
  },
  {
   "cell_type": "code",
   "execution_count": null,
   "metadata": {
    "collapsed": true
   },
   "outputs": [],
   "source": []
  }
 ],
 "metadata": {
  "kernelspec": {
   "display_name": "Python 3",
   "language": "python",
   "name": "python3"
  },
  "language_info": {
   "codemirror_mode": {
    "name": "ipython",
    "version": 3
   },
   "file_extension": ".py",
   "mimetype": "text/x-python",
   "name": "python",
   "nbconvert_exporter": "python",
   "pygments_lexer": "ipython3",
   "version": "3.6.3"
  },
  "toc": {
   "nav_menu": {},
   "number_sections": true,
   "sideBar": true,
   "skip_h1_title": false,
   "toc_cell": false,
   "toc_position": {},
   "toc_section_display": "block",
   "toc_window_display": false
  }
 },
 "nbformat": 4,
 "nbformat_minor": 2
}
