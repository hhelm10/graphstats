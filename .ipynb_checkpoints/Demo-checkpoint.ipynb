{
 "cells": [
  {
   "cell_type": "code",
   "execution_count": 14,
   "metadata": {},
   "outputs": [
    {
     "data": {
      "text/plain": [
       "['GaussianClustering',\n",
       " 'GaussianMixture',\n",
       " 'Graph',\n",
       " 'NonParametricClustering',\n",
       " 'OutOfCoreAdjacencySpectralEmbedding',\n",
       " 'SpectralGraphClustering',\n",
       " 'TruncatedSVD',\n",
       " 'VertexNominationSeededGraphMatching',\n",
       " '__builtins__',\n",
       " '__cached__',\n",
       " '__doc__',\n",
       " '__file__',\n",
       " '__loader__',\n",
       " '__name__',\n",
       " '__package__',\n",
       " '__path__',\n",
       " '__spec__',\n",
       " 'absolute_import',\n",
       " 'adj_spectral_embedding',\n",
       " 'ase',\n",
       " 'dimselect',\n",
       " 'gclass',\n",
       " 'gclust',\n",
       " 'lap_spectral_embedding',\n",
       " 'largest_connected_component',\n",
       " 'lcc',\n",
       " 'lse',\n",
       " 'networkx',\n",
       " 'nonpar',\n",
       " 'norm',\n",
       " 'np',\n",
       " 'num_clust',\n",
       " 'numclust',\n",
       " 'omni',\n",
       " 'oocase',\n",
       " 'pass_to_ranks',\n",
       " 'profile_likelihood',\n",
       " 'ptr',\n",
       " 'rankdata',\n",
       " 'sgc',\n",
       " 'vnsgm']"
      ]
     },
     "execution_count": 14,
     "metadata": {},
     "output_type": "execute_result"
    }
   ],
   "source": [
    "import graphstats\n",
    "\n",
    "import numpy as np\n",
    "import networkx\n",
    "\n",
    "import _pickle as pickle\n",
    "dir(graphstats)"
   ]
  },
  {
   "cell_type": "code",
   "execution_count": 16,
   "metadata": {},
   "outputs": [
    {
     "name": "stdout",
     "output_type": "stream",
     "text": [
      "All nodes: 50\n",
      "Connected nodes: 48\n"
     ]
    }
   ],
   "source": [
    "DS = pickle.load(open('datasets/DS01876.pkl', 'rb')) \n",
    "G_DS = DS['0']\n",
    "G_DS = graphstats.largest_connected_component(G_DS)\n",
    "A_DS = networkx.to_numpy_array(G_DS)\n",
    "\n",
    "G1_DS = G_DS.subgraph(np.arange(50))\n",
    "\n",
    "print(\"All nodes: \" + str(len(G1_DS)))\n",
    "\n",
    "G1_DS = graphstats.largest_connected_component(G1_DS)\n",
    "print(\"Connected nodes: \" + str(len(G1_DS)))"
   ]
  },
  {
   "cell_type": "code",
   "execution_count": 17,
   "metadata": {},
   "outputs": [
    {
     "data": {
      "text/plain": [
       "<networkx.classes.graph.Graph at 0x2f47b87e940>"
      ]
     },
     "execution_count": 17,
     "metadata": {},
     "output_type": "execute_result"
    }
   ],
   "source": [
    "G_DS = DS['0']\n",
    "A_DS = networkx.to_numpy_array(G_DS)\n",
    "\n",
    "G_DS"
   ]
  },
  {
   "cell_type": "code",
   "execution_count": 18,
   "metadata": {},
   "outputs": [
    {
     "data": {
      "text/plain": [
       "array([[0.        , 0.37103916, 0.        , ..., 0.        , 0.        ,\n",
       "        0.        ],\n",
       "       [0.37103916, 0.        , 0.        , ..., 0.        , 0.        ,\n",
       "        0.        ],\n",
       "       [0.        , 0.        , 0.        , ..., 0.        , 0.        ,\n",
       "        0.        ],\n",
       "       ...,\n",
       "       [0.        , 0.        , 0.        , ..., 0.        , 0.0584565 ,\n",
       "        0.        ],\n",
       "       [0.        , 0.        , 0.        , ..., 0.0584565 , 0.        ,\n",
       "        0.        ],\n",
       "       [0.        , 0.        , 0.        , ..., 0.        , 0.        ,\n",
       "        0.        ]])"
      ]
     },
     "execution_count": 18,
     "metadata": {},
     "output_type": "execute_result"
    }
   ],
   "source": [
    "ptrDS = graphstats.pass_to_ranks(G_DS)\n",
    "ptrDS"
   ]
  },
  {
   "cell_type": "code",
   "execution_count": 15,
   "metadata": {},
   "outputs": [
    {
     "data": {
      "text/plain": [
       "['GaussianClustering',\n",
       " 'GaussianMixture',\n",
       " 'Graph',\n",
       " 'NonParametricClustering',\n",
       " 'OutOfCoreAdjacencySpectralEmbedding',\n",
       " 'SpectralGraphClustering',\n",
       " 'TruncatedSVD',\n",
       " 'VertexNominationSeededGraphMatching',\n",
       " '__builtins__',\n",
       " '__cached__',\n",
       " '__doc__',\n",
       " '__file__',\n",
       " '__loader__',\n",
       " '__name__',\n",
       " '__package__',\n",
       " '__path__',\n",
       " '__spec__',\n",
       " 'absolute_import',\n",
       " 'adj_spectral_embedding',\n",
       " 'ase',\n",
       " 'dimselect',\n",
       " 'gclass',\n",
       " 'gclust',\n",
       " 'lap_spectral_embedding',\n",
       " 'largest_connected_component',\n",
       " 'lcc',\n",
       " 'lse',\n",
       " 'networkx',\n",
       " 'nonpar',\n",
       " 'norm',\n",
       " 'np',\n",
       " 'num_clust',\n",
       " 'numclust',\n",
       " 'omni',\n",
       " 'oocase',\n",
       " 'pass_to_ranks',\n",
       " 'profile_likelihood',\n",
       " 'ptr',\n",
       " 'sgc',\n",
       " 'vnsgm']"
      ]
     },
     "execution_count": 15,
     "metadata": {},
     "output_type": "execute_result"
    }
   ],
   "source": [
    "dir(graphstats)"
   ]
  },
  {
   "cell_type": "code",
   "execution_count": null,
   "metadata": {
    "collapsed": true
   },
   "outputs": [],
   "source": []
  }
 ],
 "metadata": {
  "kernelspec": {
   "display_name": "Python 3",
   "language": "python",
   "name": "python3"
  },
  "language_info": {
   "codemirror_mode": {
    "name": "ipython",
    "version": 3
   },
   "file_extension": ".py",
   "mimetype": "text/x-python",
   "name": "python",
   "nbconvert_exporter": "python",
   "pygments_lexer": "ipython3",
   "version": "3.6.1"
  }
 },
 "nbformat": 4,
 "nbformat_minor": 2
}
